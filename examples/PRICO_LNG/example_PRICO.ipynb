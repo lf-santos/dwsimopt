{
 "cells": [
  {
   "cell_type": "markdown",
   "metadata": {},
   "source": [
    "\n",
    "<h1 style=\"font-size: 200%\">Single-mixed refrigerant (SMR) natural gas liquefaction process simulation optimization <a href=\"https://doi.org/10.1016/j.ces.2021.116699\" title=\"SMR optimization paper\">[1]</a> </h1>\n",
    "\n",
    "<hr>\n",
    "\n",
    "<h2 style=\"font-size: 150%\">SMR process description</h2>\n",
    "\n",
    "<spam style=\"font-size: 120%\">The single-mixed refrigerant natural gas liquefaction process consists of using a multi-component refrigerant operating in a refrigeration cycle to produce heat sink to cool down and liquefy the natural gas stream, as illustrated in the figure below. The refrigeration cycle includes a four-stage compression system with intermediate cooling and phase separation for possible condensate. The liquid phase is compressed in pumps and the vapor phase in the compressors. No phase mixing is considered, which means that the refrigerant heavy condensate is mixed together and goes through the hot pass in the multi-stream heat exchanger separately from the light vapor phase. Then, the streams are mixed back together in the cold pass inside the cryogenic heat exchanger as they vaporize.</spam>\n",
    "\n",
    "<br/>\n",
    "<br/>\n",
    "<img src=\"pfd_smr.png\" alt=\"process flow diagram image\" style=\"height: 400px\"/>\n",
    "<br/>\n",
    "<br/>\n",
    "\n",
    "<h2 style=\"font-size: 150%\"> SMR process simulation</h2>\n",
    "\n",
    "<spam style=\"font-size: 120%\">The described single-mixed refrigerant natural gas liquefaction process is rather difficult to model and simulate mainly because it involves Pinch-like calculations in each multi-stream heat exchangers (MSHE) considering phase change, cryogenic conditions, and non-ideal mixtures. In other words, these heat exchangers are discretized in temperature segments, where vapor-liquid equilibrium calculations are performed to determine the temperature of every stream and, therefore, the temperature profiles in these operation units. For the sake of process feasibility considering the Second Law of Thermodynamics, the temperatures of hot streams have to be effectively higher than the cold ones throughout the heat exchangers.\n",
    "For rigorous calculations, this process is modeled and simulated in DWSIM v7.0 using Peng-Robinson equation of state, which is appropriate for hydrocarbons mixtures, such as the natural gas and the refrigerant mixtures. The minimum internal temperature approach is calculated using the Python Script in DWSIM. See the simulation ``SMR_2exp_phaseSep_MSHE_MITApy.dwxmz`` for more details.</spam>\n",
    "\n",
    "<br />\n",
    "<br />\n",
    "<img src=\"pfd_prico_dwsim.png\" alt=\"process flow diagram image\" style=\"height: 400px\"/>\n",
    "<br />\n",
    "<br />\n",
    "\n",
    "<h2 style=\"font-size: 150%\">SMR process optimization problem</h2>\n",
    "\n",
    "<spam style=\"font-size: 120%\">Knowing that the work consumption is the most relevant spending in the natural gas liquefaction process, then the design problem is to find $\\textbf{x}^*\\in \\mathbb{R}^n$ that minimizes the following optimization problem</spam>\n",
    "\n",
    "<spam style=\"font-size: 120%\">\n",
    "\n",
    "$$ \\min_{\\textbf{x}\\in \\mathcal{D}}\\ \\ f(\\textbf{x})=\\frac{\\sum_{p\\in PM}{W_p(\\textbf{x})}}{\\dot{m}_{NG}} $$\n",
    "$$ \\text{s.t.} \\ \\ g(\\textbf{x})=3 - MITA(\\textbf{x})\\le 0$$\n",
    "$$ \\mathcal{D}=[\\textbf{x}^{lb},\\ \\textbf{x}^{ub}], $$\n",
    "</spam>\n",
    "\n",
    "<spam style=\"font-size: 120%\"> in which, for a given $\\textbf{x}$, $W_p(\\textbf{x})$ is the work consumption of the pressure manipulator unit $p$ in the set of compressors and pumps $PM$, $MITA(\\textbf{x})$ is the minimum internal temperature approach in the MSHEs, $\\mathcal{D}$ is a box constraint for the decision variables bounded by $\\textbf{x}^{lb}$ and $\\textbf{x}^{ub}$, and $\\dot{m}_{LNG}$ is the mass flow rate of the natural gas stream. Therefore, the objective function $f$ in this optimization problem is the specific work consumed in the refrigeration cycle with respect to the mass flow rate of liquefied natural gas (LNG). Notice that the value of $W_p(\\textbf{x})$ as well as $MITA(\\textbf{x})$ are obtained in the black-box chemical process simulator, and so are $f(\\textbf{x})$ and $g(\\textbf{x})$. Then, $f(\\textbf{x})$ and $g(\\textbf{x})$ are known only at sampled points and make the optimization problem equivalent to equation above.</spam>"
   ]
  },
  {
   "cell_type": "code",
   "execution_count": 1,
   "metadata": {},
   "outputs": [
    {
     "name": "stdout",
     "output_type": "stream",
     "text": [
      "c:\\Users\\lfsfr\\Desktop\\pyDWSIMopt\n"
     ]
    }
   ],
   "source": [
    "import numpy as np\n",
    "from scipy import optimize\n",
    "from pprint import pprint\n",
    "\n",
    "import os \n",
    "from pathlib import Path\n",
    "\n",
    "dir_path = str(Path(os.getcwd()).parent.parent.absolute())\n",
    "print(dir_path)\n",
    "\n",
    "import sys\n",
    "sys.path.append(dir_path)\n",
    "if 'dwsimopt.sim_opt' in sys.modules:  # Is the module in the register?\n",
    "    del sys.modules['dwsimopt.sim_opt']  # If so, remove it.\n",
    "    del SimulationOptimization\n",
    "from dwsimopt.sim_opt import SimulationOptimization"
   ]
  },
  {
   "cell_type": "code",
   "execution_count": 4,
   "metadata": {},
   "outputs": [
    {
     "name": "stdout",
     "output_type": "stream",
     "text": [
      "<class 'Exception'>\n",
      "More refs\n",
      "added refs\n",
      "Simulation was loaded successfully\n"
     ]
    }
   ],
   "source": [
    "# Getting DWSIM path from system path\n",
    "for k,v in enumerate(os.environ['path'].split(';')):\n",
    "    if v.find('\\DWSIM')>-1:\n",
    "        path2dwsim = os.path.join(v, '')\n",
    "if path2dwsim == None:\n",
    "    path2dwsim = \"C:\\\\Users\\\\lfsfr\\\\AppData\\\\Local\\\\DWSIM7\\\\\"\n",
    "\n",
    "# Loading DWSIM simulation into Python (Simulation object)\n",
    "sim_smr = SimulationOptimization(dof=np.array([]), path2sim= os.path.join(dir_path, \"examples\\\\PRICO_LNG\\\\PRICO.dwxmz\"),\n",
    "                     path2dwsim = path2dwsim)\n",
    "sim_smr.savepath = str(os.path.join(dir_path, \"examples\\\\PRICO_LNG\\\\PRICO2.dwxmz\"))\n",
    "sim_smr.add_refs()\n",
    "\n",
    "# Instanciate automation manager object\n",
    "from DWSIM.Automation import Automation2\n",
    "# import clr\n",
    "# clr.AddReference( os.path.join(dir_path, 'dwsimopt\\\\System.Buffers2.dll') )\n",
    "if ('interf' not in locals()):    # create automation manager\n",
    "    interf = Automation2()\n",
    "\n",
    "# Connect simulation in sim.path2sim\n",
    "sim_smr.connect(interf)"
   ]
  },
  {
   "cell_type": "code",
   "execution_count": 5,
   "metadata": {},
   "outputs": [
    {
     "name": "stdout",
     "output_type": "stream",
     "text": [
      "{'dof': array([<function <lambda> at 0x000002437951B4C0>,\n",
      "       <function <lambda> at 0x000002437A029040>,\n",
      "       <function <lambda> at 0x000002437A0290D0>,\n",
      "       <function <lambda> at 0x000002437A029160>,\n",
      "       <function <lambda> at 0x000002437A0291F0>,\n",
      "       <function <lambda> at 0x000002437A029280>], dtype=object),\n",
      " 'f': array([<function <lambda> at 0x000002437A029310>], dtype=object),\n",
      " 'f_val': array([], dtype=float64),\n",
      " 'flowsheet': <DWSIM.UI.Desktop.Shared.Flowsheet object at 0x00000243434446D0>,\n",
      " 'g': array([<function <lambda> at 0x000002437A0293A0>,\n",
      "       <function <lambda> at 0x000002437A029430>,\n",
      "       <function <lambda> at 0x000002437A0294C0>,\n",
      "       <function <lambda> at 0x000002437A029550>,\n",
      "       <function <lambda> at 0x000002437A0295E0>], dtype=object),\n",
      " 'g_val': array([], dtype=float64),\n",
      " 'interface': <DWSIM.Automation.Automation2 object at 0x0000024371C95430>,\n",
      " 'n_dof': 6,\n",
      " 'n_f': 1,\n",
      " 'n_g': 5,\n",
      " 'path2dwsim': 'C:\\\\Users\\\\lfsfr\\\\AppData\\\\Local\\\\DWSIM7\\\\',\n",
      " 'path2sim': 'c:\\\\Users\\\\lfsfr\\\\Desktop\\\\pyDWSIMopt\\\\examples\\\\PRICO_LNG\\\\PRICO.dwxmz',\n",
      " 'savepath': 'c:\\\\Users\\\\lfsfr\\\\Desktop\\\\pyDWSIMopt\\\\examples\\\\PRICO_LNG\\\\PRICO2.dwxmz',\n",
      " 'x_val': array([], dtype=float64)}\n"
     ]
    }
   ],
   "source": [
    "# Add dof\n",
    "def set_comp_massflow(x, simobj):\n",
    "    ms = sim_smr.flowsheet.SimulationObjects[simobj.Name]\n",
    "\n",
    "def set_property(x, obj, property=None):\n",
    "    if property==None:\n",
    "        obj = x\n",
    "    \n",
    "    \n",
    "# #ACCESS PROPERTY CORRECTLY\n",
    "# sim_smr.add_dof(lambda x: set_property(x, sim_smr.flowsheet.SimulationObjects[sim_smr.flowsheet.GetFlowsheetSimulationObject('MSTR-02').Name], property='massflow') )\n",
    "# sim_smr.add_dof(lambda x: set_property(x,  sim_smr.flowsheet.GetFlowsheetSimulationObject(\"n2\").Phases[0].Properties.massflow) )\n",
    "# sim_smr.add_dof(lambda x: set_property(x, sim_smr.flowsheet.GetFlowsheetSimulationObject(\"c1\").Phases[0].Properties.massflow) )\n",
    "# sim_smr.add_dof(lambda x: set_property(x, sim_smr.flowsheet.GetFlowsheetSimulationObject(\"c2\").Phases[0].Properties.massflow) )\n",
    "# sim_smr.add_dof(lambda x: set_property(x, sim_smr.flowsheet.GetFlowsheetSimulationObject(\"c3\").Phases[0].Properties.massflow) )\n",
    "sim_smr.add_dof(lambda x: sim_smr.flowsheet.GetFlowsheetSimulationObject(\"MR-1\").SetOverallCompoundMassFlow(7,x))\n",
    "sim_smr.add_dof(lambda x: sim_smr.flowsheet.GetFlowsheetSimulationObject(\"MR-1\").SetOverallCompoundMassFlow(0,x))\n",
    "sim_smr.add_dof(lambda x: sim_smr.flowsheet.GetFlowsheetSimulationObject(\"MR-1\").SetOverallCompoundMassFlow(1,x))\n",
    "sim_smr.add_dof(lambda x: sim_smr.flowsheet.GetFlowsheetSimulationObject(\"MR-1\").SetOverallCompoundMassFlow(2,x))\n",
    "sim_smr.add_dof( lambda x: set_property(x, sim_smr.flowsheet.GetFlowsheetSimulationObject(\"VALV-01\").OutletPressure) )\n",
    "sim_smr.add_dof( lambda x: set_property(x, sim_smr.flowsheet.GetFlowsheetSimulationObject(\"COMP-4\").POut) )\n",
    "\n",
    "# adding objective function (f_i):\n",
    "sim_smr.add_fobj(lambda : sim_smr.flowsheet.GetFlowsheetSimulationObject(\"Sum_W\").EnergyFlow)\n",
    "\n",
    "# adding constraints (g_i <= 0):\n",
    "sim_smr.add_constraint(np.array([\n",
    "      lambda : 3 - sim_smr.flowsheet.GetFlowsheetSimulationObject(\"MITA1-Calc\").OutputVariables['mita'],\n",
    "      lambda : 10*sim_smr.flowsheet.GetFlowsheetSimulationObject(\"MSTR-27\").Phases[1].Properties.massfraction, # no phase separation in the cycle\n",
    "      lambda : 10*sim_smr.flowsheet.GetFlowsheetSimulationObject(\"MR-1\").Phases[1].Properties.massfraction, # no phase separation in the cycle\n",
    "      lambda : 10*sim_smr.flowsheet.GetFlowsheetSimulationObject(\"MSTR-03\").Phases[1].Properties.massfraction, # no phase separation in the cycle\n",
    "      lambda : 10*sim_smr.flowsheet.GetFlowsheetSimulationObject(\"MSTR-05\").Phases[1].Properties.massfraction, # phase separation before MSHE\n",
    "]))\n",
    "\n",
    "pprint(vars(sim_smr))"
   ]
  },
  {
   "cell_type": "code",
   "execution_count": 10,
   "metadata": {},
   "outputs": [
    {
     "name": "stdout",
     "output_type": "stream",
     "text": [
      "f = [0.46905591], g = [2.28770057 0.         0.         0.         0.        ] at x = [7.47222222e-05 1.46944444e-04 1.71944444e-04 7.90833333e-04\n",
      " 2.30000000e+05 4.80000000e+06]\n",
      "[7.47222222e-05 1.46944444e-04 1.71944444e-04 7.90833333e-04\n",
      " 2.30000000e+05 4.80000000e+06] [0.46905591] [2.28770057 0.         0.         0.         0.        ]\n",
      "{'dof': array([<function <lambda> at 0x000002437951B4C0>,\n",
      "       <function <lambda> at 0x000002437A029040>,\n",
      "       <function <lambda> at 0x000002437A0290D0>,\n",
      "       <function <lambda> at 0x000002437A029160>,\n",
      "       <function <lambda> at 0x000002437A0291F0>,\n",
      "       <function <lambda> at 0x000002437A029280>], dtype=object),\n",
      " 'f': array([<function <lambda> at 0x000002437A029310>], dtype=object),\n",
      " 'f_val': array([0.46905591]),\n",
      " 'flowsheet': <DWSIM.UI.Desktop.Shared.Flowsheet object at 0x00000243434446D0>,\n",
      " 'g': array([<function <lambda> at 0x000002437A0293A0>,\n",
      "       <function <lambda> at 0x000002437A029430>,\n",
      "       <function <lambda> at 0x000002437A0294C0>,\n",
      "       <function <lambda> at 0x000002437A029550>,\n",
      "       <function <lambda> at 0x000002437A0295E0>], dtype=object),\n",
      " 'g_val': array([2.28770057, 0.        , 0.        , 0.        , 0.        ]),\n",
      " 'interface': <DWSIM.Automation.Automation2 object at 0x0000024371C95430>,\n",
      " 'n_dof': 6,\n",
      " 'n_f': 1,\n",
      " 'n_g': 5,\n",
      " 'path2dwsim': 'C:\\\\Users\\\\lfsfr\\\\AppData\\\\Local\\\\DWSIM7\\\\',\n",
      " 'path2sim': 'c:\\\\Users\\\\lfsfr\\\\Desktop\\\\pyDWSIMopt\\\\examples\\\\PRICO_LNG\\\\PRICO.dwxmz',\n",
      " 'savepath': 'c:\\\\Users\\\\lfsfr\\\\Desktop\\\\pyDWSIMopt\\\\examples\\\\PRICO_LNG\\\\PRICO2.dwxmz',\n",
      " 'x_val': array([7.47222222e-05, 1.46944444e-04, 1.71944444e-04, 7.90833333e-04,\n",
      "       2.30000000e+05, 4.80000000e+06])}\n"
     ]
    }
   ],
   "source": [
    "# Initial simulation optimization setup\n",
    "# Initial guess of optimization\n",
    "x0 = np.array( [0.269/3600, 0.529/3600, 0.619/3600, 2.847/3600, 2.3e5, 48.00e5] )\n",
    "\n",
    "# Testing for simulation at x0\n",
    "sim_smr.calculate_optProblem(1.0*x0)\n",
    "print(sim_smr.x_val,\n",
    "      sim_smr.f_val,\n",
    "      sim_smr.g_val)\n",
    "\n",
    "# Test saving simulation at x0 in 'savepath'\n",
    "sim_smr.interface.SaveFlowsheet(sim_smr.flowsheet,sim_smr.savepath,True)\n",
    "\n",
    "# Inspecting simulation object\n",
    "pprint(vars(sim_smr))"
   ]
  },
  {
   "cell_type": "code",
   "execution_count": 11,
   "metadata": {},
   "outputs": [],
   "source": [
    "# Setup for optimization\n",
    "# convergence tolerances\n",
    "xtol=0.01\n",
    "ftol=0.01\n",
    "maxiter=5 # +- 20 seconds per iteration\n",
    "\n",
    "# decision variables bounds\n",
    "bounds_raw = np.array( [0.5*np.asarray(x0), 1.5*np.asarray(x0)] )   # 50 % around base case\n",
    "bounds_raw[0][-1] = 153     # precool temperature low limit manually\n",
    "bounds_raw[1][-1] = 253     # precool temperature upper limit manually\n",
    "\n",
    "# regularizer calculation\n",
    "regularizer = np.zeros(x0.size)\n",
    "import math\n",
    "for i in range(len(regularizer)):\n",
    "    regularizer[i] = 10**(-1*math.floor(math.log(x0[i],10))) # regularizer for magnitude order of 1e0\n",
    "\n",
    "# bounds regularized\n",
    "bounds_reg = regularizer*bounds_raw\n",
    "bounds = optimize.Bounds(bounds_reg[0], bounds_reg[1])\n",
    "\n",
    "# objective and constraints lambda definitions\n",
    "f = lambda x: sim_smr.calculate_optProblem(np.asarray(x)/regularizer)[0:sim_smr.n_f]\n",
    "g = lambda x: sim_smr.calculate_optProblem(np.asarray(x)/regularizer)[sim_smr.n_f:(sim_smr.n_f+sim_smr.n_g)]\n",
    "nonlinear_constraint = optimize.NonlinearConstraint(g, -np.inf, 0, jac='2-point', hess=optimize.BFGS())"
   ]
  },
  {
   "cell_type": "code",
   "execution_count": 12,
   "metadata": {},
   "outputs": [
    {
     "name": "stdout",
     "output_type": "stream",
     "text": [
      "1\n",
      "5\n",
      "f = [0.46905591], g = [2.28770057 0.         0.         0.         0.        ] at x = [7.47222222e-05 1.46944444e-04 1.71944444e-04 7.90833333e-04\n",
      " 2.30000000e+05 4.80000000e+06]\n",
      "[0.46905591]\n",
      "[2.28770057 0.         0.         0.         0.        ]\n"
     ]
    }
   ],
   "source": [
    "print(sim_smr.n_f)\n",
    "print(sim_smr.n_g)\n",
    "res = sim_smr.calculate_optProblem(x0)\n",
    "print(res[0:sim_smr.n_f])\n",
    "print(res[sim_smr.n_f:(sim_smr.n_f+sim_smr.n_g)])"
   ]
  },
  {
   "cell_type": "code",
   "execution_count": 85,
   "metadata": {},
   "outputs": [],
   "source": [
    "# Local optimization with trust-region -> working to some extent\n",
    "# print(\"starting local optimization\")\n",
    "# result = optimize.minimize( f, np.asarray(x0)*regularizer, \n",
    "#             method='trust-constr', jac='2-point', hess=optimize.BFGS(),\n",
    "#             constraints=[nonlinear_constraint], bounds=bounds, callback=None,\n",
    "#             options={'verbose': 3, \n",
    "#                      'xtol': xtol, \n",
    "#                      'maxiter': 1*maxiter, \n",
    "#                      'finite_diff_rel_step': None, \n",
    "#                      'initial_tr_radius': 0.1} )"
   ]
  },
  {
   "cell_type": "code",
   "execution_count": 13,
   "metadata": {},
   "outputs": [
    {
     "name": "stdout",
     "output_type": "stream",
     "text": [
      "f = [0.50074499], g = [7.74070325 0.         0.         0.         0.        ] at x = [1.10419609e-04 7.85835861e-05 2.01911547e-04 1.13662204e-03\n",
      " 2.02129894e+05 2.14641564e+02]\n",
      "f = [0.4781096], g = [71.41007909  0.          0.          0.          0.        ] at x = [8.87563826e-05 1.66106780e-04 2.53976316e-04 5.02135906e-04\n",
      " 1.80043073e+05 1.66151735e+02]\n",
      "f = [0.34471202], g = [113.16382634   0.           0.           0.           0.        ] at x = [9.14141632e-05 1.15365659e-04 1.10303465e-04 4.02632003e-04\n",
      " 1.82835658e+05 2.46627836e+02]\n",
      "f = [0.49002758], g = [2.25780137 0.         0.         0.         0.        ] at x = [8.76853108e-05 1.50368938e-04 1.55768990e-04 8.72019138e-04\n",
      " 1.35955618e+05 2.26990546e+02]\n",
      "f = [0.43332616], g = [9.74830245 0.         0.         0.         0.        ] at x = [6.17187294e-05 9.26963463e-05 1.50284793e-04 9.88469391e-04\n",
      " 3.15047629e+05 2.06969483e+02]\n",
      "f = [0.45426502], g = [42.12409692  0.          0.          0.          0.        ] at x = [8.30830039e-05 1.66903031e-04 1.40683410e-04 6.48760683e-04\n",
      " 1.26463175e+05 2.40229760e+02]\n",
      "f = [0.37025026], g = [9.72843447 0.         0.         0.         0.        ] at x = [5.41889394e-05 1.04047831e-04 1.11768962e-04 7.10532685e-04\n",
      " 2.26701532e+05 2.15020895e+02]\n",
      "f = [0.32372742], g = [28.45369786  0.          0.          0.          0.        ] at x = [5.15683602e-05 7.51116307e-05 1.42588371e-04 5.70978904e-04\n",
      " 1.23807105e+05 2.40517383e+02]\n",
      "f = [0.36163616], g = [54.67737036  0.          0.          0.          0.        ] at x = [6.84373929e-05 1.19805528e-04 1.00475574e-04 5.61680434e-04\n",
      " 1.35908836e+05 2.05234244e+02]\n"
     ]
    },
    {
     "ename": "KeyboardInterrupt",
     "evalue": "",
     "output_type": "error",
     "traceback": [
      "\u001b[1;31m---------------------------------------------------------------------------\u001b[0m",
      "\u001b[1;31mKeyboardInterrupt\u001b[0m                         Traceback (most recent call last)",
      "\u001b[1;32m~\\AppData\\Local\\Temp/ipykernel_17544/3170067368.py\u001b[0m in \u001b[0;36m<module>\u001b[1;34m\u001b[0m\n\u001b[0;32m      3\u001b[0m \u001b[1;33m\u001b[0m\u001b[0m\n\u001b[0;32m      4\u001b[0m \u001b[1;31m# f_pen = lambda x: fpen_barrier(sim_smr,x/regularizer)\u001b[0m\u001b[1;33m\u001b[0m\u001b[1;33m\u001b[0m\u001b[1;33m\u001b[0m\u001b[0m\n\u001b[1;32m----> 5\u001b[1;33m \u001b[0mresult_pso\u001b[0m \u001b[1;33m=\u001b[0m \u001b[0mPSO\u001b[0m\u001b[1;33m(\u001b[0m\u001b[0mfunc\u001b[0m\u001b[1;33m=\u001b[0m \u001b[1;32mlambda\u001b[0m \u001b[0mx\u001b[0m\u001b[1;33m:\u001b[0m \u001b[0msim_smr\u001b[0m\u001b[1;33m.\u001b[0m\u001b[0mfpen_barrier\u001b[0m\u001b[1;33m(\u001b[0m\u001b[0mx\u001b[0m\u001b[1;33m/\u001b[0m\u001b[0mregularizer\u001b[0m\u001b[1;33m)\u001b[0m\u001b[1;33m,\u001b[0m \u001b[0mn_dim\u001b[0m\u001b[1;33m=\u001b[0m\u001b[0msim_smr\u001b[0m\u001b[1;33m.\u001b[0m\u001b[0mn_dof\u001b[0m\u001b[1;33m,\u001b[0m \u001b[0mpop\u001b[0m\u001b[1;33m=\u001b[0m\u001b[1;36m2\u001b[0m\u001b[1;33m*\u001b[0m\u001b[0msim_smr\u001b[0m\u001b[1;33m.\u001b[0m\u001b[0mn_dof\u001b[0m\u001b[1;33m,\u001b[0m \u001b[0mmax_iter\u001b[0m\u001b[1;33m=\u001b[0m\u001b[1;36m15\u001b[0m\u001b[1;33m,\u001b[0m \u001b[0mlb\u001b[0m\u001b[1;33m=\u001b[0m\u001b[0mbounds_reg\u001b[0m\u001b[1;33m[\u001b[0m\u001b[1;36m0\u001b[0m\u001b[1;33m]\u001b[0m\u001b[1;33m,\u001b[0m \u001b[0mub\u001b[0m\u001b[1;33m=\u001b[0m\u001b[0mbounds_reg\u001b[0m\u001b[1;33m[\u001b[0m\u001b[1;36m1\u001b[0m\u001b[1;33m]\u001b[0m\u001b[1;33m,\u001b[0m \u001b[0mverbose\u001b[0m\u001b[1;33m=\u001b[0m\u001b[1;32mTrue\u001b[0m\u001b[1;33m)\u001b[0m\u001b[1;33m\u001b[0m\u001b[1;33m\u001b[0m\u001b[0m\n\u001b[0m\u001b[0;32m      6\u001b[0m \u001b[0mresult_pso\u001b[0m\u001b[1;33m.\u001b[0m\u001b[0mrecord_mode\u001b[0m \u001b[1;33m=\u001b[0m \u001b[1;32mTrue\u001b[0m\u001b[1;33m\u001b[0m\u001b[1;33m\u001b[0m\u001b[0m\n\u001b[0;32m      7\u001b[0m \u001b[1;32mif\u001b[0m \u001b[0msim_smr\u001b[0m\u001b[1;33m.\u001b[0m\u001b[0mn_f\u001b[0m \u001b[1;33m>\u001b[0m \u001b[1;36m1\u001b[0m\u001b[1;33m:\u001b[0m\u001b[1;33m\u001b[0m\u001b[1;33m\u001b[0m\u001b[0m\n",
      "\u001b[1;32mc:\\Users\\lfsfr\\Desktop\\pyDWSIMopt\\venv\\lib\\site-packages\\sko\\PSO.py\u001b[0m in \u001b[0;36m__init__\u001b[1;34m(self, func, n_dim, pop, max_iter, lb, ub, w, c1, c2, constraint_eq, constraint_ueq, verbose, dim)\u001b[0m\n\u001b[0;32m    104\u001b[0m         \u001b[0mv_high\u001b[0m \u001b[1;33m=\u001b[0m \u001b[0mself\u001b[0m\u001b[1;33m.\u001b[0m\u001b[0mub\u001b[0m \u001b[1;33m-\u001b[0m \u001b[0mself\u001b[0m\u001b[1;33m.\u001b[0m\u001b[0mlb\u001b[0m\u001b[1;33m\u001b[0m\u001b[1;33m\u001b[0m\u001b[0m\n\u001b[0;32m    105\u001b[0m         \u001b[0mself\u001b[0m\u001b[1;33m.\u001b[0m\u001b[0mV\u001b[0m \u001b[1;33m=\u001b[0m \u001b[0mnp\u001b[0m\u001b[1;33m.\u001b[0m\u001b[0mrandom\u001b[0m\u001b[1;33m.\u001b[0m\u001b[0muniform\u001b[0m\u001b[1;33m(\u001b[0m\u001b[0mlow\u001b[0m\u001b[1;33m=\u001b[0m\u001b[1;33m-\u001b[0m\u001b[0mv_high\u001b[0m\u001b[1;33m,\u001b[0m \u001b[0mhigh\u001b[0m\u001b[1;33m=\u001b[0m\u001b[0mv_high\u001b[0m\u001b[1;33m,\u001b[0m \u001b[0msize\u001b[0m\u001b[1;33m=\u001b[0m\u001b[1;33m(\u001b[0m\u001b[0mself\u001b[0m\u001b[1;33m.\u001b[0m\u001b[0mpop\u001b[0m\u001b[1;33m,\u001b[0m \u001b[0mself\u001b[0m\u001b[1;33m.\u001b[0m\u001b[0mn_dim\u001b[0m\u001b[1;33m)\u001b[0m\u001b[1;33m)\u001b[0m  \u001b[1;31m# speed of particles\u001b[0m\u001b[1;33m\u001b[0m\u001b[1;33m\u001b[0m\u001b[0m\n\u001b[1;32m--> 106\u001b[1;33m         \u001b[0mself\u001b[0m\u001b[1;33m.\u001b[0m\u001b[0mY\u001b[0m \u001b[1;33m=\u001b[0m \u001b[0mself\u001b[0m\u001b[1;33m.\u001b[0m\u001b[0mcal_y\u001b[0m\u001b[1;33m(\u001b[0m\u001b[1;33m)\u001b[0m  \u001b[1;31m# y = f(x) for all particles\u001b[0m\u001b[1;33m\u001b[0m\u001b[1;33m\u001b[0m\u001b[0m\n\u001b[0m\u001b[0;32m    107\u001b[0m         \u001b[0mself\u001b[0m\u001b[1;33m.\u001b[0m\u001b[0mpbest_x\u001b[0m \u001b[1;33m=\u001b[0m \u001b[0mself\u001b[0m\u001b[1;33m.\u001b[0m\u001b[0mX\u001b[0m\u001b[1;33m.\u001b[0m\u001b[0mcopy\u001b[0m\u001b[1;33m(\u001b[0m\u001b[1;33m)\u001b[0m  \u001b[1;31m# personal best location of every particle in history\u001b[0m\u001b[1;33m\u001b[0m\u001b[1;33m\u001b[0m\u001b[0m\n\u001b[0;32m    108\u001b[0m         \u001b[0mself\u001b[0m\u001b[1;33m.\u001b[0m\u001b[0mpbest_y\u001b[0m \u001b[1;33m=\u001b[0m \u001b[0mnp\u001b[0m\u001b[1;33m.\u001b[0m\u001b[0marray\u001b[0m\u001b[1;33m(\u001b[0m\u001b[1;33m[\u001b[0m\u001b[1;33m[\u001b[0m\u001b[0mnp\u001b[0m\u001b[1;33m.\u001b[0m\u001b[0minf\u001b[0m\u001b[1;33m]\u001b[0m\u001b[1;33m]\u001b[0m \u001b[1;33m*\u001b[0m \u001b[0mpop\u001b[0m\u001b[1;33m)\u001b[0m  \u001b[1;31m# best image of every particle in history\u001b[0m\u001b[1;33m\u001b[0m\u001b[1;33m\u001b[0m\u001b[0m\n",
      "\u001b[1;32mc:\\Users\\lfsfr\\Desktop\\pyDWSIMopt\\venv\\lib\\site-packages\\sko\\PSO.py\u001b[0m in \u001b[0;36mcal_y\u001b[1;34m(self)\u001b[0m\n\u001b[0;32m    137\u001b[0m     \u001b[1;32mdef\u001b[0m \u001b[0mcal_y\u001b[0m\u001b[1;33m(\u001b[0m\u001b[0mself\u001b[0m\u001b[1;33m)\u001b[0m\u001b[1;33m:\u001b[0m\u001b[1;33m\u001b[0m\u001b[1;33m\u001b[0m\u001b[0m\n\u001b[0;32m    138\u001b[0m         \u001b[1;31m# calculate y for every x in X\u001b[0m\u001b[1;33m\u001b[0m\u001b[1;33m\u001b[0m\u001b[1;33m\u001b[0m\u001b[0m\n\u001b[1;32m--> 139\u001b[1;33m         \u001b[0mself\u001b[0m\u001b[1;33m.\u001b[0m\u001b[0mY\u001b[0m \u001b[1;33m=\u001b[0m \u001b[0mself\u001b[0m\u001b[1;33m.\u001b[0m\u001b[0mfunc\u001b[0m\u001b[1;33m(\u001b[0m\u001b[0mself\u001b[0m\u001b[1;33m.\u001b[0m\u001b[0mX\u001b[0m\u001b[1;33m)\u001b[0m\u001b[1;33m.\u001b[0m\u001b[0mreshape\u001b[0m\u001b[1;33m(\u001b[0m\u001b[1;33m-\u001b[0m\u001b[1;36m1\u001b[0m\u001b[1;33m,\u001b[0m \u001b[1;36m1\u001b[0m\u001b[1;33m)\u001b[0m\u001b[1;33m\u001b[0m\u001b[1;33m\u001b[0m\u001b[0m\n\u001b[0m\u001b[0;32m    140\u001b[0m         \u001b[1;32mreturn\u001b[0m \u001b[0mself\u001b[0m\u001b[1;33m.\u001b[0m\u001b[0mY\u001b[0m\u001b[1;33m\u001b[0m\u001b[1;33m\u001b[0m\u001b[0m\n\u001b[0;32m    141\u001b[0m \u001b[1;33m\u001b[0m\u001b[0m\n",
      "\u001b[1;32mc:\\Users\\lfsfr\\Desktop\\pyDWSIMopt\\venv\\lib\\site-packages\\sko\\tools.py\u001b[0m in \u001b[0;36mfunc_transformed\u001b[1;34m(X)\u001b[0m\n\u001b[0;32m    111\u001b[0m     \u001b[1;32melse\u001b[0m\u001b[1;33m:\u001b[0m  \u001b[1;31m# common\u001b[0m\u001b[1;33m\u001b[0m\u001b[1;33m\u001b[0m\u001b[0m\n\u001b[0;32m    112\u001b[0m         \u001b[1;32mdef\u001b[0m \u001b[0mfunc_transformed\u001b[0m\u001b[1;33m(\u001b[0m\u001b[0mX\u001b[0m\u001b[1;33m)\u001b[0m\u001b[1;33m:\u001b[0m\u001b[1;33m\u001b[0m\u001b[1;33m\u001b[0m\u001b[0m\n\u001b[1;32m--> 113\u001b[1;33m             \u001b[1;32mreturn\u001b[0m \u001b[0mnp\u001b[0m\u001b[1;33m.\u001b[0m\u001b[0marray\u001b[0m\u001b[1;33m(\u001b[0m\u001b[1;33m[\u001b[0m\u001b[0mfunc\u001b[0m\u001b[1;33m(\u001b[0m\u001b[0mx\u001b[0m\u001b[1;33m)\u001b[0m \u001b[1;32mfor\u001b[0m \u001b[0mx\u001b[0m \u001b[1;32min\u001b[0m \u001b[0mX\u001b[0m\u001b[1;33m]\u001b[0m\u001b[1;33m)\u001b[0m\u001b[1;33m\u001b[0m\u001b[1;33m\u001b[0m\u001b[0m\n\u001b[0m\u001b[0;32m    114\u001b[0m \u001b[1;33m\u001b[0m\u001b[0m\n\u001b[0;32m    115\u001b[0m         \u001b[1;32mreturn\u001b[0m \u001b[0mfunc_transformed\u001b[0m\u001b[1;33m\u001b[0m\u001b[1;33m\u001b[0m\u001b[0m\n",
      "\u001b[1;32mc:\\Users\\lfsfr\\Desktop\\pyDWSIMopt\\venv\\lib\\site-packages\\sko\\tools.py\u001b[0m in \u001b[0;36m<listcomp>\u001b[1;34m(.0)\u001b[0m\n\u001b[0;32m    111\u001b[0m     \u001b[1;32melse\u001b[0m\u001b[1;33m:\u001b[0m  \u001b[1;31m# common\u001b[0m\u001b[1;33m\u001b[0m\u001b[1;33m\u001b[0m\u001b[0m\n\u001b[0;32m    112\u001b[0m         \u001b[1;32mdef\u001b[0m \u001b[0mfunc_transformed\u001b[0m\u001b[1;33m(\u001b[0m\u001b[0mX\u001b[0m\u001b[1;33m)\u001b[0m\u001b[1;33m:\u001b[0m\u001b[1;33m\u001b[0m\u001b[1;33m\u001b[0m\u001b[0m\n\u001b[1;32m--> 113\u001b[1;33m             \u001b[1;32mreturn\u001b[0m \u001b[0mnp\u001b[0m\u001b[1;33m.\u001b[0m\u001b[0marray\u001b[0m\u001b[1;33m(\u001b[0m\u001b[1;33m[\u001b[0m\u001b[0mfunc\u001b[0m\u001b[1;33m(\u001b[0m\u001b[0mx\u001b[0m\u001b[1;33m)\u001b[0m \u001b[1;32mfor\u001b[0m \u001b[0mx\u001b[0m \u001b[1;32min\u001b[0m \u001b[0mX\u001b[0m\u001b[1;33m]\u001b[0m\u001b[1;33m)\u001b[0m\u001b[1;33m\u001b[0m\u001b[1;33m\u001b[0m\u001b[0m\n\u001b[0m\u001b[0;32m    114\u001b[0m \u001b[1;33m\u001b[0m\u001b[0m\n\u001b[0;32m    115\u001b[0m         \u001b[1;32mreturn\u001b[0m \u001b[0mfunc_transformed\u001b[0m\u001b[1;33m\u001b[0m\u001b[1;33m\u001b[0m\u001b[0m\n",
      "\u001b[1;32m~\\AppData\\Local\\Temp/ipykernel_17544/3170067368.py\u001b[0m in \u001b[0;36m<lambda>\u001b[1;34m(x)\u001b[0m\n\u001b[0;32m      3\u001b[0m \u001b[1;33m\u001b[0m\u001b[0m\n\u001b[0;32m      4\u001b[0m \u001b[1;31m# f_pen = lambda x: fpen_barrier(sim_smr,x/regularizer)\u001b[0m\u001b[1;33m\u001b[0m\u001b[1;33m\u001b[0m\u001b[1;33m\u001b[0m\u001b[0m\n\u001b[1;32m----> 5\u001b[1;33m \u001b[0mresult_pso\u001b[0m \u001b[1;33m=\u001b[0m \u001b[0mPSO\u001b[0m\u001b[1;33m(\u001b[0m\u001b[0mfunc\u001b[0m\u001b[1;33m=\u001b[0m \u001b[1;32mlambda\u001b[0m \u001b[0mx\u001b[0m\u001b[1;33m:\u001b[0m \u001b[0msim_smr\u001b[0m\u001b[1;33m.\u001b[0m\u001b[0mfpen_barrier\u001b[0m\u001b[1;33m(\u001b[0m\u001b[0mx\u001b[0m\u001b[1;33m/\u001b[0m\u001b[0mregularizer\u001b[0m\u001b[1;33m)\u001b[0m\u001b[1;33m,\u001b[0m \u001b[0mn_dim\u001b[0m\u001b[1;33m=\u001b[0m\u001b[0msim_smr\u001b[0m\u001b[1;33m.\u001b[0m\u001b[0mn_dof\u001b[0m\u001b[1;33m,\u001b[0m \u001b[0mpop\u001b[0m\u001b[1;33m=\u001b[0m\u001b[1;36m2\u001b[0m\u001b[1;33m*\u001b[0m\u001b[0msim_smr\u001b[0m\u001b[1;33m.\u001b[0m\u001b[0mn_dof\u001b[0m\u001b[1;33m,\u001b[0m \u001b[0mmax_iter\u001b[0m\u001b[1;33m=\u001b[0m\u001b[1;36m15\u001b[0m\u001b[1;33m,\u001b[0m \u001b[0mlb\u001b[0m\u001b[1;33m=\u001b[0m\u001b[0mbounds_reg\u001b[0m\u001b[1;33m[\u001b[0m\u001b[1;36m0\u001b[0m\u001b[1;33m]\u001b[0m\u001b[1;33m,\u001b[0m \u001b[0mub\u001b[0m\u001b[1;33m=\u001b[0m\u001b[0mbounds_reg\u001b[0m\u001b[1;33m[\u001b[0m\u001b[1;36m1\u001b[0m\u001b[1;33m]\u001b[0m\u001b[1;33m,\u001b[0m \u001b[0mverbose\u001b[0m\u001b[1;33m=\u001b[0m\u001b[1;32mTrue\u001b[0m\u001b[1;33m)\u001b[0m\u001b[1;33m\u001b[0m\u001b[1;33m\u001b[0m\u001b[0m\n\u001b[0m\u001b[0;32m      6\u001b[0m \u001b[0mresult_pso\u001b[0m\u001b[1;33m.\u001b[0m\u001b[0mrecord_mode\u001b[0m \u001b[1;33m=\u001b[0m \u001b[1;32mTrue\u001b[0m\u001b[1;33m\u001b[0m\u001b[1;33m\u001b[0m\u001b[0m\n\u001b[0;32m      7\u001b[0m \u001b[1;32mif\u001b[0m \u001b[0msim_smr\u001b[0m\u001b[1;33m.\u001b[0m\u001b[0mn_f\u001b[0m \u001b[1;33m>\u001b[0m \u001b[1;36m1\u001b[0m\u001b[1;33m:\u001b[0m\u001b[1;33m\u001b[0m\u001b[1;33m\u001b[0m\u001b[0m\n",
      "\u001b[1;32mc:\\users\\lfsfr\\desktop\\pydwsimopt\\pyDWSIMopt\\sim_opt.py\u001b[0m in \u001b[0;36mfpen_barrier\u001b[1;34m(self, x, pen)\u001b[0m\n\u001b[0;32m    179\u001b[0m             \u001b[0mfloat\u001b[0m\u001b[1;33m:\u001b[0m \u001b[0mPenalized\u001b[0m \u001b[0mobjective\u001b[0m \u001b[0mfunction\u001b[0m\u001b[1;33m.\u001b[0m\u001b[1;33m\u001b[0m\u001b[1;33m\u001b[0m\u001b[0m\n\u001b[0;32m    180\u001b[0m         \"\"\"\n\u001b[1;32m--> 181\u001b[1;33m         \u001b[0mself\u001b[0m\u001b[1;33m.\u001b[0m\u001b[0mcalculate_optProblem\u001b[0m\u001b[1;33m(\u001b[0m\u001b[0mx\u001b[0m\u001b[1;33m)\u001b[0m\u001b[1;33m\u001b[0m\u001b[1;33m\u001b[0m\u001b[0m\n\u001b[0m\u001b[0;32m    182\u001b[0m         \u001b[0mfpen\u001b[0m \u001b[1;33m=\u001b[0m \u001b[1;36m0\u001b[0m\u001b[1;33m\u001b[0m\u001b[1;33m\u001b[0m\u001b[0m\n\u001b[0;32m    183\u001b[0m         \u001b[1;32mfor\u001b[0m \u001b[0mi\u001b[0m \u001b[1;32min\u001b[0m \u001b[0mrange\u001b[0m\u001b[1;33m(\u001b[0m\u001b[0mself\u001b[0m\u001b[1;33m.\u001b[0m\u001b[0mn_f\u001b[0m\u001b[1;33m)\u001b[0m\u001b[1;33m:\u001b[0m\u001b[1;33m\u001b[0m\u001b[1;33m\u001b[0m\u001b[0m\n",
      "\u001b[1;32mc:\\users\\lfsfr\\desktop\\pydwsimopt\\pyDWSIMopt\\sim_opt.py\u001b[0m in \u001b[0;36mcalculate_optProblem\u001b[1;34m(self, x)\u001b[0m\n\u001b[0;32m    158\u001b[0m             \u001b[0mdelta_x\u001b[0m \u001b[1;33m=\u001b[0m \u001b[1;36m1\u001b[0m\u001b[1;33m\u001b[0m\u001b[1;33m\u001b[0m\u001b[0m\n\u001b[0;32m    159\u001b[0m         \u001b[1;32mif\u001b[0m \u001b[0mdelta_x\u001b[0m \u001b[1;33m>\u001b[0m \u001b[1;36m1e-10\u001b[0m\u001b[1;33m:\u001b[0m\u001b[1;33m\u001b[0m\u001b[1;33m\u001b[0m\u001b[0m\n\u001b[1;32m--> 160\u001b[1;33m             \u001b[0mself\u001b[0m\u001b[1;33m.\u001b[0m\u001b[0mconverge_simulation\u001b[0m\u001b[1;33m(\u001b[0m\u001b[0mx\u001b[0m\u001b[1;33m)\u001b[0m\u001b[1;33m\u001b[0m\u001b[1;33m\u001b[0m\u001b[0m\n\u001b[0m\u001b[0;32m    161\u001b[0m             \u001b[0mself\u001b[0m\u001b[1;33m.\u001b[0m\u001b[0mx_val\u001b[0m \u001b[1;33m=\u001b[0m \u001b[0mnp\u001b[0m\u001b[1;33m.\u001b[0m\u001b[0marray\u001b[0m\u001b[1;33m(\u001b[0m\u001b[0mx\u001b[0m\u001b[1;33m)\u001b[0m\u001b[1;33m\u001b[0m\u001b[1;33m\u001b[0m\u001b[0m\n\u001b[0;32m    162\u001b[0m             \u001b[0mself\u001b[0m\u001b[1;33m.\u001b[0m\u001b[0mf_val\u001b[0m \u001b[1;33m=\u001b[0m \u001b[0mnp\u001b[0m\u001b[1;33m.\u001b[0m\u001b[0mzeros\u001b[0m\u001b[1;33m(\u001b[0m\u001b[0mself\u001b[0m\u001b[1;33m.\u001b[0m\u001b[0mf\u001b[0m\u001b[1;33m.\u001b[0m\u001b[0msize\u001b[0m\u001b[1;33m)\u001b[0m\u001b[1;33m\u001b[0m\u001b[1;33m\u001b[0m\u001b[0m\n",
      "\u001b[1;32mc:\\users\\lfsfr\\desktop\\pydwsimopt\\pyDWSIMopt\\sim_opt.py\u001b[0m in \u001b[0;36mconverge_simulation\u001b[1;34m(self, x)\u001b[0m\n\u001b[0;32m    137\u001b[0m         \u001b[0merror\u001b[0m \u001b[1;33m=\u001b[0m \u001b[0mself\u001b[0m\u001b[1;33m.\u001b[0m\u001b[0minterface\u001b[0m\u001b[1;33m.\u001b[0m\u001b[0mCalculateFlowsheet2\u001b[0m\u001b[1;33m(\u001b[0m\u001b[0mself\u001b[0m\u001b[1;33m.\u001b[0m\u001b[0mflowsheet\u001b[0m\u001b[1;33m)\u001b[0m\u001b[1;33m\u001b[0m\u001b[1;33m\u001b[0m\u001b[0m\n\u001b[0;32m    138\u001b[0m         \u001b[0mtime\u001b[0m\u001b[1;33m.\u001b[0m\u001b[0msleep\u001b[0m\u001b[1;33m(\u001b[0m\u001b[1;36m0.05\u001b[0m\u001b[1;33m)\u001b[0m\u001b[1;33m\u001b[0m\u001b[1;33m\u001b[0m\u001b[0m\n\u001b[1;32m--> 139\u001b[1;33m         \u001b[0merror\u001b[0m \u001b[1;33m=\u001b[0m \u001b[0mself\u001b[0m\u001b[1;33m.\u001b[0m\u001b[0minterface\u001b[0m\u001b[1;33m.\u001b[0m\u001b[0mCalculateFlowsheet2\u001b[0m\u001b[1;33m(\u001b[0m\u001b[0mself\u001b[0m\u001b[1;33m.\u001b[0m\u001b[0mflowsheet\u001b[0m\u001b[1;33m)\u001b[0m\u001b[1;33m\u001b[0m\u001b[1;33m\u001b[0m\u001b[0m\n\u001b[0m\u001b[0;32m    140\u001b[0m         \u001b[0mtime\u001b[0m\u001b[1;33m.\u001b[0m\u001b[0msleep\u001b[0m\u001b[1;33m(\u001b[0m\u001b[1;36m0.05\u001b[0m\u001b[1;33m)\u001b[0m\u001b[1;33m\u001b[0m\u001b[1;33m\u001b[0m\u001b[0m\n\u001b[0;32m    141\u001b[0m         \u001b[0merror\u001b[0m \u001b[1;33m=\u001b[0m \u001b[0mself\u001b[0m\u001b[1;33m.\u001b[0m\u001b[0minterface\u001b[0m\u001b[1;33m.\u001b[0m\u001b[0mCalculateFlowsheet2\u001b[0m\u001b[1;33m(\u001b[0m\u001b[0mself\u001b[0m\u001b[1;33m.\u001b[0m\u001b[0mflowsheet\u001b[0m\u001b[1;33m)\u001b[0m\u001b[1;33m\u001b[0m\u001b[1;33m\u001b[0m\u001b[0m\n",
      "\u001b[1;31mKeyboardInterrupt\u001b[0m: "
     ]
    }
   ],
   "source": [
    "# Global optimization with PSO\n",
    "from sko.PSO import PSO\n",
    "\n",
    "# f_pen = lambda x: fpen_barrier(sim_smr,x/regularizer)\n",
    "result_pso = PSO(func= lambda x: sim_smr.fpen_barrier(x/regularizer), n_dim=sim_smr.n_dof, pop=2*sim_smr.n_dof, max_iter=15, lb=bounds_reg[0], ub=bounds_reg[1], verbose=True)\n",
    "result_pso.record_mode = True\n",
    "if sim_smr.n_f > 1:\n",
    "    print(\"Multi-objective optimization not supported (yet)\")\n",
    "elif sim_smr.n_f < 1:\n",
    "    print(\"Invalid number of objective functions\")\n",
    "else:\n",
    "    print(\"Starting global optimization\")\n",
    "    result_pso.run()"
   ]
  },
  {
   "cell_type": "code",
   "execution_count": 89,
   "metadata": {},
   "outputs": [
    {
     "name": "stdout",
     "output_type": "stream",
     "text": [
      "f = [0.46624471], g = [-2.45995166 -0.59711282  0.          1.60823498] at x = [6.11533445e-05 2.06100714e-04 4.16666667e-04 4.58333333e-04\n",
      " 2.90757488e-04 2.20924531e+05 7.50000000e+06 2.49192230e+02]\n",
      "[ 0.46624471 -2.45995166 -0.59711282  0.          1.60823498]\n"
     ]
    }
   ],
   "source": [
    "# printing results of global optimization with Differential Evolution\n",
    "xpso = np.array([6.17810197e-05, 2.74573937e-04, 3.91942260e-04, 3.15410796e-04,\n",
    " 2.66089439e-04, 1.96572335e+05, 4.53996283e+06, 2.45857440e+02])\n",
    "xpso = result_pso.gbest_x/regularizer\n",
    "print(sim_smr.calculate_optProblem(xpso))\n",
    "\n",
    "# saving results of local optimization with Differential Evolution\n",
    "sim_smr.interface.SaveFlowsheet(sim_smr.flowsheet, sim_smr.savepath,True)"
   ]
  },
  {
   "cell_type": "code",
   "execution_count": 90,
   "metadata": {},
   "outputs": [
    {
     "name": "stdout",
     "output_type": "stream",
     "text": [
      "f = [0.46624471], g = [-2.45995166 -0.59711282  0.          1.60823498] at x = [6.11533445e-05 2.06100714e-04 4.16666667e-04 4.58333333e-04\n",
      " 2.90757488e-04 2.20924531e+05 7.50000000e+06 2.49192230e+02]\n",
      "[0.46624471]\n",
      "f = [0.46624471], g = [-2.45995166 -0.59711282  0.          1.60823498] at x = [6.11533445e-05 2.06100714e-04 4.16666667e-04 4.58333333e-04\n",
      " 2.90757488e-04 2.20924531e+05 7.50000000e+06 2.49192230e+02]\n",
      "[-2.45995166 -0.59711282  0.          1.60823498]\n",
      "[0.61153345 2.06100714 4.16666667 4.58333333 2.90757488 2.20924531\n",
      " 7.5        2.4919223 ]\n",
      "<sko.PSO.PSO object at 0x000002143C55D5B0>\n"
     ]
    },
    {
     "data": {
      "image/png": "[encoded data removed]",
      "image/svg+xml": "<?xml version=\"1.0\" encoding=\"utf-8\" standalone=\"no\"?>\n<!DOCTYPE svg PUBLIC \"-//W3C//DTD SVG 1.1//EN\"\n  \"http://www.w3.org/Graphics/SVG/1.1/DTD/svg11.dtd\">\n<svg xmlns:xlink=\"http://www.w3.org/1999/xlink\" width=\"381.65pt\" height=\"248.518125pt\" viewBox=\"0 0 381.65 248.518125\" xmlns=\"http://www.w3.org/2000/svg\" version=\"1.1\">\n <metadata>\n  <rdf:RDF xmlns:dc=\"http://purl.org/dc/elements/1.1/\" xmlns:cc=\"http://creativecommons.org/ns#\" xmlns:rdf=\"http://www.w3.org/1999/02/22-rdf-syntax-ns#\">\n   <cc:Work>\n    <dc:type rdf:resource=\"http://purl.org/dc/dcmitype/StillImage\"/>\n    <dc:date>2021-12-13T15:16:32.617491</dc:date>\n    <dc:format>image/svg+xml</dc:format>\n    <dc:creator>\n     <cc:Agent>\n      <dc:title>Matplotlib v3.5.0, https://matplotlib.org/</dc:title>\n     </cc:Agent>\n    </dc:creator>\n   </cc:Work>\n  </rdf:RDF>\n </metadata>\n <defs>\n  <style type=\"text/css\">*{stroke-linejoin: round; stroke-linecap: butt}</style>\n </defs>\n <g id=\"figure_1\">\n  <g id=\"patch_1\">\n   <path d=\"M -0 248.518125 \nL 381.65 248.518125 \nL 381.65 0 \nL -0 0 \nL -0 248.518125 \nz\n\" style=\"fill: none\"/>\n  </g>\n  <g id=\"axes_1\">\n   <g id=\"patch_2\">\n    <path d=\"M 39.65 224.64 \nL 374.45 224.64 \nL 374.45 7.2 \nL 39.65 7.2 \nz\n\" style=\"fill: #ffffff\"/>\n   </g>\n   <g id=\"matplotlib.axis_1\">\n    <g id=\"xtick_1\">\n     <g id=\"line2d_1\">\n      <defs>\n       <path id=\"m2549224ef0\" d=\"M 0 0 \nL 0 3.5 \n\" style=\"stroke: #000000; stroke-width: 0.8\"/>\n      </defs>\n      <g>\n       <use xlink:href=\"#m2549224ef0\" x=\"54.868182\" y=\"224.64\" style=\"stroke: #000000; stroke-width: 0.8\"/>\n      </g>\n     </g>\n     <g id=\"text_1\">\n      <!-- 0 -->\n      <g transform=\"translate(51.686932 239.238437)scale(0.1 -0.1)\">\n       <defs>\n        <path id=\"DejaVuSans-30\" d=\"M 2034 4250 \nQ 1547 4250 1301 3770 \nQ 1056 3291 1056 2328 \nQ 1056 1369 1301 889 \nQ 1547 409 2034 409 \nQ 2525 409 2770 889 \nQ 3016 1369 3016 2328 \nQ 3016 3291 2770 3770 \nQ 2525 4250 2034 4250 \nz\nM 2034 4750 \nQ 2819 4750 3233 4129 \nQ 3647 3509 3647 2328 \nQ 3647 1150 3233 529 \nQ 2819 -91 2034 -91 \nQ 1250 -91 836 529 \nQ 422 1150 422 2328 \nQ 422 3509 836 4129 \nQ 1250 4750 2034 4750 \nz\n\" transform=\"scale(0.015625)\"/>\n       </defs>\n       <use xlink:href=\"#DejaVuSans-30\"/>\n      </g>\n     </g>\n    </g>\n    <g id=\"xtick_2\">\n     <g id=\"line2d_2\">\n      <g>\n       <use xlink:href=\"#m2549224ef0\" x=\"98.348701\" y=\"224.64\" style=\"stroke: #000000; stroke-width: 0.8\"/>\n      </g>\n     </g>\n     <g id=\"text_2\">\n      <!-- 2 -->\n      <g transform=\"translate(95.167451 239.238437)scale(0.1 -0.1)\">\n       <defs>\n        <path id=\"DejaVuSans-32\" d=\"M 1228 531 \nL 3431 531 \nL 3431 0 \nL 469 0 \nL 469 531 \nQ 828 903 1448 1529 \nQ 2069 2156 2228 2338 \nQ 2531 2678 2651 2914 \nQ 2772 3150 2772 3378 \nQ 2772 3750 2511 3984 \nQ 2250 4219 1831 4219 \nQ 1534 4219 1204 4116 \nQ 875 4013 500 3803 \nL 500 4441 \nQ 881 4594 1212 4672 \nQ 1544 4750 1819 4750 \nQ 2544 4750 2975 4387 \nQ 3406 4025 3406 3419 \nQ 3406 3131 3298 2873 \nQ 3191 2616 2906 2266 \nQ 2828 2175 2409 1742 \nQ 1991 1309 1228 531 \nz\n\" transform=\"scale(0.015625)\"/>\n       </defs>\n       <use xlink:href=\"#DejaVuSans-32\"/>\n      </g>\n     </g>\n    </g>\n    <g id=\"xtick_3\">\n     <g id=\"line2d_3\">\n      <g>\n       <use xlink:href=\"#m2549224ef0\" x=\"141.829221\" y=\"224.64\" style=\"stroke: #000000; stroke-width: 0.8\"/>\n      </g>\n     </g>\n     <g id=\"text_3\">\n      <!-- 4 -->\n      <g transform=\"translate(138.647971 239.238437)scale(0.1 -0.1)\">\n       <defs>\n        <path id=\"DejaVuSans-34\" d=\"M 2419 4116 \nL 825 1625 \nL 2419 1625 \nL 2419 4116 \nz\nM 2253 4666 \nL 3047 4666 \nL 3047 1625 \nL 3713 1625 \nL 3713 1100 \nL 3047 1100 \nL 3047 0 \nL 2419 0 \nL 2419 1100 \nL 313 1100 \nL 313 1709 \nL 2253 4666 \nz\n\" transform=\"scale(0.015625)\"/>\n       </defs>\n       <use xlink:href=\"#DejaVuSans-34\"/>\n      </g>\n     </g>\n    </g>\n    <g id=\"xtick_4\">\n     <g id=\"line2d_4\">\n      <g>\n       <use xlink:href=\"#m2549224ef0\" x=\"185.30974\" y=\"224.64\" style=\"stroke: #000000; stroke-width: 0.8\"/>\n      </g>\n     </g>\n     <g id=\"text_4\">\n      <!-- 6 -->\n      <g transform=\"translate(182.12849 239.238437)scale(0.1 -0.1)\">\n       <defs>\n        <path id=\"DejaVuSans-36\" d=\"M 2113 2584 \nQ 1688 2584 1439 2293 \nQ 1191 2003 1191 1497 \nQ 1191 994 1439 701 \nQ 1688 409 2113 409 \nQ 2538 409 2786 701 \nQ 3034 994 3034 1497 \nQ 3034 2003 2786 2293 \nQ 2538 2584 2113 2584 \nz\nM 3366 4563 \nL 3366 3988 \nQ 3128 4100 2886 4159 \nQ 2644 4219 2406 4219 \nQ 1781 4219 1451 3797 \nQ 1122 3375 1075 2522 \nQ 1259 2794 1537 2939 \nQ 1816 3084 2150 3084 \nQ 2853 3084 3261 2657 \nQ 3669 2231 3669 1497 \nQ 3669 778 3244 343 \nQ 2819 -91 2113 -91 \nQ 1303 -91 875 529 \nQ 447 1150 447 2328 \nQ 447 3434 972 4092 \nQ 1497 4750 2381 4750 \nQ 2619 4750 2861 4703 \nQ 3103 4656 3366 4563 \nz\n\" transform=\"scale(0.015625)\"/>\n       </defs>\n       <use xlink:href=\"#DejaVuSans-36\"/>\n      </g>\n     </g>\n    </g>\n    <g id=\"xtick_5\">\n     <g id=\"line2d_5\">\n      <g>\n       <use xlink:href=\"#m2549224ef0\" x=\"228.79026\" y=\"224.64\" style=\"stroke: #000000; stroke-width: 0.8\"/>\n      </g>\n     </g>\n     <g id=\"text_5\">\n      <!-- 8 -->\n      <g transform=\"translate(225.60901 239.238437)scale(0.1 -0.1)\">\n       <defs>\n        <path id=\"DejaVuSans-38\" d=\"M 2034 2216 \nQ 1584 2216 1326 1975 \nQ 1069 1734 1069 1313 \nQ 1069 891 1326 650 \nQ 1584 409 2034 409 \nQ 2484 409 2743 651 \nQ 3003 894 3003 1313 \nQ 3003 1734 2745 1975 \nQ 2488 2216 2034 2216 \nz\nM 1403 2484 \nQ 997 2584 770 2862 \nQ 544 3141 544 3541 \nQ 544 4100 942 4425 \nQ 1341 4750 2034 4750 \nQ 2731 4750 3128 4425 \nQ 3525 4100 3525 3541 \nQ 3525 3141 3298 2862 \nQ 3072 2584 2669 2484 \nQ 3125 2378 3379 2068 \nQ 3634 1759 3634 1313 \nQ 3634 634 3220 271 \nQ 2806 -91 2034 -91 \nQ 1263 -91 848 271 \nQ 434 634 434 1313 \nQ 434 1759 690 2068 \nQ 947 2378 1403 2484 \nz\nM 1172 3481 \nQ 1172 3119 1398 2916 \nQ 1625 2713 2034 2713 \nQ 2441 2713 2670 2916 \nQ 2900 3119 2900 3481 \nQ 2900 3844 2670 4047 \nQ 2441 4250 2034 4250 \nQ 1625 4250 1398 4047 \nQ 1172 3844 1172 3481 \nz\n\" transform=\"scale(0.015625)\"/>\n       </defs>\n       <use xlink:href=\"#DejaVuSans-38\"/>\n      </g>\n     </g>\n    </g>\n    <g id=\"xtick_6\">\n     <g id=\"line2d_6\">\n      <g>\n       <use xlink:href=\"#m2549224ef0\" x=\"272.270779\" y=\"224.64\" style=\"stroke: #000000; stroke-width: 0.8\"/>\n      </g>\n     </g>\n     <g id=\"text_6\">\n      <!-- 10 -->\n      <g transform=\"translate(265.908279 239.238437)scale(0.1 -0.1)\">\n       <defs>\n        <path id=\"DejaVuSans-31\" d=\"M 794 531 \nL 1825 531 \nL 1825 4091 \nL 703 3866 \nL 703 4441 \nL 1819 4666 \nL 2450 4666 \nL 2450 531 \nL 3481 531 \nL 3481 0 \nL 794 0 \nL 794 531 \nz\n\" transform=\"scale(0.015625)\"/>\n       </defs>\n       <use xlink:href=\"#DejaVuSans-31\"/>\n       <use xlink:href=\"#DejaVuSans-30\" x=\"63.623047\"/>\n      </g>\n     </g>\n    </g>\n    <g id=\"xtick_7\">\n     <g id=\"line2d_7\">\n      <g>\n       <use xlink:href=\"#m2549224ef0\" x=\"315.751299\" y=\"224.64\" style=\"stroke: #000000; stroke-width: 0.8\"/>\n      </g>\n     </g>\n     <g id=\"text_7\">\n      <!-- 12 -->\n      <g transform=\"translate(309.388799 239.238437)scale(0.1 -0.1)\">\n       <use xlink:href=\"#DejaVuSans-31\"/>\n       <use xlink:href=\"#DejaVuSans-32\" x=\"63.623047\"/>\n      </g>\n     </g>\n    </g>\n    <g id=\"xtick_8\">\n     <g id=\"line2d_8\">\n      <g>\n       <use xlink:href=\"#m2549224ef0\" x=\"359.231818\" y=\"224.64\" style=\"stroke: #000000; stroke-width: 0.8\"/>\n      </g>\n     </g>\n     <g id=\"text_8\">\n      <!-- 14 -->\n      <g transform=\"translate(352.869318 239.238437)scale(0.1 -0.1)\">\n       <use xlink:href=\"#DejaVuSans-31\"/>\n       <use xlink:href=\"#DejaVuSans-34\" x=\"63.623047\"/>\n      </g>\n     </g>\n    </g>\n   </g>\n   <g id=\"matplotlib.axis_2\">\n    <g id=\"ytick_1\">\n     <g id=\"line2d_9\">\n      <defs>\n       <path id=\"m9598eb7597\" d=\"M 0 0 \nL -3.5 0 \n\" style=\"stroke: #000000; stroke-width: 0.8\"/>\n      </defs>\n      <g>\n       <use xlink:href=\"#m9598eb7597\" x=\"39.65\" y=\"200.84478\" style=\"stroke: #000000; stroke-width: 0.8\"/>\n      </g>\n     </g>\n     <g id=\"text_9\">\n      <!-- 1750 -->\n      <g transform=\"translate(7.2 204.643999)scale(0.1 -0.1)\">\n       <defs>\n        <path id=\"DejaVuSans-37\" d=\"M 525 4666 \nL 3525 4666 \nL 3525 4397 \nL 1831 0 \nL 1172 0 \nL 2766 4134 \nL 525 4134 \nL 525 4666 \nz\n\" transform=\"scale(0.015625)\"/>\n        <path id=\"DejaVuSans-35\" d=\"M 691 4666 \nL 3169 4666 \nL 3169 4134 \nL 1269 4134 \nL 1269 2991 \nQ 1406 3038 1543 3061 \nQ 1681 3084 1819 3084 \nQ 2600 3084 3056 2656 \nQ 3513 2228 3513 1497 \nQ 3513 744 3044 326 \nQ 2575 -91 1722 -91 \nQ 1428 -91 1123 -41 \nQ 819 9 494 109 \nL 494 744 \nQ 775 591 1075 516 \nQ 1375 441 1709 441 \nQ 2250 441 2565 725 \nQ 2881 1009 2881 1497 \nQ 2881 1984 2565 2268 \nQ 2250 2553 1709 2553 \nQ 1456 2553 1204 2497 \nQ 953 2441 691 2322 \nL 691 4666 \nz\n\" transform=\"scale(0.015625)\"/>\n       </defs>\n       <use xlink:href=\"#DejaVuSans-31\"/>\n       <use xlink:href=\"#DejaVuSans-37\" x=\"63.623047\"/>\n       <use xlink:href=\"#DejaVuSans-35\" x=\"127.246094\"/>\n       <use xlink:href=\"#DejaVuSans-30\" x=\"190.869141\"/>\n      </g>\n     </g>\n    </g>\n    <g id=\"ytick_2\">\n     <g id=\"line2d_10\">\n      <g>\n       <use xlink:href=\"#m9598eb7597\" x=\"39.65\" y=\"176.231008\" style=\"stroke: #000000; stroke-width: 0.8\"/>\n      </g>\n     </g>\n     <g id=\"text_10\">\n      <!-- 2000 -->\n      <g transform=\"translate(7.2 180.030227)scale(0.1 -0.1)\">\n       <use xlink:href=\"#DejaVuSans-32\"/>\n       <use xlink:href=\"#DejaVuSans-30\" x=\"63.623047\"/>\n       <use xlink:href=\"#DejaVuSans-30\" x=\"127.246094\"/>\n       <use xlink:href=\"#DejaVuSans-30\" x=\"190.869141\"/>\n      </g>\n     </g>\n    </g>\n    <g id=\"ytick_3\">\n     <g id=\"line2d_11\">\n      <g>\n       <use xlink:href=\"#m9598eb7597\" x=\"39.65\" y=\"151.617236\" style=\"stroke: #000000; stroke-width: 0.8\"/>\n      </g>\n     </g>\n     <g id=\"text_11\">\n      <!-- 2250 -->\n      <g transform=\"translate(7.2 155.416454)scale(0.1 -0.1)\">\n       <use xlink:href=\"#DejaVuSans-32\"/>\n       <use xlink:href=\"#DejaVuSans-32\" x=\"63.623047\"/>\n       <use xlink:href=\"#DejaVuSans-35\" x=\"127.246094\"/>\n       <use xlink:href=\"#DejaVuSans-30\" x=\"190.869141\"/>\n      </g>\n     </g>\n    </g>\n    <g id=\"ytick_4\">\n     <g id=\"line2d_12\">\n      <g>\n       <use xlink:href=\"#m9598eb7597\" x=\"39.65\" y=\"127.003463\" style=\"stroke: #000000; stroke-width: 0.8\"/>\n      </g>\n     </g>\n     <g id=\"text_12\">\n      <!-- 2500 -->\n      <g transform=\"translate(7.2 130.802682)scale(0.1 -0.1)\">\n       <use xlink:href=\"#DejaVuSans-32\"/>\n       <use xlink:href=\"#DejaVuSans-35\" x=\"63.623047\"/>\n       <use xlink:href=\"#DejaVuSans-30\" x=\"127.246094\"/>\n       <use xlink:href=\"#DejaVuSans-30\" x=\"190.869141\"/>\n      </g>\n     </g>\n    </g>\n    <g id=\"ytick_5\">\n     <g id=\"line2d_13\">\n      <g>\n       <use xlink:href=\"#m9598eb7597\" x=\"39.65\" y=\"102.389691\" style=\"stroke: #000000; stroke-width: 0.8\"/>\n      </g>\n     </g>\n     <g id=\"text_13\">\n      <!-- 2750 -->\n      <g transform=\"translate(7.2 106.18891)scale(0.1 -0.1)\">\n       <use xlink:href=\"#DejaVuSans-32\"/>\n       <use xlink:href=\"#DejaVuSans-37\" x=\"63.623047\"/>\n       <use xlink:href=\"#DejaVuSans-35\" x=\"127.246094\"/>\n       <use xlink:href=\"#DejaVuSans-30\" x=\"190.869141\"/>\n      </g>\n     </g>\n    </g>\n    <g id=\"ytick_6\">\n     <g id=\"line2d_14\">\n      <g>\n       <use xlink:href=\"#m9598eb7597\" x=\"39.65\" y=\"77.775919\" style=\"stroke: #000000; stroke-width: 0.8\"/>\n      </g>\n     </g>\n     <g id=\"text_14\">\n      <!-- 3000 -->\n      <g transform=\"translate(7.2 81.575138)scale(0.1 -0.1)\">\n       <defs>\n        <path id=\"DejaVuSans-33\" d=\"M 2597 2516 \nQ 3050 2419 3304 2112 \nQ 3559 1806 3559 1356 \nQ 3559 666 3084 287 \nQ 2609 -91 1734 -91 \nQ 1441 -91 1130 -33 \nQ 819 25 488 141 \nL 488 750 \nQ 750 597 1062 519 \nQ 1375 441 1716 441 \nQ 2309 441 2620 675 \nQ 2931 909 2931 1356 \nQ 2931 1769 2642 2001 \nQ 2353 2234 1838 2234 \nL 1294 2234 \nL 1294 2753 \nL 1863 2753 \nQ 2328 2753 2575 2939 \nQ 2822 3125 2822 3475 \nQ 2822 3834 2567 4026 \nQ 2313 4219 1838 4219 \nQ 1578 4219 1281 4162 \nQ 984 4106 628 3988 \nL 628 4550 \nQ 988 4650 1302 4700 \nQ 1616 4750 1894 4750 \nQ 2613 4750 3031 4423 \nQ 3450 4097 3450 3541 \nQ 3450 3153 3228 2886 \nQ 3006 2619 2597 2516 \nz\n\" transform=\"scale(0.015625)\"/>\n       </defs>\n       <use xlink:href=\"#DejaVuSans-33\"/>\n       <use xlink:href=\"#DejaVuSans-30\" x=\"63.623047\"/>\n       <use xlink:href=\"#DejaVuSans-30\" x=\"127.246094\"/>\n       <use xlink:href=\"#DejaVuSans-30\" x=\"190.869141\"/>\n      </g>\n     </g>\n    </g>\n    <g id=\"ytick_7\">\n     <g id=\"line2d_15\">\n      <g>\n       <use xlink:href=\"#m9598eb7597\" x=\"39.65\" y=\"53.162147\" style=\"stroke: #000000; stroke-width: 0.8\"/>\n      </g>\n     </g>\n     <g id=\"text_15\">\n      <!-- 3250 -->\n      <g transform=\"translate(7.2 56.961365)scale(0.1 -0.1)\">\n       <use xlink:href=\"#DejaVuSans-33\"/>\n       <use xlink:href=\"#DejaVuSans-32\" x=\"63.623047\"/>\n       <use xlink:href=\"#DejaVuSans-35\" x=\"127.246094\"/>\n       <use xlink:href=\"#DejaVuSans-30\" x=\"190.869141\"/>\n      </g>\n     </g>\n    </g>\n    <g id=\"ytick_8\">\n     <g id=\"line2d_16\">\n      <g>\n       <use xlink:href=\"#m9598eb7597\" x=\"39.65\" y=\"28.548374\" style=\"stroke: #000000; stroke-width: 0.8\"/>\n      </g>\n     </g>\n     <g id=\"text_16\">\n      <!-- 3500 -->\n      <g transform=\"translate(7.2 32.347593)scale(0.1 -0.1)\">\n       <use xlink:href=\"#DejaVuSans-33\"/>\n       <use xlink:href=\"#DejaVuSans-35\" x=\"63.623047\"/>\n       <use xlink:href=\"#DejaVuSans-30\" x=\"127.246094\"/>\n       <use xlink:href=\"#DejaVuSans-30\" x=\"190.869141\"/>\n      </g>\n     </g>\n    </g>\n   </g>\n   <g id=\"line2d_17\">\n    <path d=\"M 54.868182 17.083636 \nL 76.608442 75.950027 \nL 98.348701 132.424356 \nL 120.088961 132.424356 \nL 141.829221 132.424356 \nL 163.569481 132.424356 \nL 185.30974 132.424356 \nL 207.05 132.424356 \nL 228.79026 133.6471 \nL 250.530519 154.76954 \nL 272.270779 154.76954 \nL 294.011039 155.314046 \nL 315.751299 185.887799 \nL 337.491558 190.564167 \nL 359.231818 214.756364 \n\" clip-path=\"url(#pe4948b0f61)\" style=\"fill: none; stroke: #1f77b4; stroke-width: 1.5; stroke-linecap: square\"/>\n   </g>\n   <g id=\"patch_3\">\n    <path d=\"M 39.65 224.64 \nL 39.65 7.2 \n\" style=\"fill: none; stroke: #000000; stroke-width: 0.8; stroke-linejoin: miter; stroke-linecap: square\"/>\n   </g>\n   <g id=\"patch_4\">\n    <path d=\"M 374.45 224.64 \nL 374.45 7.2 \n\" style=\"fill: none; stroke: #000000; stroke-width: 0.8; stroke-linejoin: miter; stroke-linecap: square\"/>\n   </g>\n   <g id=\"patch_5\">\n    <path d=\"M 39.65 224.64 \nL 374.45 224.64 \n\" style=\"fill: none; stroke: #000000; stroke-width: 0.8; stroke-linejoin: miter; stroke-linecap: square\"/>\n   </g>\n   <g id=\"patch_6\">\n    <path d=\"M 39.65 7.2 \nL 374.45 7.2 \n\" style=\"fill: none; stroke: #000000; stroke-width: 0.8; stroke-linejoin: miter; stroke-linecap: square\"/>\n   </g>\n  </g>\n </g>\n <defs>\n  <clipPath id=\"pe4948b0f61\">\n   <rect x=\"39.65\" y=\"7.2\" width=\"334.8\" height=\"217.44\"/>\n  </clipPath>\n </defs>\n</svg>\n",
      "text/plain": [
       "<Figure size 432x288 with 1 Axes>"
      ]
     },
     "metadata": {},
     "output_type": "display_data"
    }
   ],
   "source": [
    "import matplotlib.pyplot as plt\n",
    "\n",
    "print(f(result_pso.gbest_x))\n",
    "print(g(result_pso.gbest_x))\n",
    "sim_smr.interface.SaveFlowsheet(sim_smr.flowsheet, sim_smr.savepath,True)\n",
    "print(result_pso.gbest_x)\n",
    "pprint(result_pso)\n",
    "\n",
    "plt.plot(result_pso.gbest_y_hist)\n",
    "plt.show()"
   ]
  }
 ],
 "metadata": {
  "interpreter": {
   "hash": "d0f6a11f750e143c658e3ba8c490a06ed5f9dc51708f0fef62d123fb40576efd"
  },
  "kernelspec": {
   "display_name": "Python 3.9.1 64-bit ('venv': venv)",
   "name": "python3"
  },
  "language_info": {
   "codemirror_mode": {
    "name": "ipython",
    "version": 3
   },
   "file_extension": ".py",
   "mimetype": "text/x-python",
   "name": "python",
   "nbconvert_exporter": "python",
   "pygments_lexer": "ipython3",
   "version": "3.8.10"
  },
  "orig_nbformat": 4
 },
 "nbformat": 4,
 "nbformat_minor": 2
}
