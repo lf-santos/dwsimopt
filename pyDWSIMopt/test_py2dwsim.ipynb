{
 "cells": [
  {
   "cell_type": "code",
   "execution_count": 1,
   "metadata": {},
   "outputs": [
    {
     "name": "stdout",
     "output_type": "stream",
     "text": [
      "c:\\Users\\lfsfr\\Desktop\\pyDWSIMopt\n"
     ]
    }
   ],
   "source": [
    "import numpy as np\n",
    "from pprint import pprint\n",
    "\n",
    "import os \n",
    "from pathlib import Path\n",
    "\n",
    "dir_path = str(Path(os.getcwd()).parent.absolute())\n",
    "print(dir_path)\n",
    "\n",
    "import sys\n",
    "sys.path.append(dir_path)\n",
    "if 'pyDWSIMopt.sim_opt' in sys.modules:  # Is the module in the register?\n",
    "    del sys.modules['pyDWSIMopt.sim_opt']  # If so, remove it.\n",
    "    del SimulationOptimization\n",
    "from pyDWSIMopt.sim_opt import SimulationOptimization"
   ]
  },
  {
   "cell_type": "code",
   "execution_count": 2,
   "metadata": {
    "scrolled": true
   },
   "outputs": [
    {
     "name": "stdout",
     "output_type": "stream",
     "text": [
      "C:\\Users\\lfsfr\\AppData\\Local\\DWSIM7\\\n",
      "<class 'Exception'>\n",
      "More refs\n",
      "added refs\n",
      "Simulation was loaded successfully\n"
     ]
    }
   ],
   "source": [
    "# Getting DWSIM path from system path\n",
    "for k,v in enumerate(os.environ['path'].split(';')):\n",
    "    if v.find('\\DWSIM')>-1:\n",
    "        path2dwsim = os.path.join(v, '')\n",
    "if path2dwsim == None:\n",
    "    path2dwsim = \"C:\\\\Users\\\\lfsfr\\\\AppData\\\\Local\\\\DWSIM7\\\\\"\n",
    "print(path2dwsim)\n",
    "\n",
    "# Loading DWSIM simulation into Python (Simulation object)\n",
    "sim_smr = SimulationOptimization(dof=np.array([]), path2sim= os.path.join(dir_path, \"examples\\\\SMR_LNG\\\\SMR.dwxmz\"), \n",
    "                     path2dwsim = path2dwsim)\n",
    "sim_smr.savepath = os.path.join(dir_path, \"examples\\\\SMR_LNG\\\\SMR2.dwxmz\")\n",
    "sim_smr.Add_refs()\n",
    "\n",
    "# Instanciate automation manager object\n",
    "from DWSIM.Automation import Automation2\n",
    "if ('interf' not in locals()):    # create automation manager\n",
    "    interf = Automation2()\n",
    "\n",
    "# Connect simulation in sim.path2sim\n",
    "sim_smr.Connect(interf)"
   ]
  },
  {
   "cell_type": "code",
   "execution_count": 4,
   "metadata": {
    "scrolled": false
   },
   "outputs": [
    {
     "name": "stdout",
     "output_type": "stream",
     "text": [
      "Material Stream\n",
      "['DWSIM', 'Thermodynamics', 'Streams', 'MaterialStream']\n",
      "Material Stream\n",
      "['DWSIM', 'Thermodynamics', 'Streams', 'MaterialStream']\n",
      "Material Stream\n",
      "['DWSIM', 'Thermodynamics', 'Streams', 'MaterialStream']\n",
      "Material Stream\n",
      "['DWSIM', 'Thermodynamics', 'Streams', 'MaterialStream']\n",
      "Material Stream\n",
      "['DWSIM', 'Thermodynamics', 'Streams', 'MaterialStream']\n",
      "Valve\n",
      "['DWSIM', 'UnitOperations', 'UnitOperations', 'Valve']\n",
      "Compressor\n",
      "['DWSIM', 'UnitOperations', 'UnitOperations', 'Compressor']\n",
      "Cooler\n",
      "['DWSIM', 'UnitOperations', 'UnitOperations', 'Cooler']\n"
     ]
    }
   ],
   "source": [
    "# Assign DoF:\n",
    "from pyDWSIMopt.py2dwsim import * \n",
    "assignDoF( [\"MR-1\", \"CompoundMassFlow\", \"Nitrogen\", \"kg/s\"], sim_smr )\n",
    "assignDoF( [\"MR-1\", \"CompoundMassFlow\", \"Methane\", \"kg/s\"], sim_smr )\n",
    "assignDoF( [\"MR-1\", \"CompoundMassFlow\", \"Ethane\", \"kg/s\"], sim_smr )\n",
    "assignDoF( [\"MR-1\", \"CompoundMassFlow\", \"Propane\", \"kg/s\"], sim_smr )\n",
    "assignDoF( [\"MR-1\", \"CompoundMassFlow\", \"Isopentane\", \"Pa\"], sim_smr )\n",
    "assignDoF( [\"VALV-01\", \"OutletPressure\", \"Nitrogen\", \"Pa\"], sim_smr )\n",
    "assignDoF( [\"COMP-1\", \"OutletPressure\", \"Nitrogen\", \"Pa\"], sim_smr )\n",
    "assignDoF( [\"COOL-08\", \"OutletTemperature\", \"Nitrogen\", \"K\"], sim_smr )\n",
    "\n",
    "# Assign F and G the same way\n"
   ]
  },
  {
   "cell_type": "code",
   "execution_count": 6,
   "metadata": {},
   "outputs": [
    {
     "name": "stdout",
     "output_type": "stream",
     "text": [
      "f = [], g = [] at x = [6.94444444e-05 1.94444444e-04 2.77777778e-04 3.05555556e-04\n",
      " 5.00000000e-04 2.50000000e+05 5.00000000e+06 2.13150000e+02]\n",
      "[6.94444444e-05 1.94444444e-04 2.77777778e-04 3.05555556e-04\n",
      " 5.00000000e-04 2.50000000e+05 5.00000000e+06 2.13150000e+02] [] []\n",
      "{'dof': array([[<function toDwsim.<locals>.<lambda> at 0x0000019C291B9CA0>,\n",
      "        'MR-1', 'CompoundMassFlow', 'Nitrogen', 'kg/s'],\n",
      "       [<function toDwsim.<locals>.<lambda> at 0x0000019C5D014DC0>,\n",
      "        'MR-1', 'CompoundMassFlow', 'Methane', 'kg/s'],\n",
      "       [<function toDwsim.<locals>.<lambda> at 0x0000019C61C1F0D0>,\n",
      "        'MR-1', 'CompoundMassFlow', 'Ethane', 'kg/s'],\n",
      "       [<function toDwsim.<locals>.<lambda> at 0x0000019C61C1F1F0>,\n",
      "        'MR-1', 'CompoundMassFlow', 'Propane', 'kg/s'],\n",
      "       [<function toDwsim.<locals>.<lambda> at 0x0000019C61C1F040>,\n",
      "        'MR-1', 'CompoundMassFlow', 'Isopentane', 'Pa'],\n",
      "       [<function toDwsim.<locals>.<lambda> at 0x0000019C61C1F280>,\n",
      "        'VALV-01', 'OutletPressure', 'Nitrogen', 'Pa'],\n",
      "       [<function toDwsim.<locals>.<lambda> at 0x0000019C61C1F310>,\n",
      "        'COMP-1', 'OutletPressure', 'Nitrogen', 'Pa'],\n",
      "       [<function toDwsim.<locals>.<lambda> at 0x0000019C61C1F3A0>,\n",
      "        'COOL-08', 'OutletTemperature', 'Nitrogen', 'K']], dtype=object),\n",
      " 'f': array([], dtype=object),\n",
      " 'f_val': array([], dtype=float64),\n",
      " 'flowsheet': <DWSIM.UI.Desktop.Shared.Flowsheet object at 0x0000019C58FCC3A0>,\n",
      " 'g': array([], dtype=object),\n",
      " 'g_val': array([], dtype=float64),\n",
      " 'interface': <DWSIM.Automation.Automation2 object at 0x0000019C58FC5370>,\n",
      " 'n_dof': 8,\n",
      " 'n_f': 0,\n",
      " 'n_g': 0,\n",
      " 'path2dwsim': 'C:\\\\Users\\\\lfsfr\\\\AppData\\\\Local\\\\DWSIM7\\\\',\n",
      " 'path2sim': 'c:\\\\Users\\\\lfsfr\\\\Desktop\\\\pyDWSIMopt\\\\examples\\\\SMR_LNG\\\\SMR.dwxmz',\n",
      " 'savepath': 'c:\\\\Users\\\\lfsfr\\\\Desktop\\\\pyDWSIMopt\\\\examples\\\\SMR_LNG\\\\SMR2.dwxmz',\n",
      " 'x_val': array([6.94444444e-05, 1.94444444e-04, 2.77777778e-04, 3.05555556e-04,\n",
      "       5.00000000e-04, 2.50000000e+05, 5.00000000e+06, 2.13150000e+02])}\n"
     ]
    }
   ],
   "source": [
    "# Initial simulation optimization setup\n",
    "# Initial guess of optimization\n",
    "x0 = np.array( [0.25/3600, 0.70/3600, 1.0/3600, 1.10/3600, 1.80/3600, 2.50e5, 50.00e5, -60+273.15] )\n",
    "\n",
    "# Testing for simulation at x0\n",
    "sim_smr.calculate_optProblem(1.0*x0)\n",
    "print(sim_smr.x_val,\n",
    "      sim_smr.f_val,\n",
    "      sim_smr.g_val)\n",
    "\n",
    "# Test saving simulation at x0 in 'savepath'\n",
    "sim_smr.interface.SaveFlowsheet(sim_smr.flowsheet,sim_smr.savepath,True)\n",
    "\n",
    "# Inspecting simulation object\n",
    "pprint(vars(sim_smr))"
   ]
  },
  {
   "cell_type": "code",
   "execution_count": 7,
   "metadata": {},
   "outputs": [
    {
     "ename": "NameError",
     "evalue": "name 'optimize' is not defined",
     "output_type": "error",
     "traceback": [
      "\u001b[1;31m---------------------------------------------------------------------------\u001b[0m",
      "\u001b[1;31mNameError\u001b[0m                                 Traceback (most recent call last)",
      "\u001b[1;32m~\\AppData\\Local\\Temp/ipykernel_3180/3473650498.py\u001b[0m in \u001b[0;36m<module>\u001b[1;34m\u001b[0m\n\u001b[0;32m     18\u001b[0m \u001b[1;31m# bounds regularized\u001b[0m\u001b[1;33m\u001b[0m\u001b[1;33m\u001b[0m\u001b[1;33m\u001b[0m\u001b[0m\n\u001b[0;32m     19\u001b[0m \u001b[0mbounds_reg\u001b[0m \u001b[1;33m=\u001b[0m \u001b[0mregularizer\u001b[0m\u001b[1;33m*\u001b[0m\u001b[0mbounds_raw\u001b[0m\u001b[1;33m\u001b[0m\u001b[1;33m\u001b[0m\u001b[0m\n\u001b[1;32m---> 20\u001b[1;33m \u001b[0mbounds\u001b[0m \u001b[1;33m=\u001b[0m \u001b[0moptimize\u001b[0m\u001b[1;33m.\u001b[0m\u001b[0mBounds\u001b[0m\u001b[1;33m(\u001b[0m\u001b[0mbounds_reg\u001b[0m\u001b[1;33m[\u001b[0m\u001b[1;36m0\u001b[0m\u001b[1;33m]\u001b[0m\u001b[1;33m,\u001b[0m \u001b[0mbounds_reg\u001b[0m\u001b[1;33m[\u001b[0m\u001b[1;36m1\u001b[0m\u001b[1;33m]\u001b[0m\u001b[1;33m)\u001b[0m\u001b[1;33m\u001b[0m\u001b[1;33m\u001b[0m\u001b[0m\n\u001b[0m\u001b[0;32m     21\u001b[0m \u001b[1;33m\u001b[0m\u001b[0m\n\u001b[0;32m     22\u001b[0m \u001b[1;31m# objective and constraints lambda definitions\u001b[0m\u001b[1;33m\u001b[0m\u001b[1;33m\u001b[0m\u001b[1;33m\u001b[0m\u001b[0m\n",
      "\u001b[1;31mNameError\u001b[0m: name 'optimize' is not defined"
     ]
    }
   ],
   "source": [
    "# Setup for optimization\n",
    "# convergence tolerances\n",
    "xtol=0.01\n",
    "ftol=0.01\n",
    "maxiter=5 # +- 20 seconds per iteration\n",
    "\n",
    "# decision variables bounds\n",
    "bounds_raw = np.array( [0.5*np.asarray(x0), 1.5*np.asarray(x0)] )   # 50 % around base case\n",
    "bounds_raw[0][-1] = 153     # precool temperature low limit manually\n",
    "bounds_raw[1][-1] = 253     # precool temperature upper limit manually\n",
    "\n",
    "# regularizer calculation\n",
    "regularizer = np.zeros(x0.size)\n",
    "import math\n",
    "for i in range(len(regularizer)):\n",
    "    regularizer[i] = 10**(-1*math.floor(math.log(x0[i],10))) # regularizer for magnitude order of 1e0\n",
    "\n",
    "# bounds regularized\n",
    "bounds_reg = regularizer*bounds_raw\n",
    "bounds = optimize.Bounds(bounds_reg[0], bounds_reg[1])\n",
    "\n",
    "# objective and constraints lambda definitions\n",
    "f = lambda x: sim_smr.calculate_optProblem(np.asarray(x)/regularizer)[0:sim_smr.n_f]\n",
    "g = lambda x: sim_smr.calculate_optProblem(np.asarray(x)/regularizer)[sim_smr.n_f:(sim_smr.n_f+sim_smr.n_g)]\n",
    "nonlinear_constraint = optimize.NonlinearConstraint(g, -np.inf, 0, jac='2-point', hess=optimize.BFGS())"
   ]
  },
  {
   "cell_type": "code",
   "execution_count": null,
   "metadata": {},
   "outputs": [],
   "source": [
    "# Global optimization with PSO\n",
    "from sko.PSO import PSO\n",
    "\n",
    "# f_pen = lambda x: fpen_barrier(sim_smr,x/regularizer)\n",
    "result_pso = PSO(func= lambda x: sim_smr.fpen_barrier(x/regularizer), n_dim=sim_smr.n_dof, pop=2*sim_smr.n_dof, max_iter=40, lb=bounds_reg[0], ub=bounds_reg[1], verbose=True)\n",
    "result_pso.record_mode = True\n",
    "if sim_smr.n_f > 1:\n",
    "    print(\"Multi-objective optimization not supported (yet)\")\n",
    "elif sim_smr.n_f < 1:\n",
    "    print(\"Invalid number of objective functions\")\n",
    "else:\n",
    "    print(\"Starting global optimization\")\n",
    "    result_pso.run()"
   ]
  }
 ],
 "metadata": {
  "interpreter": {
   "hash": "d0f6a11f750e143c658e3ba8c490a06ed5f9dc51708f0fef62d123fb40576efd"
  },
  "kernelspec": {
   "display_name": "Python 3 (ipykernel)",
   "language": "python",
   "name": "python3"
  },
  "language_info": {
   "codemirror_mode": {
    "name": "ipython",
    "version": 3
   },
   "file_extension": ".py",
   "mimetype": "text/x-python",
   "name": "python",
   "nbconvert_exporter": "python",
   "pygments_lexer": "ipython3",
   "version": "3.8.10"
  }
 },
 "nbformat": 4,
 "nbformat_minor": 2
}
