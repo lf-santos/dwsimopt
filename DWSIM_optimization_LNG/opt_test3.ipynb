{
 "cells": [
  {
   "cell_type": "code",
   "execution_count": 4,
   "source": [
    "# from pyDWSIMconnect import PyDWSIMconnect\r\n",
    "from simulation import Simulation\r\n",
    "import numpy as np\r\n",
    "import time\r\n",
    "from fobj import *\r\n",
    "from scipy import optimize\r\n",
    "from pprint import pprint"
   ],
   "outputs": [],
   "metadata": {}
  },
  {
   "cell_type": "code",
   "execution_count": 2,
   "source": [
    "# Loading DWSIM simulation into Python (Simulation object)\r\n",
    "sim_smr = Simulation(path2sim=\"C:\\\\Users\\\\lfsfr\\\\Desktop\\\\pyDWSIMopt\\\\sim\\\\SMR_2exp_phaseSep.dwxmz\")\r\n",
    "sim_smr.Add_refs()\r\n",
    "sim_smr.Connect()"
   ],
   "outputs": [
    {
     "output_type": "stream",
     "name": "stdout",
     "text": [
      "added refs\n",
      "Simulation was loaded successfully\n"
     ]
    }
   ],
   "metadata": {}
  },
  {
   "cell_type": "code",
   "execution_count": 24,
   "source": [
    "def fobj8n_2exp(sim_smr, x):\r\n",
    "    mr1 = sim_smr.flowsheet.GetFlowsheetSimulationObject(\"MR-1\")\r\n",
    "    comp1 = sim_smr.flowsheet.GetFlowsheetSimulationObject(\"COMP-1\") \r\n",
    "    comp2 = sim_smr.flowsheet.GetFlowsheetSimulationObject(\"COMP-2\") \r\n",
    "    comp3 = sim_smr.flowsheet.GetFlowsheetSimulationObject(\"COMP-3\") \r\n",
    "    comp4 = sim_smr.flowsheet.GetFlowsheetSimulationObject(\"COMP-4\") \r\n",
    "    pump1 = sim_smr.flowsheet.GetFlowsheetSimulationObject(\"PUMP-01\") \r\n",
    "    pump2 = sim_smr.flowsheet.GetFlowsheetSimulationObject(\"PUMP-02\") \r\n",
    "    vlv1 = sim_smr.flowsheet.GetFlowsheetSimulationObject(\"VALV-01\")\r\n",
    "    cool8 = sim_smr.flowsheet.GetFlowsheetSimulationObject(\"COOL-08\")\r\n",
    "    lng = sim_smr.flowsheet.GetFlowsheetSimulationObject(\"LNG-1\")\r\n",
    "    if sim_smr.x is None:\r\n",
    "        sim_smr.x = np.zeros(len(x))\r\n",
    "    if np.linalg.norm(sim_smr.x - np.asarray(x))>1e-10:\r\n",
    "    # m_old = np.ones(mr1.Phases[0].Compounds.Values.Count)\r\n",
    "    # ite=0\r\n",
    "    # for m_i in mr1.Phases[0].Compounds.Values:\r\n",
    "    #     m_old[ite] = m_i.MassFraction*mr1.GetMassFlow()\r\n",
    "    #     ite+=1\r\n",
    "    # x_old = np.array( [m_old[7],m_old[0],m_old[1],m_old[2],m_old[5], vlv1.OutletPressure, comp4.POut, cool8.OutletTemperature] ) \r\n",
    "    # if np.linalg.norm( x-x_old ) > 1e-5:\r\n",
    "    # if ( abs(mr1.GetMassFlow() - x[0])/abs(x[0]) + abs(vlv1.OutletPressure - x[1])/abs(x[1]) + abs(comp4.POut - x[2])/abs(x[2]) ) > 1e-12:\r\n",
    "        # print(\"calculated with \")\r\n",
    "        # print( abs(mr1.GetMassFlow() - x[0])/abs(x[0]))\r\n",
    "        # print(abs(vlv1.OutletPressure - x[1])/abs(x[1]))\r\n",
    "        # print(abs(comp4.POut - x[2])/abs(x[2]) )\r\n",
    "        # mr1.SetMassFlow(x[0])\r\n",
    "        sep1 = sim_smr.flowsheet.GetFlowsheetSimulationObject(\"SEP-02\")\r\n",
    "        sep2 = sim_smr.flowsheet.GetFlowsheetSimulationObject(\"SEP-03\")\r\n",
    "        sep1.GraphicObject.Activate = False\r\n",
    "        sep2.GraphicObject.Activate = False\r\n",
    "\r\n",
    "        mr1.SetOverallCompoundMassFlow(0,x[1])\r\n",
    "        mr1.SetOverallCompoundMassFlow(1,x[2])\r\n",
    "        mr1.SetOverallCompoundMassFlow(2,x[3])\r\n",
    "        mr1.SetOverallCompoundMassFlow(5,x[4])\r\n",
    "        mr1.SetOverallCompoundMassFlow(7,x[0])\r\n",
    "        vlv1.OutletPressure = x[5]\r\n",
    "        comp4.POut = x[6]\r\n",
    "        cool8.OutletTemperature = x[7]\r\n",
    "\r\n",
    "        sim_smr.interface.CalculateFlowsheet2(sim_smr.flowsheet)\r\n",
    "        if sim_smr.flowsheet.GetFlowsheetSimulationObject(\"MSTR-03\").Phases[1].Properties.massfraction < 1e-5:\r\n",
    "            pump1.GraphicObject.Active = False\r\n",
    "            print(sim_smr.flowsheet.GetFlowsheetSimulationObject(\"PUMP-01\").GraphicObject.Active)\r\n",
    "            sim_smr.flowsheet.DisconnectObjects(\r\n",
    "                sim_smr.flowsheet.GetFlowsheetSimulationObject(\"MSTR-29\").GraphicObject,\r\n",
    "                sim_smr.flowsheet.GetFlowsheetSimulationObject(\"MIX-02\").GraphicObject)\r\n",
    "        else:\r\n",
    "            pump1.GraphicObject.Active = True\r\n",
    "            sim_smr.flowsheet.DisconnectObjects(\r\n",
    "                sim_smr.flowsheet.GetFlowsheetSimulationObject(\"MSTR-29\").GraphicObject,\r\n",
    "                sim_smr.flowsheet.GetFlowsheetSimulationObject(\"MIX-02\").GraphicObject) #avoid bug\r\n",
    "            sim_smr.flowsheet.ConnectObjects(\r\n",
    "                sim_smr.flowsheet.GetFlowsheetSimulationObject(\"MSTR-29\").GraphicObject,\r\n",
    "                sim_smr.flowsheet.GetFlowsheetSimulationObject(\"MIX-02\").GraphicObject,\r\n",
    "                -1,-1)\r\n",
    "        sep1.GraphicObject.Active = True\r\n",
    "        sep1.Calculate()\r\n",
    "        sim_smr.interface.CalculateFlowsheet2(sim_smr.flowsheet)\r\n",
    "        if sim_smr.flowsheet.GetFlowsheetSimulationObject(\"MSTR-05\").Phases[1].Properties.massfraction < 1e-5:\r\n",
    "            pump2.GraphicObject.Active = False\r\n",
    "            sim_smr.flowsheet.DisconnectObjects(\r\n",
    "                sim_smr.flowsheet.GetFlowsheetSimulationObject(\"MSTR-30\").GraphicObject,\r\n",
    "                sim_smr.flowsheet.GetFlowsheetSimulationObject(\"MIX-02\").GraphicObject)\r\n",
    "        else:\r\n",
    "            pump1.GraphicObject.Active = True\r\n",
    "            sim_smr.flowsheet.DisconnectObjects(\r\n",
    "                sim_smr.flowsheet.GetFlowsheetSimulationObject(\"MSTR-30\").GraphicObject,\r\n",
    "                sim_smr.flowsheet.GetFlowsheetSimulationObject(\"MIX-02\").GraphicObject)\r\n",
    "            sim_smr.flowsheet.ConnectObjects(\r\n",
    "                sim_smr.flowsheet.GetFlowsheetSimulationObject(\"MSTR-30\").GraphicObject,\r\n",
    "                sim_smr.flowsheet.GetFlowsheetSimulationObject(\"MIX-02\").GraphicObject,\r\n",
    "                -1,-1)\r\n",
    "        sep2.GraphicObject.Active = True\r\n",
    "        sep2.Calculate()\r\n",
    "        sim_smr.interface.CalculateFlowsheet2(sim_smr.flowsheet)\r\n",
    "        #force to calculate spec2 spec3 cool6 e cool5\r\n",
    "        sim_smr.flowsheet.GetFlowsheetSimulationObject(\"SPEC-02\").Solve()\r\n",
    "        sim_smr.flowsheet.GetFlowsheetSimulationObject(\"SPEC-03\").Solve()\r\n",
    "        sim_smr.flowsheet.GetFlowsheetSimulationObject(\"COOL-06\").Solve()\r\n",
    "        sim_smr.flowsheet.GetFlowsheetSimulationObject(\"COOL-05\").Solve()\r\n",
    "        time.sleep(0.05)\r\n",
    "        sim_smr.interface.CalculateFlowsheet2(sim_smr.flowsheet)\r\n",
    "        time.sleep(0.05)\r\n",
    "        sim_smr.interface.CalculateFlowsheet2(sim_smr.flowsheet)\r\n",
    "        time.sleep(0.05)\r\n",
    "        sim_smr.interface.CalculateFlowsheet2(sim_smr.flowsheet)\r\n",
    "        sumW = (comp1.DeltaQ + comp2.DeltaQ + comp3.DeltaQ + comp4.DeltaQ)\r\n",
    "        if sim_smr.flowsheet.GetFlowsheetSimulationObject(\"MSTR-03\").Phases[1].Properties.massfraction > 1e-5:\r\n",
    "            sumW += pump1.DeltaQ \r\n",
    "        if sim_smr.flowsheet.GetFlowsheetSimulationObject(\"MSTR-05\").Phases[1].Properties.massfraction > 1e-5:    \r\n",
    "            sumW += pump2.DeltaQ\r\n",
    "        sumW = sumW/lng.GetMassFlow()/3600\r\n",
    "        mita1 = min(sim_smr.flowsheet.GetFlowsheetSimulationObject(\"MSTR-08\").GetTemperature() - sim_smr.flowsheet.GetFlowsheetSimulationObject(\"MSTR-17\").GetTemperature(),\r\n",
    "            sim_smr.flowsheet.GetFlowsheetSimulationObject(\"MSTR-09\").GetTemperature() - sim_smr.flowsheet.GetFlowsheetSimulationObject(\"MSTR-17\").GetTemperature(), \r\n",
    "            sim_smr.flowsheet.GetFlowsheetSimulationObject(\"NG-1_2\").GetTemperature()   - sim_smr.flowsheet.GetFlowsheetSimulationObject(\"MSTR-17\").GetTemperature(),\r\n",
    "            sim_smr.flowsheet.GetFlowsheetSimulationObject(\"MSTR-10\").GetTemperature() - sim_smr.flowsheet.GetFlowsheetSimulationObject(\"MSTR-15\").GetTemperature(),\r\n",
    "            sim_smr.flowsheet.GetFlowsheetSimulationObject(\"MSTR-11\").GetTemperature() - sim_smr.flowsheet.GetFlowsheetSimulationObject(\"MSTR-15\").GetTemperature(),\r\n",
    "            sim_smr.flowsheet.GetFlowsheetSimulationObject(\"NG-2\").GetTemperature() - sim_smr.flowsheet.GetFlowsheetSimulationObject(\"MSTR-15\").GetTemperature()\r\n",
    "        )\r\n",
    "        mita2 = min(sim_smr.flowsheet.GetFlowsheetSimulationObject(\"MSTR-10\").GetTemperature() - sim_smr.flowsheet.GetFlowsheetSimulationObject(\"MSTR-16\").GetTemperature(),\r\n",
    "            sim_smr.flowsheet.GetFlowsheetSimulationObject(\"NG-2\").GetTemperature() - sim_smr.flowsheet.GetFlowsheetSimulationObject(\"MSTR-16\").GetTemperature(),\r\n",
    "            sim_smr.flowsheet.GetFlowsheetSimulationObject(\"MSTR-12\").GetTemperature() - sim_smr.flowsheet.GetFlowsheetSimulationObject(\"MSTR-13\").GetTemperature(),\r\n",
    "            sim_smr.flowsheet.GetFlowsheetSimulationObject(\"NG-3\").GetTemperature() - sim_smr.flowsheet.GetFlowsheetSimulationObject(\"MSTR-13\").GetTemperature()\r\n",
    "        )\r\n",
    "    else:\r\n",
    "        sumW = sim_smr.f\r\n",
    "        mita1 = sim_smr.g\r\n",
    "        mita2 = sim_smr.g\r\n",
    "        # print(\"skipped with\")\r\n",
    "        # print( abs(mr1.GetMassFlow() - x[0])/abs(x[0]))\r\n",
    "        # print(abs(vlv1.OutletPressure - x[1])/abs(x[1]))\r\n",
    "        # print(abs(comp4.POut - x[2])/abs(x[2]) )\r\n",
    "    # if np.linalg.norm( x-x_old ) > 1e-5:\r\n",
    "    #     sim_smr.interface.SaveFlowsheet(sim_smr.flowsheet,sim_smr.path,True)\r\n",
    "    sim_smr.x = x\r\n",
    "    sim_smr.f = sumW\r\n",
    "    sim_smr.g = min(mita1, mita2)\r\n",
    "    return sumW, min(mita1, mita2)"
   ],
   "outputs": [],
   "metadata": {}
  },
  {
   "cell_type": "code",
   "execution_count": 43,
   "source": [
    "# Initial simulation setup\r\n",
    "x0 = np.array( [0.25/3600, 0.70/3600, 1.0/3600, 1.10/3600, 1.80/3600, 2.50e5, 50.00e5, -40+273.15] )\r\n",
    "sim_smr.fobj = lambda x: fobj8n_2exp(sim_smr, x)\r\n",
    "sumW, mita = sim_smr.fobj(0.95*x0)\r\n",
    "print(sim_smr.x,\r\n",
    "sim_smr.f,\r\n",
    "sim_smr.g)\r\n",
    "sim_smr.interface.SaveFlowsheet(sim_smr.flowsheet,\r\n",
    "        'C:\\\\Users\\\\lfsfr\\\\Desktop\\\\pyDWSIMopt\\\\sim\\\\SMR_2exp_phaseSep2.dwxmz',True)"
   ],
   "outputs": [
    {
     "output_type": "error",
     "ename": "TypeError",
     "evalue": "'<' not supported between instances of 'NoneType' and 'float'",
     "traceback": [
      "\u001b[1;31m---------------------------------------------------------------------------\u001b[0m",
      "\u001b[1;31mTypeError\u001b[0m                                 Traceback (most recent call last)",
      "\u001b[1;32m~\\AppData\\Local\\Temp/ipykernel_5152/3550924995.py\u001b[0m in \u001b[0;36m<module>\u001b[1;34m\u001b[0m\n\u001b[0;32m      2\u001b[0m \u001b[0mx0\u001b[0m \u001b[1;33m=\u001b[0m \u001b[0mnp\u001b[0m\u001b[1;33m.\u001b[0m\u001b[0marray\u001b[0m\u001b[1;33m(\u001b[0m \u001b[1;33m[\u001b[0m\u001b[1;36m0.25\u001b[0m\u001b[1;33m/\u001b[0m\u001b[1;36m3600\u001b[0m\u001b[1;33m,\u001b[0m \u001b[1;36m0.70\u001b[0m\u001b[1;33m/\u001b[0m\u001b[1;36m3600\u001b[0m\u001b[1;33m,\u001b[0m \u001b[1;36m1.0\u001b[0m\u001b[1;33m/\u001b[0m\u001b[1;36m3600\u001b[0m\u001b[1;33m,\u001b[0m \u001b[1;36m1.10\u001b[0m\u001b[1;33m/\u001b[0m\u001b[1;36m3600\u001b[0m\u001b[1;33m,\u001b[0m \u001b[1;36m1.80\u001b[0m\u001b[1;33m/\u001b[0m\u001b[1;36m3600\u001b[0m\u001b[1;33m,\u001b[0m \u001b[1;36m2.50e5\u001b[0m\u001b[1;33m,\u001b[0m \u001b[1;36m50.00e5\u001b[0m\u001b[1;33m,\u001b[0m \u001b[1;33m-\u001b[0m\u001b[1;36m40\u001b[0m\u001b[1;33m+\u001b[0m\u001b[1;36m273.15\u001b[0m\u001b[1;33m]\u001b[0m \u001b[1;33m)\u001b[0m\u001b[1;33m\u001b[0m\u001b[1;33m\u001b[0m\u001b[0m\n\u001b[0;32m      3\u001b[0m \u001b[0msim_smr\u001b[0m\u001b[1;33m.\u001b[0m\u001b[0mfobj\u001b[0m \u001b[1;33m=\u001b[0m \u001b[1;32mlambda\u001b[0m \u001b[0mx\u001b[0m\u001b[1;33m:\u001b[0m \u001b[0mfobj8n_2exp\u001b[0m\u001b[1;33m(\u001b[0m\u001b[0msim_smr\u001b[0m\u001b[1;33m,\u001b[0m \u001b[0mnp\u001b[0m\u001b[1;33m.\u001b[0m\u001b[0masarray\u001b[0m\u001b[1;33m(\u001b[0m\u001b[0mresult\u001b[0m\u001b[1;33m.\u001b[0m\u001b[0mx\u001b[0m\u001b[1;33m)\u001b[0m\u001b[1;33m)\u001b[0m\u001b[1;33m\u001b[0m\u001b[1;33m\u001b[0m\u001b[0m\n\u001b[1;32m----> 4\u001b[1;33m \u001b[0msumW\u001b[0m\u001b[1;33m,\u001b[0m \u001b[0mmita\u001b[0m \u001b[1;33m=\u001b[0m \u001b[0msim_smr\u001b[0m\u001b[1;33m.\u001b[0m\u001b[0mfobj\u001b[0m\u001b[1;33m(\u001b[0m\u001b[1;36m0.95\u001b[0m\u001b[1;33m*\u001b[0m\u001b[0mx0\u001b[0m\u001b[1;33m)\u001b[0m\u001b[1;33m\u001b[0m\u001b[1;33m\u001b[0m\u001b[0m\n\u001b[0m\u001b[0;32m      5\u001b[0m print(sim_smr.x,\n\u001b[0;32m      6\u001b[0m \u001b[0msim_smr\u001b[0m\u001b[1;33m.\u001b[0m\u001b[0mf\u001b[0m\u001b[1;33m,\u001b[0m\u001b[1;33m\u001b[0m\u001b[1;33m\u001b[0m\u001b[0m\n",
      "\u001b[1;32m~\\AppData\\Local\\Temp/ipykernel_5152/3550924995.py\u001b[0m in \u001b[0;36m<lambda>\u001b[1;34m(x)\u001b[0m\n\u001b[0;32m      1\u001b[0m \u001b[1;31m# Initial simulation setup\u001b[0m\u001b[1;33m\u001b[0m\u001b[1;33m\u001b[0m\u001b[1;33m\u001b[0m\u001b[0m\n\u001b[0;32m      2\u001b[0m \u001b[0mx0\u001b[0m \u001b[1;33m=\u001b[0m \u001b[0mnp\u001b[0m\u001b[1;33m.\u001b[0m\u001b[0marray\u001b[0m\u001b[1;33m(\u001b[0m \u001b[1;33m[\u001b[0m\u001b[1;36m0.25\u001b[0m\u001b[1;33m/\u001b[0m\u001b[1;36m3600\u001b[0m\u001b[1;33m,\u001b[0m \u001b[1;36m0.70\u001b[0m\u001b[1;33m/\u001b[0m\u001b[1;36m3600\u001b[0m\u001b[1;33m,\u001b[0m \u001b[1;36m1.0\u001b[0m\u001b[1;33m/\u001b[0m\u001b[1;36m3600\u001b[0m\u001b[1;33m,\u001b[0m \u001b[1;36m1.10\u001b[0m\u001b[1;33m/\u001b[0m\u001b[1;36m3600\u001b[0m\u001b[1;33m,\u001b[0m \u001b[1;36m1.80\u001b[0m\u001b[1;33m/\u001b[0m\u001b[1;36m3600\u001b[0m\u001b[1;33m,\u001b[0m \u001b[1;36m2.50e5\u001b[0m\u001b[1;33m,\u001b[0m \u001b[1;36m50.00e5\u001b[0m\u001b[1;33m,\u001b[0m \u001b[1;33m-\u001b[0m\u001b[1;36m40\u001b[0m\u001b[1;33m+\u001b[0m\u001b[1;36m273.15\u001b[0m\u001b[1;33m]\u001b[0m \u001b[1;33m)\u001b[0m\u001b[1;33m\u001b[0m\u001b[1;33m\u001b[0m\u001b[0m\n\u001b[1;32m----> 3\u001b[1;33m \u001b[0msim_smr\u001b[0m\u001b[1;33m.\u001b[0m\u001b[0mfobj\u001b[0m \u001b[1;33m=\u001b[0m \u001b[1;32mlambda\u001b[0m \u001b[0mx\u001b[0m\u001b[1;33m:\u001b[0m \u001b[0mfobj8n_2exp\u001b[0m\u001b[1;33m(\u001b[0m\u001b[0msim_smr\u001b[0m\u001b[1;33m,\u001b[0m \u001b[0mnp\u001b[0m\u001b[1;33m.\u001b[0m\u001b[0masarray\u001b[0m\u001b[1;33m(\u001b[0m\u001b[0mresult\u001b[0m\u001b[1;33m.\u001b[0m\u001b[0mx\u001b[0m\u001b[1;33m)\u001b[0m\u001b[1;33m)\u001b[0m\u001b[1;33m\u001b[0m\u001b[1;33m\u001b[0m\u001b[0m\n\u001b[0m\u001b[0;32m      4\u001b[0m \u001b[0msumW\u001b[0m\u001b[1;33m,\u001b[0m \u001b[0mmita\u001b[0m \u001b[1;33m=\u001b[0m \u001b[0msim_smr\u001b[0m\u001b[1;33m.\u001b[0m\u001b[0mfobj\u001b[0m\u001b[1;33m(\u001b[0m\u001b[1;36m0.95\u001b[0m\u001b[1;33m*\u001b[0m\u001b[0mx0\u001b[0m\u001b[1;33m)\u001b[0m\u001b[1;33m\u001b[0m\u001b[1;33m\u001b[0m\u001b[0m\n\u001b[0;32m      5\u001b[0m print(sim_smr.x,\n",
      "\u001b[1;32m~\\AppData\\Local\\Temp/ipykernel_5152/1175977012.py\u001b[0m in \u001b[0;36mfobj8n_2exp\u001b[1;34m(sim_smr, x)\u001b[0m\n\u001b[0;32m     41\u001b[0m \u001b[1;33m\u001b[0m\u001b[0m\n\u001b[0;32m     42\u001b[0m         \u001b[0msim_smr\u001b[0m\u001b[1;33m.\u001b[0m\u001b[0minterface\u001b[0m\u001b[1;33m.\u001b[0m\u001b[0mCalculateFlowsheet2\u001b[0m\u001b[1;33m(\u001b[0m\u001b[0msim_smr\u001b[0m\u001b[1;33m.\u001b[0m\u001b[0mflowsheet\u001b[0m\u001b[1;33m)\u001b[0m\u001b[1;33m\u001b[0m\u001b[1;33m\u001b[0m\u001b[0m\n\u001b[1;32m---> 43\u001b[1;33m         \u001b[1;32mif\u001b[0m \u001b[0msim_smr\u001b[0m\u001b[1;33m.\u001b[0m\u001b[0mflowsheet\u001b[0m\u001b[1;33m.\u001b[0m\u001b[0mGetFlowsheetSimulationObject\u001b[0m\u001b[1;33m(\u001b[0m\u001b[1;34m\"MSTR-03\"\u001b[0m\u001b[1;33m)\u001b[0m\u001b[1;33m.\u001b[0m\u001b[0mPhases\u001b[0m\u001b[1;33m[\u001b[0m\u001b[1;36m1\u001b[0m\u001b[1;33m]\u001b[0m\u001b[1;33m.\u001b[0m\u001b[0mProperties\u001b[0m\u001b[1;33m.\u001b[0m\u001b[0mmassfraction\u001b[0m \u001b[1;33m<\u001b[0m \u001b[1;36m1e-5\u001b[0m\u001b[1;33m:\u001b[0m\u001b[1;33m\u001b[0m\u001b[1;33m\u001b[0m\u001b[0m\n\u001b[0m\u001b[0;32m     44\u001b[0m             \u001b[0mpump1\u001b[0m\u001b[1;33m.\u001b[0m\u001b[0mGraphicObject\u001b[0m\u001b[1;33m.\u001b[0m\u001b[0mActive\u001b[0m \u001b[1;33m=\u001b[0m \u001b[1;32mFalse\u001b[0m\u001b[1;33m\u001b[0m\u001b[1;33m\u001b[0m\u001b[0m\n\u001b[0;32m     45\u001b[0m             \u001b[0mprint\u001b[0m\u001b[1;33m(\u001b[0m\u001b[0msim_smr\u001b[0m\u001b[1;33m.\u001b[0m\u001b[0mflowsheet\u001b[0m\u001b[1;33m.\u001b[0m\u001b[0mGetFlowsheetSimulationObject\u001b[0m\u001b[1;33m(\u001b[0m\u001b[1;34m\"PUMP-01\"\u001b[0m\u001b[1;33m)\u001b[0m\u001b[1;33m.\u001b[0m\u001b[0mGraphicObject\u001b[0m\u001b[1;33m.\u001b[0m\u001b[0mActive\u001b[0m\u001b[1;33m)\u001b[0m\u001b[1;33m\u001b[0m\u001b[1;33m\u001b[0m\u001b[0m\n",
      "\u001b[1;31mTypeError\u001b[0m: '<' not supported between instances of 'NoneType' and 'float'"
     ]
    }
   ],
   "metadata": {}
  },
  {
   "cell_type": "code",
   "execution_count": 29,
   "source": [
    "print(sim_smr.flowsheet.GetFlowsheetSimulationObject(\"PUMP-01\").GraphicObject.Active)"
   ],
   "outputs": [
    {
     "output_type": "stream",
     "name": "stdout",
     "text": [
      "True\n"
     ]
    }
   ],
   "metadata": {}
  },
  {
   "cell_type": "code",
   "execution_count": 20,
   "source": [
    "x_top = np.array( [0.252779/3600, 0.441063/3600, 1.411068/3600, 0.805952/3600, 1.851257/3600, 3.342832e5, 34.97221e5, -27.2958+273.15] )\r\n",
    "args=(sim_smr)\r\n",
    "xtol=0.01\r\n",
    "ftol=0.01\r\n",
    "maxiter=50 # +- 5 seconds per iteration\r\n",
    "print(\"starting optimization\")\r\n",
    "iteration = 0\r\n",
    "regularizer = np.array([1e4,1e4,1e4,1e4,1e4, 1e-5, 1e-6, 1e-2])\r\n",
    "#rever \\/\r\n",
    "bounds_raw = np.array( [0.6*np.asarray(x0), 1.4*np.asarray(x0)] )\r\n",
    "bounds_reg = regularizer*bounds_raw\r\n",
    "bounds_reg[0][-1] = 153\r\n",
    "bounds_reg[1][-1] = 233\r\n",
    "print(bounds_reg)\r\n",
    "bounds = optimize.Bounds(bounds_reg[0], bounds_reg[1])\r\n",
    "g = lambda x: fobj8n_2exp(sim_smr,np.asarray(x)/regularizer)[1]\r\n",
    "nonlinear_constraint = optimize.NonlinearConstraint(g, 3, np.inf, jac='2-point', hess=optimize.BFGS())\r\n",
    "f = lambda x: fobj8n_2exp(sim_smr,np.asarray(x)/regularizer)[0]\r\n",
    "# print(fobj8n_2exp(sim_smr,x_top))"
   ],
   "outputs": [
    {
     "output_type": "stream",
     "name": "stdout",
     "text": [
      "starting optimization\n",
      "[[  0.41666667   1.16666667   1.66666667   1.83333333   3.\n",
      "    1.5          3.         153.        ]\n",
      " [  0.97222222   2.72222222   3.88888889   4.27777778   7.\n",
      "    3.5          7.         233.        ]]\n"
     ]
    }
   ],
   "metadata": {}
  },
  {
   "cell_type": "code",
   "execution_count": 22,
   "source": [
    "fobj8n_2exp(sim_smr, x_top)\r\n",
    "pprint(vars(sim_smr))"
   ],
   "outputs": [
    {
     "output_type": "stream",
     "name": "stdout",
     "text": [
      "{'f': 0.2878099866914784,\n",
      " 'flowsheet': <DWSIM.UI.Desktop.Shared.Flowsheet object at 0x0000020EDB65A9D0>,\n",
      " 'fobj': <function <lambda> at 0x0000020EE2CD5820>,\n",
      " 'g': 2.103050383381003,\n",
      " 'interface': <DWSIM.Automation.Automation2 object at 0x0000020EDB654EB0>,\n",
      " 'path': 'C:\\\\Users\\\\lfsfr\\\\Desktop\\\\pyDWSIMopt\\\\sim\\\\SMR_2exp_phaseSep.dwxmz',\n",
      " 'path2dwsim': 'C:\\\\Users\\\\lfsfr\\\\AppData\\\\Local\\\\DWSIM7\\\\',\n",
      " 'x': array([7.02163889e-05, 1.22517500e-04, 3.91963333e-04, 2.23875556e-04,\n",
      "       5.14238056e-04, 3.34283200e+05, 3.49722100e+06, 2.45854200e+02])}\n"
     ]
    }
   ],
   "metadata": {}
  },
  {
   "cell_type": "code",
   "execution_count": 46,
   "source": [
    "# Local optimization with trust-region -> working to some extent\r\n",
    "result = optimize.minimize( f, np.asarray(x0)*regularizer, \r\n",
    "            method='trust-constr', jac='2-point', hess=optimize.BFGS(),\r\n",
    "            constraints=[nonlinear_constraint], bounds=bounds, callback=None,\r\n",
    "            options={'verbose': 3, \r\n",
    "                     'xtol': xtol, \r\n",
    "                     'maxiter': 0.1*maxiter, \r\n",
    "                     'finite_diff_rel_step': None, \r\n",
    "                     'initial_tr_radius': 0.1} )"
   ],
   "outputs": [
    {
     "output_type": "stream",
     "name": "stdout",
     "text": [
      "| niter |f evals|CG iter|  obj func   |tr radius |   opt    |  c viol  | penalty  |barrier param|CG stop|\n",
      "|-------|-------|-------|-------------|----------|----------|----------|----------|-------------|-------|\n",
      "|   1   |   9   |   0   | +3.9330e-01 | 1.00e-01 | 5.98e-02 | 1.51e+02 | 1.00e+00 |  1.00e-01   |   0   |\n"
     ]
    },
    {
     "output_type": "stream",
     "name": "stderr",
     "text": [
      "c:\\Users\\lfsfr\\Desktop\\pyDWSIMopt\\venv\\lib\\site-packages\\scipy\\optimize\\_hessian_update_strategy.py:182: UserWarning: delta_grad == 0.0. Check if the approximated function is linear. If the function is linear better results can be obtained by defining the Hessian as zero instead of using quasi-Newton approximations.\n",
      "  warn('delta_grad == 0.0. Check if the approximated '\n"
     ]
    },
    {
     "output_type": "stream",
     "name": "stdout",
     "text": [
      "|   2   |  18   |   1   | +3.9167e-01 | 7.00e-01 | 6.01e-02 | 1.51e+02 | 1.00e+00 |  1.00e-01   |   2   |\n",
      "|   3   |  27   |   2   | +3.8657e-01 | 4.41e+00 | 3.56e-02 | 1.50e+02 | 1.00e+00 |  1.00e-01   |   4   |\n",
      "|   4   |  36   |   5   | +3.8657e-01 | 1.33e+00 | 3.56e-02 | 1.50e+02 | 1.00e+00 |  1.00e-01   |   2   |\n",
      "|   5   |  45   |   8   | +3.8860e-01 | 1.33e+00 | 3.11e-02 | 1.51e+02 | 1.00e+00 |  1.00e-01   |   2   |\n",
      "\n",
      "The maximum number of function evaluations is exceeded.\n",
      "Number of iterations: 5, function evaluations: 45, CG iterations: 8, optimality: 3.11e-02, constraint violation: 1.51e+02, execution time: 2.8e+01 s.\n"
     ]
    }
   ],
   "metadata": {}
  },
  {
   "cell_type": "code",
   "execution_count": 47,
   "source": [
    "print(f(result.x))\r\n",
    "print(g(result.x))\r\n",
    "sim_smr.interface.SaveFlowsheet(sim_smr.flowsheet,\r\n",
    "        'C:\\\\Users\\\\lfsfr\\\\Desktop\\\\pyDWSIMopt\\\\sim\\\\SMR_2exp_phaseSep2.dwxmz',True)\r\n",
    "print(result.x)\r\n",
    "# x_top\r\n",
    "bounds\r\n"
   ],
   "outputs": [
    {
     "output_type": "stream",
     "name": "stdout",
     "text": [
      "0.38860004298120365\n",
      "4.020925209364293\n",
      "[0.69444444 1.94444444 2.77777778 3.05555556 5.         2.56513715\n",
      " 4.9774209  2.44793885]\n"
     ]
    },
    {
     "output_type": "execute_result",
     "data": {
      "text/plain": [
       "Bounds(array([  0.41666667,   1.16666667,   1.66666667,   1.83333333,\n",
       "         3.        ,   1.5       ,   3.        , 153.        ]), array([  0.97222222,   2.72222222,   3.88888889,   4.27777778,\n",
       "         7.        ,   3.5       ,   7.        , 233.        ]))"
      ]
     },
     "metadata": {},
     "execution_count": 47
    }
   ],
   "metadata": {}
  },
  {
   "cell_type": "code",
   "execution_count": 48,
   "source": [
    "# Global optimization with Differential Evolution\r\n",
    "result = optimize.differential_evolution(f, bounds, constraints=[nonlinear_constraint], \r\n",
    "            maxiter=5, popsize=5, seed=1234, disp=True, polish=False)"
   ],
   "outputs": [
    {
     "output_type": "stream",
     "name": "stdout",
     "text": [
      "False\n",
      "False\n",
      "False\n",
      "False\n",
      "False\n",
      "False\n",
      "False\n",
      "False\n",
      "False\n",
      "False\n",
      "False\n",
      "False\n",
      "False\n",
      "False\n",
      "False\n",
      "False\n",
      "False\n",
      "False\n",
      "False\n",
      "False\n",
      "False\n",
      "False\n",
      "False\n",
      "False\n",
      "False\n",
      "False\n",
      "False\n",
      "False\n",
      "False\n",
      "False\n",
      "False\n",
      "False\n",
      "False\n",
      "False\n",
      "False\n",
      "False\n",
      "False\n",
      "False\n",
      "False\n",
      "False\n",
      "False\n",
      "False\n",
      "False\n",
      "False\n",
      "False\n",
      "False\n",
      "False\n",
      "False\n",
      "False\n",
      "False\n",
      "differential_evolution step 1: f(x)= 0.263149\n",
      "False\n",
      "False\n",
      "False\n",
      "False\n",
      "False\n",
      "False\n",
      "False\n",
      "differential_evolution step 2: f(x)= 0.263149\n",
      "False\n",
      "False\n",
      "False\n",
      "False\n",
      "False\n",
      "False\n",
      "False\n",
      "False\n",
      "False\n",
      "False\n",
      "False\n",
      "differential_evolution step 3: f(x)= 0.263149\n"
     ]
    }
   ],
   "metadata": {}
  }
 ],
 "metadata": {
  "orig_nbformat": 4,
  "language_info": {
   "name": "python",
   "version": "3.9.1",
   "mimetype": "text/x-python",
   "codemirror_mode": {
    "name": "ipython",
    "version": 3
   },
   "pygments_lexer": "ipython3",
   "nbconvert_exporter": "python",
   "file_extension": ".py"
  },
  "kernelspec": {
   "name": "python3",
   "display_name": "Python 3.9.1 64-bit ('venv': venv)"
  },
  "interpreter": {
   "hash": "d0f6a11f750e143c658e3ba8c490a06ed5f9dc51708f0fef62d123fb40576efd"
  }
 },
 "nbformat": 4,
 "nbformat_minor": 2
}