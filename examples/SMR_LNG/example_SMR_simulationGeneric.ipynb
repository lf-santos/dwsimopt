{
 "cells": [
  {
   "cell_type": "markdown",
   "source": [
    "\r\n",
    "<h1 style=\"font-size: 250%\">Single-mixed refrigerant (SMR) natural gas liquefaction process simulation optimization <a href=\"https://doi.org/10.1016/j.ces.2021.116699\" title=\"SMR optimization paper\">[1]</a> </h1>\r\n",
    "\r\n",
    "<hr>\r\n",
    "\r\n",
    "<h2 style=\"font-size: 200%\">SMR process description</h2>\r\n",
    "\r\n",
    "<spam style=\"font-size: 150%\">The single-mixed refrigerant natural gas liquefaction process consists of using a multi-component refrigerant operating in a refrigeration cycle to produce heat sink to cool down and liquefy the natural gas stream, as illustrated in the figure below. The refrigeration cycle includes a four-stage compression system with intermediate cooling and phase separation for possible condensate. The liquid phase is compressed in pumps and the vapor phase in the compressors. No phase mixing is considered, which means that the refrigerant heavy condensate is mixed together and goes through the hot pass in the multi-stream heat exchanger separately from the light vapor phase. Then, the streams are mixed back together in the cold pass inside the cryogenic heat exchanger as they vaporize.</spam>\r\n",
    "\r\n",
    "<br/>\r\n",
    "<br/>\r\n",
    "<img src=\"pfd_smr.png\" alt=\"process flow diagram image\" style=\"height: 400px\"/>\r\n",
    "<br/>\r\n",
    "<br/>\r\n",
    "\r\n",
    "<h2 style=\"font-size: 200%\"> SMR process simulation</h2>\r\n",
    "\r\n",
    "<spam style=\"font-size: 150%\">The described single-mixed refrigerant natural gas liquefaction process is rather difficult to model and simulate mainly because it involves Pinch-like calculations in each multi-stream heat exchangers (MSHE) considering phase change, cryogenic conditions, and non-ideal mixtures. In other words, these heat exchangers are discretized in temperature segments, where vapor-liquid equilibrium calculations are performed to determine the temperature of every stream and, therefore, the temperature profiles in these operation units. For the sake of process feasibility considering the Second Law of Thermodynamics, the temperatures of hot streams have to be effectively higher than the cold ones throughout the heat exchangers.\r\n",
    "For rigorous calculations, this process is modeled and simulated in DWSIM v7.0 using Peng-Robinson equation of state, which is appropriate for hydrocarbons mixtures, such as the natural gas and the refrigerant mixtures. The minimum internal temperature approach is calculated using the Python Script in DWSIM. See the simulation ``SMR_2exp_phaseSep_MSHE_MITApy.dwxmz`` for more details.</spam>\r\n",
    "\r\n",
    "<br />\r\n",
    "<br />\r\n",
    "<img src=\"pfd_smr_dwsim.png\" alt=\"process flow diagram image\" style=\"height: 400px\"/>\r\n",
    "<br />\r\n",
    "<br />\r\n",
    "\r\n",
    "<h2 style=\"font-size: 200%\">SMR process optimization problem</h2>\r\n",
    "\r\n",
    "<spam style=\"font-size: 150%\">Knowing that the work consumption is the most relevant spending in the natural gas liquefaction process, then the design problem is to find $\\textbf{x}^*\\in \\mathbb{R}^n$ that minimizes the following optimization problem</spam>\r\n",
    "\r\n",
    "<spam style=\"font-size: 150%\">\r\n",
    "\r\n",
    "$$ \\min_{\\textbf{x}\\in \\mathcal{D}}\\ \\ f(\\textbf{x})=\\frac{\\sum_{p\\in PM}{W_p(\\textbf{x})}}{\\dot{m}_{NG}} $$\r\n",
    "$$ \\text{s.t.} \\ \\ g(\\textbf{x})=3 - MITA(\\textbf{x})\\le 0$$\r\n",
    "$$ \\mathcal{D}=[\\textbf{x}^{lb},\\ \\textbf{x}^{ub}], $$\r\n",
    "</spam>\r\n",
    "\r\n",
    "<spam style=\"font-size: 150%\"> in which, for a given $\\textbf{x}$, $W_p(\\textbf{x})$ is the work consumption of the pressure manipulator unit $p$ in the set of compressors and pumps $PM$, $MITA(\\textbf{x})$ is the minimum internal temperature approach in the MSHEs, $\\mathcal{D}$ is a box constraint for the decision variables bounded by $\\textbf{x}^{lb}$ and $\\textbf{x}^{ub}$, and $\\dot{m}_{LNG}$ is the mass flow rate of the natural gas stream. Therefore, the objective function $f$ in this optimization problem is the specific work consumed in the refrigeration cycle with respect to the mass flow rate of liquefied natural gas (LNG). Notice that the value of $W_p(\\textbf{x})$ as well as $MITA(\\textbf{x})$ are obtained in the black-box chemical process simulator, and so are $f(\\textbf{x})$ and $g(\\textbf{x})$. Then, $f(\\textbf{x})$ and $g(\\textbf{x})$ are known only at sampled points and make the optimization problem equivalent to equation above.</spam>"
   ],
   "metadata": {}
  },
  {
   "cell_type": "code",
   "execution_count": 1,
   "source": [
    "import numpy as np\r\n",
    "from scipy import optimize\r\n",
    "from pprint import pprint\r\n",
    "\r\n",
    "import os \r\n",
    "dir_path = globals()['_dh'][0]\r\n",
    "print(dir_path)\r\n",
    "os.chdir(dir_path)\r\n",
    "os.chdir(\"../..\")\r\n",
    "print(os.getcwd())\r\n",
    "\r\n",
    "import sys\r\n",
    "if 'pyDWSIMopt.interface' in sys.modules:  # Is the module in the register?\r\n",
    "    del sys.modules['pyDWSIMopt.interface']  # If so, remove it.\r\n",
    "    print('hi')\r\n",
    "from pyDWSIMopt.interface import SimulationGeneric\r\n",
    "if 'pyDWSIMopt.opt_problem' in sys.modules:  # Is the module in the register?\r\n",
    "    del sys.modules['pyDWSIMopt.opt_problem']  # If so, remove it.\r\n",
    "from pyDWSIMopt.opt_problem import fobj_smr_generic"
   ],
   "outputs": [
    {
     "output_type": "stream",
     "name": "stdout",
     "text": [
      "c:\\Users\\lfsfr\\Desktop\\pyDWSIMopt\\examples\\SMR_LNG\n",
      "c:\\Users\\lfsfr\\Desktop\\pyDWSIMopt\n"
     ]
    }
   ],
   "metadata": {}
  },
  {
   "cell_type": "code",
   "execution_count": 2,
   "source": [
    "# Loading DWSIM simulation into Python (Simulation object)\r\n",
    "sim_smr = SimulationGeneric(dof=np.array([]), path2sim= os.getcwd() + \"\\\\examples\\\\SMR_LNG\\\\SMR_2exp_phaseSep_MSHE_MITApy_generic.dwxmz\", \r\n",
    "                     path2dwsim = \"C:\\\\Users\\\\lfsfr\\\\AppData\\\\Local\\\\DWSIM7\\\\\")\r\n",
    "sim_smr.savepath = os.getcwd() + \"\\\\examples\\\\SMR_LNG\\\\SMR_2exp_phaseSep_MSHE_MITApy_generic2.dwxmz\"\r\n",
    "sim_smr.Add_refs()\r\n",
    "\r\n",
    "# Instanciate automation manager object\r\n",
    "from DWSIM.Automation import Automation2\r\n",
    "if ('interf' not in locals()):    # create automation manager\r\n",
    "    interf = Automation2()\r\n",
    "\r\n",
    "# Connect simulation in sim.path2sim\r\n",
    "sim_smr.Connect(interf)"
   ],
   "outputs": [
    {
     "output_type": "stream",
     "name": "stdout",
     "text": [
      "added refs\n",
      "Simulation was loaded successfully\n"
     ]
    }
   ],
   "metadata": {}
  },
  {
   "cell_type": "code",
   "execution_count": 3,
   "source": [
    "# Add dof\r\n",
    "sim_smr.add_dof(lambda x: sim_smr.flowsheet.GetFlowsheetSimulationObject(\"MR-1\").SetOverallCompoundMassFlow(7,x))\r\n",
    "sim_smr.add_dof(lambda x: sim_smr.flowsheet.GetFlowsheetSimulationObject(\"MR-1\").SetOverallCompoundMassFlow(0,x))\r\n",
    "sim_smr.add_dof(lambda x: sim_smr.flowsheet.GetFlowsheetSimulationObject(\"MR-1\").SetOverallCompoundMassFlow(1,x))\r\n",
    "sim_smr.add_dof(lambda x: sim_smr.flowsheet.GetFlowsheetSimulationObject(\"MR-1\").SetOverallCompoundMassFlow(2,x))\r\n",
    "sim_smr.add_dof(lambda x: sim_smr.flowsheet.GetFlowsheetSimulationObject(\"MR-1\").SetOverallCompoundMassFlow(5,x))\r\n",
    "def set_property(x, obj):\r\n",
    "    obj = x\r\n",
    "sim_smr.add_dof( lambda x: set_property(x, sim_smr.flowsheet.GetFlowsheetSimulationObject(\"VALV-01\").OutletPressure) )\r\n",
    "sim_smr.add_dof( lambda x: set_property(x, sim_smr.flowsheet.GetFlowsheetSimulationObject(\"COMP-4\").POut) )\r\n",
    "sim_smr.add_dof( lambda x: set_property(x, sim_smr.flowsheet.GetFlowsheetSimulationObject(\"COOL-08\").OutletTemperature) )\r\n",
    "\r\n",
    "pprint(vars(sim_smr))"
   ],
   "outputs": [
    {
     "output_type": "stream",
     "name": "stdout",
     "text": [
      "{'dof': array([<function <lambda> at 0x000002A1F9C695E0>,\n",
      "       <function <lambda> at 0x000002A1F9C698B0>,\n",
      "       <function <lambda> at 0x000002A1F9C69940>,\n",
      "       <function <lambda> at 0x000002A1F9C699D0>,\n",
      "       <function <lambda> at 0x000002A1F9C69A60>,\n",
      "       <function <lambda> at 0x000002A1F9C69B80>,\n",
      "       <function <lambda> at 0x000002A1F9C69C10>,\n",
      "       <function <lambda> at 0x000002A1F9C69CA0>], dtype=object),\n",
      " 'f': None,\n",
      " 'flowsheet': <DWSIM.UI.Desktop.Shared.Flowsheet object at 0x000002A1F9C8B190>,\n",
      " 'fobj': None,\n",
      " 'g': None,\n",
      " 'interface': <DWSIM.Automation.Automation2 object at 0x000002A1F9C86040>,\n",
      " 'n_dof': 8,\n",
      " 'path': 'c:\\\\Users\\\\lfsfr\\\\Desktop\\\\pyDWSIMopt\\\\examples\\\\SMR_LNG\\\\SMR_2exp_phaseSep_MSHE_MITApy_generic.dwxmz',\n",
      " 'path2dwsim': 'C:\\\\Users\\\\lfsfr\\\\AppData\\\\Local\\\\DWSIM7\\\\',\n",
      " 'savepath': 'c:\\\\Users\\\\lfsfr\\\\Desktop\\\\pyDWSIMopt\\\\examples\\\\SMR_LNG\\\\SMR_2exp_phaseSep_MSHE_MITApy_generic2.dwxmz',\n",
      " 'x': None}\n"
     ]
    }
   ],
   "metadata": {}
  },
  {
   "cell_type": "code",
   "execution_count": 4,
   "source": [
    "# import System\r\n",
    "# tmp = sim_smr.flowsheet.Scripts.Values\r\n",
    "# tmp.Where(lambda x: x.Title == 'fobj_calc')\r\n",
    "# pprint(tmp)\r\n",
    "#(System.Where(lambda x: x.Title == 'fobj_calc')).FirstOrDefault().ScriptText.replace('\\r', '')\r\n",
    "# exec(source)"
   ],
   "outputs": [],
   "metadata": {}
  },
  {
   "cell_type": "code",
   "execution_count": 5,
   "source": [
    "# Initial simulation setup\r\n",
    "sim_smr.fobj = lambda x: fobj_smr_generic(sim_smr, x)\r\n",
    "\r\n",
    "# Initial guess of optimization\r\n",
    "x0 = np.array( [0.25/3600, 0.70/3600, 1.0/3600, 1.10/3600, 1.80/3600, 2.50e5, 50.00e5, -60+273.15] )\r\n",
    "\r\n",
    "# Testing for simulation at x0\r\n",
    "sumW, mita = sim_smr.fobj(1.0*x0)\r\n",
    "print(sim_smr.x,\r\n",
    "      sim_smr.f,\r\n",
    "      sim_smr.g)\r\n",
    "\r\n",
    "# Test saving simulation at x0 in 'savepath'\r\n",
    "sim_smr.interface.SaveFlowsheet(sim_smr.flowsheet,sim_smr.savepath,True)\r\n",
    "\r\n",
    "# Inspecting simulation object\r\n",
    "pprint(vars(sim_smr))"
   ],
   "outputs": [
    {
     "output_type": "stream",
     "name": "stdout",
     "text": [
      "[6.94444444e-05 1.94444444e-04 2.77777778e-04 3.05555556e-04\n",
      " 5.00000000e-04 2.50000000e+05 5.00000000e+06 2.13150000e+02] 0.29654778913849017 9.65702739984215\n",
      "{'dof': array([<function <lambda> at 0x000002A1F9C695E0>,\n",
      "       <function <lambda> at 0x000002A1F9C698B0>,\n",
      "       <function <lambda> at 0x000002A1F9C69940>,\n",
      "       <function <lambda> at 0x000002A1F9C699D0>,\n",
      "       <function <lambda> at 0x000002A1F9C69A60>,\n",
      "       <function <lambda> at 0x000002A1F9C69B80>,\n",
      "       <function <lambda> at 0x000002A1F9C69C10>,\n",
      "       <function <lambda> at 0x000002A1F9C69CA0>], dtype=object),\n",
      " 'f': 0.29654778913849017,\n",
      " 'flowsheet': <DWSIM.UI.Desktop.Shared.Flowsheet object at 0x000002A1F9C8B190>,\n",
      " 'fobj': <function <lambda> at 0x000002A1F9C69790>,\n",
      " 'g': 9.65702739984215,\n",
      " 'interface': <DWSIM.Automation.Automation2 object at 0x000002A1F9C86040>,\n",
      " 'n_dof': 8,\n",
      " 'path': 'c:\\\\Users\\\\lfsfr\\\\Desktop\\\\pyDWSIMopt\\\\examples\\\\SMR_LNG\\\\SMR_2exp_phaseSep_MSHE_MITApy_generic.dwxmz',\n",
      " 'path2dwsim': 'C:\\\\Users\\\\lfsfr\\\\AppData\\\\Local\\\\DWSIM7\\\\',\n",
      " 'savepath': 'c:\\\\Users\\\\lfsfr\\\\Desktop\\\\pyDWSIMopt\\\\examples\\\\SMR_LNG\\\\SMR_2exp_phaseSep_MSHE_MITApy_generic2.dwxmz',\n",
      " 'x': array([6.94444444e-05, 1.94444444e-04, 2.77777778e-04, 3.05555556e-04,\n",
      "       5.00000000e-04, 2.50000000e+05, 5.00000000e+06, 2.13150000e+02])}\n"
     ]
    }
   ],
   "metadata": {}
  },
  {
   "cell_type": "code",
   "execution_count": 4,
   "source": [
    "# Setup for local optimization\r\n",
    "\r\n",
    "# convergence tolerances\r\n",
    "xtol=0.01\r\n",
    "ftol=0.01\r\n",
    "maxiter=5 # +- 20 seconds per iteration\r\n",
    "\r\n",
    "# decision variables bounds\r\n",
    "bounds_raw = np.array( [0.5*np.asarray(x0), 1.5*np.asarray(x0)] )   # 50 % around base case\r\n",
    "bounds_raw[0][-1] = 153     # precool temperature low limit manually\r\n",
    "bounds_raw[1][-1] = 253     # precool temperature upper limit manually\r\n",
    "regularizer = np.array([1e4,1e4,1e4,1e4,1e4, 1e-5, 1e-6, 1e-2])     # regularizer for magnitude order of 1e0\r\n",
    "bounds_reg = regularizer*bounds_raw\r\n",
    "bounds = optimize.Bounds(bounds_reg[0], bounds_reg[1])\r\n",
    "\r\n",
    "# objective and constraints lambda definitions\r\n",
    "f = lambda x: sim_smr.fobj(np.asarray(x)/regularizer)[0]\r\n",
    "g = lambda x: sim_smr.fobj(np.asarray(x)/regularizer)[1]\r\n",
    "nonlinear_constraint = optimize.NonlinearConstraint(g, -np.inf, 0, jac='2-point', hess=optimize.BFGS())\r\n"
   ],
   "outputs": [],
   "metadata": {}
  },
  {
   "cell_type": "code",
   "execution_count": 4,
   "source": [
    "# Local optimization with trust-region -> working to some extent\r\n",
    "print(\"starting local optimization\")\r\n",
    "result = optimize.minimize( f, np.asarray(x0)*regularizer, \r\n",
    "            method='trust-constr', jac='2-point', hess=optimize.BFGS(),\r\n",
    "            constraints=[nonlinear_constraint], bounds=bounds, callback=None,\r\n",
    "            options={'verbose': 3, \r\n",
    "                     'xtol': xtol, \r\n",
    "                     'maxiter': maxiter, \r\n",
    "                     'finite_diff_rel_step': None, \r\n",
    "                     'initial_tr_radius': 0.1} )"
   ],
   "outputs": [
    {
     "output_type": "stream",
     "name": "stdout",
     "text": [
      "starting optimization\n",
      "| niter |f evals|CG iter|  obj func   |tr radius |   opt    |  c viol  | penalty  |barrier param|CG stop|\n",
      "|-------|-------|-------|-------------|----------|----------|----------|----------|-------------|-------|\n",
      "|   1   |   9   |   0   | +3.8910e-01 | 1.00e-01 | 4.23e-02 | 0.00e+00 | 1.00e+00 |  1.00e-01   |   0   |\n",
      "|   2   |  18   |   1   | +3.8910e-01 | 1.00e-02 | 4.23e-02 | 0.00e+00 | 1.00e+00 |  1.00e-01   |   2   |\n",
      "|   3   |  27   |   2   | +3.8895e-01 | 1.00e-02 | 4.21e-02 | 0.00e+00 | 1.00e+00 |  1.00e-01   |   2   |\n",
      "|   4   |  36   |   3   | +3.8895e-01 | 1.00e-03 | 4.21e-02 | 0.00e+00 | 1.00e+00 |  1.00e-01   |   2   |\n",
      "|   5   |  45   |   3   | +3.8895e-01 | 1.00e-01 | 4.22e-02 | 0.00e+00 | 1.00e+00 |  2.00e-02   |   0   |\n",
      "\n",
      "The maximum number of function evaluations is exceeded.\n",
      "Number of iterations: 5, function evaluations: 45, CG iterations: 3, optimality: 4.22e-02, constraint violation: 0.00e+00, execution time: 5e+01 s.\n"
     ]
    }
   ],
   "metadata": {}
  },
  {
   "cell_type": "code",
   "execution_count": 2,
   "source": [
    "# printing results from local optimization\r\n",
    "print(f(result.x))\r\n",
    "print(g(result.x))\r\n",
    "print(result.x)\r\n",
    "\r\n",
    "# saving results of local optimization\r\n",
    "sim_smr.interface.SaveFlowsheet(sim_smr.flowsheet, sim_smr.savepath,True)"
   ],
   "outputs": [
    {
     "output_type": "error",
     "ename": "NameError",
     "evalue": "name 'f' is not defined",
     "traceback": [
      "\u001b[1;31m---------------------------------------------------------------------------\u001b[0m",
      "\u001b[1;31mNameError\u001b[0m                                 Traceback (most recent call last)",
      "\u001b[1;32m~\\AppData\\Local\\Temp/ipykernel_11284/1441433173.py\u001b[0m in \u001b[0;36m<module>\u001b[1;34m\u001b[0m\n\u001b[0;32m      1\u001b[0m \u001b[1;31m# printing results from local optimization\u001b[0m\u001b[1;33m\u001b[0m\u001b[1;33m\u001b[0m\u001b[1;33m\u001b[0m\u001b[0m\n\u001b[1;32m----> 2\u001b[1;33m \u001b[0mprint\u001b[0m\u001b[1;33m(\u001b[0m\u001b[0mf\u001b[0m\u001b[1;33m(\u001b[0m\u001b[0mresult\u001b[0m\u001b[1;33m.\u001b[0m\u001b[0mx\u001b[0m\u001b[1;33m)\u001b[0m\u001b[1;33m)\u001b[0m\u001b[1;33m\u001b[0m\u001b[1;33m\u001b[0m\u001b[0m\n\u001b[0m\u001b[0;32m      3\u001b[0m \u001b[0mprint\u001b[0m\u001b[1;33m(\u001b[0m\u001b[0mg\u001b[0m\u001b[1;33m(\u001b[0m\u001b[0mresult\u001b[0m\u001b[1;33m.\u001b[0m\u001b[0mx\u001b[0m\u001b[1;33m)\u001b[0m\u001b[1;33m)\u001b[0m\u001b[1;33m\u001b[0m\u001b[1;33m\u001b[0m\u001b[0m\n\u001b[0;32m      4\u001b[0m \u001b[0mprint\u001b[0m\u001b[1;33m(\u001b[0m\u001b[0mresult\u001b[0m\u001b[1;33m.\u001b[0m\u001b[0mx\u001b[0m\u001b[1;33m)\u001b[0m\u001b[1;33m\u001b[0m\u001b[1;33m\u001b[0m\u001b[0m\n\u001b[0;32m      5\u001b[0m \u001b[1;33m\u001b[0m\u001b[0m\n",
      "\u001b[1;31mNameError\u001b[0m: name 'f' is not defined"
     ]
    }
   ],
   "metadata": {}
  },
  {
   "cell_type": "code",
   "execution_count": 14,
   "source": [
    "# Global optimization with Differential Evolution\r\n",
    "# be mindful: +- 13s per popsize (n fevals) per iteration\r\n",
    "result = optimize.differential_evolution(f, bounds, constraints=[nonlinear_constraint], \r\n",
    "            maxiter=40, popsize=1, seed=420, disp=True, polish=False)"
   ],
   "outputs": [
    {
     "output_type": "stream",
     "name": "stdout",
     "text": [
      "differential_evolution step 1: f(x)= 0.370881\n",
      "differential_evolution step 2: f(x)= 0.370881\n",
      "differential_evolution step 3: f(x)= 0.370881\n",
      "differential_evolution step 4: f(x)= 0.370881\n",
      "differential_evolution step 5: f(x)= 0.370881\n",
      "differential_evolution step 6: f(x)= 0.370881\n",
      "differential_evolution step 7: f(x)= 0.370881\n",
      "differential_evolution step 8: f(x)= 0.370881\n",
      "differential_evolution step 9: f(x)= 0.370881\n",
      "differential_evolution step 10: f(x)= 0.370881\n",
      "differential_evolution step 11: f(x)= 0.370881\n",
      "differential_evolution step 12: f(x)= 0.370881\n",
      "differential_evolution step 13: f(x)= 0.370881\n",
      "differential_evolution step 14: f(x)= 0.370881\n",
      "differential_evolution step 15: f(x)= 0.370881\n",
      "differential_evolution step 16: f(x)= 0.370881\n",
      "differential_evolution step 17: f(x)= 0.370881\n",
      "differential_evolution step 18: f(x)= 0.370881\n",
      "differential_evolution step 19: f(x)= 0.370881\n",
      "differential_evolution step 20: f(x)= 0.370881\n",
      "differential_evolution step 21: f(x)= 0.359367\n",
      "differential_evolution step 22: f(x)= 0.359367\n",
      "differential_evolution step 23: f(x)= 0.35913\n",
      "differential_evolution step 24: f(x)= 0.351416\n",
      "differential_evolution step 25: f(x)= 0.351416\n",
      "differential_evolution step 26: f(x)= 0.347836\n",
      "differential_evolution step 27: f(x)= 0.347836\n",
      "differential_evolution step 28: f(x)= 0.347836\n",
      "differential_evolution step 29: f(x)= 0.347836\n",
      "differential_evolution step 30: f(x)= 0.335457\n",
      "differential_evolution step 31: f(x)= 0.335457\n",
      "differential_evolution step 32: f(x)= 0.335457\n",
      "differential_evolution step 33: f(x)= 0.335457\n",
      "differential_evolution step 34: f(x)= 0.335457\n",
      "differential_evolution step 35: f(x)= 0.322381\n",
      "differential_evolution step 36: f(x)= 0.322381\n",
      "differential_evolution step 37: f(x)= 0.322381\n",
      "differential_evolution step 38: f(x)= 0.322381\n",
      "differential_evolution step 39: f(x)= 0.322381\n",
      "differential_evolution step 40: f(x)= 0.322381\n"
     ]
    }
   ],
   "metadata": {}
  },
  {
   "cell_type": "code",
   "execution_count": 16,
   "source": [
    "# printing results of global optimization with Differential Evolution\r\n",
    "print(f(result.x))\r\n",
    "print(g(result.x))\r\n",
    "print(result.x)\r\n",
    "pprint(result)\r\n",
    "\r\n",
    "# saving results of local optimization with Differential Evolution\r\n",
    "sim_smr.interface.SaveFlowsheet(sim_smr.flowsheet, sim_smr.savepath,True)"
   ],
   "outputs": [
    {
     "output_type": "stream",
     "name": "stdout",
     "text": [
      "0.3223810730962841\n",
      "-1.3706464272561334\n",
      "(0.3223810730962841, 4.370646427256133)\n",
      "[0.40840202 1.06736134 3.61644657 2.36214307 6.23020183 1.89382445\n",
      " 2.81772401 2.27453916]\n",
      "{'constr': [array([0.])],\n",
      " 'constr_violation': 0.0,\n",
      " 'fun': 0.3223810725605125,\n",
      " 'maxcv': 0.0,\n",
      " 'message': 'Maximum number of iterations has been exceeded.',\n",
      " 'nfev': 145,\n",
      " 'nit': 40,\n",
      " 'success': False,\n",
      " 'x': array([0.40840202, 1.06736134, 3.61644657, 2.36214307, 6.23020183,\n",
      "       1.89382445, 2.81772401, 2.27453916])}\n"
     ]
    }
   ],
   "metadata": {}
  },
  {
   "cell_type": "code",
   "execution_count": 5,
   "source": [
    "# Global optimization with PSO\r\n",
    "from sko.PSO import PSO\r\n",
    "\r\n",
    "f_pen = lambda x: fpen_barrier(sim_smr,x/regularizer)\r\n",
    "result_pso = PSO(func=f_pen, n_dim=8, pop=8*2, max_iter=10, lb=bounds_reg[0], ub=bounds_reg[1], verbose=True)\r\n",
    "result_pso.record_mode = True\r\n",
    "result_pso.run()"
   ],
   "outputs": [
    {
     "output_type": "stream",
     "name": "stdout",
     "text": [
      "Iter: 0, Best fit: [0.41431099] at [0.34722222 1.59464    3.86190729 2.1265723  6.3149064  1.84493487\n",
      " 5.02863295 2.49848299]\n",
      "Iter: 1, Best fit: [0.41431099] at [0.34722222 1.59464    3.86190729 2.1265723  6.3149064  1.84493487\n",
      " 5.02863295 2.49848299]\n",
      "Iter: 2, Best fit: [0.41431099] at [0.34722222 1.59464    3.86190729 2.1265723  6.3149064  1.84493487\n",
      " 5.02863295 2.49848299]\n",
      "Iter: 3, Best fit: [0.41431099] at [0.34722222 1.59464    3.86190729 2.1265723  6.3149064  1.84493487\n",
      " 5.02863295 2.49848299]\n",
      "Iter: 4, Best fit: [0.41431099] at [0.34722222 1.59464    3.86190729 2.1265723  6.3149064  1.84493487\n",
      " 5.02863295 2.49848299]\n",
      "Iter: 5, Best fit: [0.41431099] at [0.34722222 1.59464    3.86190729 2.1265723  6.3149064  1.84493487\n",
      " 5.02863295 2.49848299]\n",
      "Iter: 6, Best fit: [0.39274109] at [0.34832935 1.10145035 4.16666667 2.1932207  6.87968806 1.65017358\n",
      " 4.63593728 2.31560997]\n",
      "Iter: 7, Best fit: [0.39274109] at [0.34832935 1.10145035 4.16666667 2.1932207  6.87968806 1.65017358\n",
      " 4.63593728 2.31560997]\n",
      "Iter: 8, Best fit: [0.38178751] at [0.34722222 1.06766769 4.16666667 1.84400771 6.91905944 1.54416112\n",
      " 3.72018925 2.31811806]\n",
      "Iter: 9, Best fit: [0.38063332] at [0.34722222 1.01268197 4.16666667 1.99753691 6.79884331 1.51368542\n",
      " 3.58655055 2.22340088]\n"
     ]
    },
    {
     "output_type": "display_data",
     "data": {
      "text/plain": [
       "(array([0.34722222, 1.01268197, 4.16666667, 1.99753691, 6.79884331,\n",
       "        1.51368542, 3.58655055, 2.22340088]),\n",
       " array([0.38063332]))"
      ]
     },
     "metadata": {}
    }
   ],
   "metadata": {}
  },
  {
   "cell_type": "code",
   "execution_count": 10,
   "source": [
    "# printing results of global optimization with Differential Evolution\r\n",
    "xpso = np.array([0.40840202, 1.06736134, 3.61644657, 2.36214307, 6.23020183, 1.89382445, 2.81772401, 2.27453916])\r\n",
    "print(sim_smr.fobj(xpso/regularizer))\r\n",
    "# print(g(xpso))\r\n",
    "print(xpso)\r\n",
    "\r\n",
    "# saving results of local optimization with Differential Evolution\r\n",
    "sim_smr.interface.SaveFlowsheet(sim_smr.flowsheet, sim_smr.savepath,True)"
   ],
   "outputs": [
    {
     "output_type": "stream",
     "name": "stdout",
     "text": [
      "(0.32238107289954754, -1.3706464528794697)\n",
      "[0.40840202 1.06736134 3.61644657 2.36214307 6.23020183 1.89382445\n",
      " 2.81772401 2.27453916]\n"
     ]
    }
   ],
   "metadata": {}
  },
  {
   "cell_type": "code",
   "execution_count": 6,
   "source": [
    "import matplotlib.pyplot as plt\r\n",
    "\r\n",
    "print(f(result_pso.gbest_x))\r\n",
    "print(g(result_pso.gbest_x))\r\n",
    "sim_smr.interface.SaveFlowsheet(sim_smr.flowsheet, sim_smr.savepath,True)\r\n",
    "print(result_pso.gbest_x)\r\n",
    "pprint(result_pso)\r\n",
    "print(f_pen(result_pso.gbest_x))\r\n",
    "\r\n",
    "plt.plot(result_pso.gbest_y_hist)\r\n",
    "plt.show()"
   ],
   "outputs": [
    {
     "output_type": "stream",
     "name": "stdout",
     "text": [
      "0.3806333224550386\n",
      "4.587274213343406\n",
      "[0.34722222 1.01268197 4.16666667 1.99753691 6.79884331 1.51368542\n",
      " 3.58655055 2.22340088]\n",
      "<sko.PSO.PSO object at 0x00000212E5BBD970>\n",
      "0.3806333224550386\n"
     ]
    },
    {
     "output_type": "display_data",
     "data": {
      "text/plain": [
       "<Figure size 432x288 with 1 Axes>"
      ],
      "image/svg+xml": "<?xml version=\"1.0\" encoding=\"utf-8\" standalone=\"no\"?>\n<!DOCTYPE svg PUBLIC \"-//W3C//DTD SVG 1.1//EN\"\n  \"http://www.w3.org/Graphics/SVG/1.1/DTD/svg11.dtd\">\n<svg xmlns:xlink=\"http://www.w3.org/1999/xlink\" width=\"384.828125pt\" height=\"248.518125pt\" viewBox=\"0 0 384.828125 248.518125\" xmlns=\"http://www.w3.org/2000/svg\" version=\"1.1\">\n <metadata>\n  <rdf:RDF xmlns:dc=\"http://purl.org/dc/elements/1.1/\" xmlns:cc=\"http://creativecommons.org/ns#\" xmlns:rdf=\"http://www.w3.org/1999/02/22-rdf-syntax-ns#\">\n   <cc:Work>\n    <dc:type rdf:resource=\"http://purl.org/dc/dcmitype/StillImage\"/>\n    <dc:date>2021-12-09T16:49:56.783378</dc:date>\n    <dc:format>image/svg+xml</dc:format>\n    <dc:creator>\n     <cc:Agent>\n      <dc:title>Matplotlib v3.5.0, https://matplotlib.org/</dc:title>\n     </cc:Agent>\n    </dc:creator>\n   </cc:Work>\n  </rdf:RDF>\n </metadata>\n <defs>\n  <style type=\"text/css\">*{stroke-linejoin: round; stroke-linecap: butt}</style>\n </defs>\n <g id=\"figure_1\">\n  <g id=\"patch_1\">\n   <path d=\"M 0 248.518125 \nL 384.828125 248.518125 \nL 384.828125 0 \nL 0 0 \nL 0 248.518125 \nz\n\" style=\"fill: none\"/>\n  </g>\n  <g id=\"axes_1\">\n   <g id=\"patch_2\">\n    <path d=\"M 42.828125 224.64 \nL 377.628125 224.64 \nL 377.628125 7.2 \nL 42.828125 7.2 \nz\n\" style=\"fill: #ffffff\"/>\n   </g>\n   <g id=\"matplotlib.axis_1\">\n    <g id=\"xtick_1\">\n     <g id=\"line2d_1\">\n      <defs>\n       <path id=\"m4026f9fb6a\" d=\"M 0 0 \nL 0 3.5 \n\" style=\"stroke: #000000; stroke-width: 0.8\"/>\n      </defs>\n      <g>\n       <use xlink:href=\"#m4026f9fb6a\" x=\"58.046307\" y=\"224.64\" style=\"stroke: #000000; stroke-width: 0.8\"/>\n      </g>\n     </g>\n     <g id=\"text_1\">\n      <!-- 0 -->\n      <g transform=\"translate(54.865057 239.238437)scale(0.1 -0.1)\">\n       <defs>\n        <path id=\"DejaVuSans-30\" d=\"M 2034 4250 \nQ 1547 4250 1301 3770 \nQ 1056 3291 1056 2328 \nQ 1056 1369 1301 889 \nQ 1547 409 2034 409 \nQ 2525 409 2770 889 \nQ 3016 1369 3016 2328 \nQ 3016 3291 2770 3770 \nQ 2525 4250 2034 4250 \nz\nM 2034 4750 \nQ 2819 4750 3233 4129 \nQ 3647 3509 3647 2328 \nQ 3647 1150 3233 529 \nQ 2819 -91 2034 -91 \nQ 1250 -91 836 529 \nQ 422 1150 422 2328 \nQ 422 3509 836 4129 \nQ 1250 4750 2034 4750 \nz\n\" transform=\"scale(0.015625)\"/>\n       </defs>\n       <use xlink:href=\"#DejaVuSans-30\"/>\n      </g>\n     </g>\n    </g>\n    <g id=\"xtick_2\">\n     <g id=\"line2d_2\">\n      <g>\n       <use xlink:href=\"#m4026f9fb6a\" x=\"125.68267\" y=\"224.64\" style=\"stroke: #000000; stroke-width: 0.8\"/>\n      </g>\n     </g>\n     <g id=\"text_2\">\n      <!-- 2 -->\n      <g transform=\"translate(122.50142 239.238437)scale(0.1 -0.1)\">\n       <defs>\n        <path id=\"DejaVuSans-32\" d=\"M 1228 531 \nL 3431 531 \nL 3431 0 \nL 469 0 \nL 469 531 \nQ 828 903 1448 1529 \nQ 2069 2156 2228 2338 \nQ 2531 2678 2651 2914 \nQ 2772 3150 2772 3378 \nQ 2772 3750 2511 3984 \nQ 2250 4219 1831 4219 \nQ 1534 4219 1204 4116 \nQ 875 4013 500 3803 \nL 500 4441 \nQ 881 4594 1212 4672 \nQ 1544 4750 1819 4750 \nQ 2544 4750 2975 4387 \nQ 3406 4025 3406 3419 \nQ 3406 3131 3298 2873 \nQ 3191 2616 2906 2266 \nQ 2828 2175 2409 1742 \nQ 1991 1309 1228 531 \nz\n\" transform=\"scale(0.015625)\"/>\n       </defs>\n       <use xlink:href=\"#DejaVuSans-32\"/>\n      </g>\n     </g>\n    </g>\n    <g id=\"xtick_3\">\n     <g id=\"line2d_3\">\n      <g>\n       <use xlink:href=\"#m4026f9fb6a\" x=\"193.319034\" y=\"224.64\" style=\"stroke: #000000; stroke-width: 0.8\"/>\n      </g>\n     </g>\n     <g id=\"text_3\">\n      <!-- 4 -->\n      <g transform=\"translate(190.137784 239.238437)scale(0.1 -0.1)\">\n       <defs>\n        <path id=\"DejaVuSans-34\" d=\"M 2419 4116 \nL 825 1625 \nL 2419 1625 \nL 2419 4116 \nz\nM 2253 4666 \nL 3047 4666 \nL 3047 1625 \nL 3713 1625 \nL 3713 1100 \nL 3047 1100 \nL 3047 0 \nL 2419 0 \nL 2419 1100 \nL 313 1100 \nL 313 1709 \nL 2253 4666 \nz\n\" transform=\"scale(0.015625)\"/>\n       </defs>\n       <use xlink:href=\"#DejaVuSans-34\"/>\n      </g>\n     </g>\n    </g>\n    <g id=\"xtick_4\">\n     <g id=\"line2d_4\">\n      <g>\n       <use xlink:href=\"#m4026f9fb6a\" x=\"260.955398\" y=\"224.64\" style=\"stroke: #000000; stroke-width: 0.8\"/>\n      </g>\n     </g>\n     <g id=\"text_4\">\n      <!-- 6 -->\n      <g transform=\"translate(257.774148 239.238437)scale(0.1 -0.1)\">\n       <defs>\n        <path id=\"DejaVuSans-36\" d=\"M 2113 2584 \nQ 1688 2584 1439 2293 \nQ 1191 2003 1191 1497 \nQ 1191 994 1439 701 \nQ 1688 409 2113 409 \nQ 2538 409 2786 701 \nQ 3034 994 3034 1497 \nQ 3034 2003 2786 2293 \nQ 2538 2584 2113 2584 \nz\nM 3366 4563 \nL 3366 3988 \nQ 3128 4100 2886 4159 \nQ 2644 4219 2406 4219 \nQ 1781 4219 1451 3797 \nQ 1122 3375 1075 2522 \nQ 1259 2794 1537 2939 \nQ 1816 3084 2150 3084 \nQ 2853 3084 3261 2657 \nQ 3669 2231 3669 1497 \nQ 3669 778 3244 343 \nQ 2819 -91 2113 -91 \nQ 1303 -91 875 529 \nQ 447 1150 447 2328 \nQ 447 3434 972 4092 \nQ 1497 4750 2381 4750 \nQ 2619 4750 2861 4703 \nQ 3103 4656 3366 4563 \nz\n\" transform=\"scale(0.015625)\"/>\n       </defs>\n       <use xlink:href=\"#DejaVuSans-36\"/>\n      </g>\n     </g>\n    </g>\n    <g id=\"xtick_5\">\n     <g id=\"line2d_5\">\n      <g>\n       <use xlink:href=\"#m4026f9fb6a\" x=\"328.591761\" y=\"224.64\" style=\"stroke: #000000; stroke-width: 0.8\"/>\n      </g>\n     </g>\n     <g id=\"text_5\">\n      <!-- 8 -->\n      <g transform=\"translate(325.410511 239.238437)scale(0.1 -0.1)\">\n       <defs>\n        <path id=\"DejaVuSans-38\" d=\"M 2034 2216 \nQ 1584 2216 1326 1975 \nQ 1069 1734 1069 1313 \nQ 1069 891 1326 650 \nQ 1584 409 2034 409 \nQ 2484 409 2743 651 \nQ 3003 894 3003 1313 \nQ 3003 1734 2745 1975 \nQ 2488 2216 2034 2216 \nz\nM 1403 2484 \nQ 997 2584 770 2862 \nQ 544 3141 544 3541 \nQ 544 4100 942 4425 \nQ 1341 4750 2034 4750 \nQ 2731 4750 3128 4425 \nQ 3525 4100 3525 3541 \nQ 3525 3141 3298 2862 \nQ 3072 2584 2669 2484 \nQ 3125 2378 3379 2068 \nQ 3634 1759 3634 1313 \nQ 3634 634 3220 271 \nQ 2806 -91 2034 -91 \nQ 1263 -91 848 271 \nQ 434 634 434 1313 \nQ 434 1759 690 2068 \nQ 947 2378 1403 2484 \nz\nM 1172 3481 \nQ 1172 3119 1398 2916 \nQ 1625 2713 2034 2713 \nQ 2441 2713 2670 2916 \nQ 2900 3119 2900 3481 \nQ 2900 3844 2670 4047 \nQ 2441 4250 2034 4250 \nQ 1625 4250 1398 4047 \nQ 1172 3844 1172 3481 \nz\n\" transform=\"scale(0.015625)\"/>\n       </defs>\n       <use xlink:href=\"#DejaVuSans-38\"/>\n      </g>\n     </g>\n    </g>\n   </g>\n   <g id=\"matplotlib.axis_2\">\n    <g id=\"ytick_1\">\n     <g id=\"line2d_6\">\n      <defs>\n       <path id=\"m6e55bcf500\" d=\"M 0 0 \nL -3.5 0 \n\" style=\"stroke: #000000; stroke-width: 0.8\"/>\n      </defs>\n      <g>\n       <use xlink:href=\"#m6e55bcf500\" x=\"42.828125\" y=\"218.473682\" style=\"stroke: #000000; stroke-width: 0.8\"/>\n      </g>\n     </g>\n     <g id=\"text_6\">\n      <!-- 0.380 -->\n      <g transform=\"translate(7.2 222.272901)scale(0.1 -0.1)\">\n       <defs>\n        <path id=\"DejaVuSans-2e\" d=\"M 684 794 \nL 1344 794 \nL 1344 0 \nL 684 0 \nL 684 794 \nz\n\" transform=\"scale(0.015625)\"/>\n        <path id=\"DejaVuSans-33\" d=\"M 2597 2516 \nQ 3050 2419 3304 2112 \nQ 3559 1806 3559 1356 \nQ 3559 666 3084 287 \nQ 2609 -91 1734 -91 \nQ 1441 -91 1130 -33 \nQ 819 25 488 141 \nL 488 750 \nQ 750 597 1062 519 \nQ 1375 441 1716 441 \nQ 2309 441 2620 675 \nQ 2931 909 2931 1356 \nQ 2931 1769 2642 2001 \nQ 2353 2234 1838 2234 \nL 1294 2234 \nL 1294 2753 \nL 1863 2753 \nQ 2328 2753 2575 2939 \nQ 2822 3125 2822 3475 \nQ 2822 3834 2567 4026 \nQ 2313 4219 1838 4219 \nQ 1578 4219 1281 4162 \nQ 984 4106 628 3988 \nL 628 4550 \nQ 988 4650 1302 4700 \nQ 1616 4750 1894 4750 \nQ 2613 4750 3031 4423 \nQ 3450 4097 3450 3541 \nQ 3450 3153 3228 2886 \nQ 3006 2619 2597 2516 \nz\n\" transform=\"scale(0.015625)\"/>\n       </defs>\n       <use xlink:href=\"#DejaVuSans-30\"/>\n       <use xlink:href=\"#DejaVuSans-2e\" x=\"63.623047\"/>\n       <use xlink:href=\"#DejaVuSans-33\" x=\"95.410156\"/>\n       <use xlink:href=\"#DejaVuSans-38\" x=\"159.033203\"/>\n       <use xlink:href=\"#DejaVuSans-30\" x=\"222.65625\"/>\n      </g>\n     </g>\n    </g>\n    <g id=\"ytick_2\">\n     <g id=\"line2d_7\">\n      <g>\n       <use xlink:href=\"#m6e55bcf500\" x=\"42.828125\" y=\"189.125932\" style=\"stroke: #000000; stroke-width: 0.8\"/>\n      </g>\n     </g>\n     <g id=\"text_7\">\n      <!-- 0.385 -->\n      <g transform=\"translate(7.2 192.92515)scale(0.1 -0.1)\">\n       <defs>\n        <path id=\"DejaVuSans-35\" d=\"M 691 4666 \nL 3169 4666 \nL 3169 4134 \nL 1269 4134 \nL 1269 2991 \nQ 1406 3038 1543 3061 \nQ 1681 3084 1819 3084 \nQ 2600 3084 3056 2656 \nQ 3513 2228 3513 1497 \nQ 3513 744 3044 326 \nQ 2575 -91 1722 -91 \nQ 1428 -91 1123 -41 \nQ 819 9 494 109 \nL 494 744 \nQ 775 591 1075 516 \nQ 1375 441 1709 441 \nQ 2250 441 2565 725 \nQ 2881 1009 2881 1497 \nQ 2881 1984 2565 2268 \nQ 2250 2553 1709 2553 \nQ 1456 2553 1204 2497 \nQ 953 2441 691 2322 \nL 691 4666 \nz\n\" transform=\"scale(0.015625)\"/>\n       </defs>\n       <use xlink:href=\"#DejaVuSans-30\"/>\n       <use xlink:href=\"#DejaVuSans-2e\" x=\"63.623047\"/>\n       <use xlink:href=\"#DejaVuSans-33\" x=\"95.410156\"/>\n       <use xlink:href=\"#DejaVuSans-38\" x=\"159.033203\"/>\n       <use xlink:href=\"#DejaVuSans-35\" x=\"222.65625\"/>\n      </g>\n     </g>\n    </g>\n    <g id=\"ytick_3\">\n     <g id=\"line2d_8\">\n      <g>\n       <use xlink:href=\"#m6e55bcf500\" x=\"42.828125\" y=\"159.778181\" style=\"stroke: #000000; stroke-width: 0.8\"/>\n      </g>\n     </g>\n     <g id=\"text_8\">\n      <!-- 0.390 -->\n      <g transform=\"translate(7.2 163.5774)scale(0.1 -0.1)\">\n       <defs>\n        <path id=\"DejaVuSans-39\" d=\"M 703 97 \nL 703 672 \nQ 941 559 1184 500 \nQ 1428 441 1663 441 \nQ 2288 441 2617 861 \nQ 2947 1281 2994 2138 \nQ 2813 1869 2534 1725 \nQ 2256 1581 1919 1581 \nQ 1219 1581 811 2004 \nQ 403 2428 403 3163 \nQ 403 3881 828 4315 \nQ 1253 4750 1959 4750 \nQ 2769 4750 3195 4129 \nQ 3622 3509 3622 2328 \nQ 3622 1225 3098 567 \nQ 2575 -91 1691 -91 \nQ 1453 -91 1209 -44 \nQ 966 3 703 97 \nz\nM 1959 2075 \nQ 2384 2075 2632 2365 \nQ 2881 2656 2881 3163 \nQ 2881 3666 2632 3958 \nQ 2384 4250 1959 4250 \nQ 1534 4250 1286 3958 \nQ 1038 3666 1038 3163 \nQ 1038 2656 1286 2365 \nQ 1534 2075 1959 2075 \nz\n\" transform=\"scale(0.015625)\"/>\n       </defs>\n       <use xlink:href=\"#DejaVuSans-30\"/>\n       <use xlink:href=\"#DejaVuSans-2e\" x=\"63.623047\"/>\n       <use xlink:href=\"#DejaVuSans-33\" x=\"95.410156\"/>\n       <use xlink:href=\"#DejaVuSans-39\" x=\"159.033203\"/>\n       <use xlink:href=\"#DejaVuSans-30\" x=\"222.65625\"/>\n      </g>\n     </g>\n    </g>\n    <g id=\"ytick_4\">\n     <g id=\"line2d_9\">\n      <g>\n       <use xlink:href=\"#m6e55bcf500\" x=\"42.828125\" y=\"130.430431\" style=\"stroke: #000000; stroke-width: 0.8\"/>\n      </g>\n     </g>\n     <g id=\"text_9\">\n      <!-- 0.395 -->\n      <g transform=\"translate(7.2 134.22965)scale(0.1 -0.1)\">\n       <use xlink:href=\"#DejaVuSans-30\"/>\n       <use xlink:href=\"#DejaVuSans-2e\" x=\"63.623047\"/>\n       <use xlink:href=\"#DejaVuSans-33\" x=\"95.410156\"/>\n       <use xlink:href=\"#DejaVuSans-39\" x=\"159.033203\"/>\n       <use xlink:href=\"#DejaVuSans-35\" x=\"222.65625\"/>\n      </g>\n     </g>\n    </g>\n    <g id=\"ytick_5\">\n     <g id=\"line2d_10\">\n      <g>\n       <use xlink:href=\"#m6e55bcf500\" x=\"42.828125\" y=\"101.082681\" style=\"stroke: #000000; stroke-width: 0.8\"/>\n      </g>\n     </g>\n     <g id=\"text_10\">\n      <!-- 0.400 -->\n      <g transform=\"translate(7.2 104.881899)scale(0.1 -0.1)\">\n       <use xlink:href=\"#DejaVuSans-30\"/>\n       <use xlink:href=\"#DejaVuSans-2e\" x=\"63.623047\"/>\n       <use xlink:href=\"#DejaVuSans-34\" x=\"95.410156\"/>\n       <use xlink:href=\"#DejaVuSans-30\" x=\"159.033203\"/>\n       <use xlink:href=\"#DejaVuSans-30\" x=\"222.65625\"/>\n      </g>\n     </g>\n    </g>\n    <g id=\"ytick_6\">\n     <g id=\"line2d_11\">\n      <g>\n       <use xlink:href=\"#m6e55bcf500\" x=\"42.828125\" y=\"71.73493\" style=\"stroke: #000000; stroke-width: 0.8\"/>\n      </g>\n     </g>\n     <g id=\"text_11\">\n      <!-- 0.405 -->\n      <g transform=\"translate(7.2 75.534149)scale(0.1 -0.1)\">\n       <use xlink:href=\"#DejaVuSans-30\"/>\n       <use xlink:href=\"#DejaVuSans-2e\" x=\"63.623047\"/>\n       <use xlink:href=\"#DejaVuSans-34\" x=\"95.410156\"/>\n       <use xlink:href=\"#DejaVuSans-30\" x=\"159.033203\"/>\n       <use xlink:href=\"#DejaVuSans-35\" x=\"222.65625\"/>\n      </g>\n     </g>\n    </g>\n    <g id=\"ytick_7\">\n     <g id=\"line2d_12\">\n      <g>\n       <use xlink:href=\"#m6e55bcf500\" x=\"42.828125\" y=\"42.38718\" style=\"stroke: #000000; stroke-width: 0.8\"/>\n      </g>\n     </g>\n     <g id=\"text_12\">\n      <!-- 0.410 -->\n      <g transform=\"translate(7.2 46.186399)scale(0.1 -0.1)\">\n       <defs>\n        <path id=\"DejaVuSans-31\" d=\"M 794 531 \nL 1825 531 \nL 1825 4091 \nL 703 3866 \nL 703 4441 \nL 1819 4666 \nL 2450 4666 \nL 2450 531 \nL 3481 531 \nL 3481 0 \nL 794 0 \nL 794 531 \nz\n\" transform=\"scale(0.015625)\"/>\n       </defs>\n       <use xlink:href=\"#DejaVuSans-30\"/>\n       <use xlink:href=\"#DejaVuSans-2e\" x=\"63.623047\"/>\n       <use xlink:href=\"#DejaVuSans-34\" x=\"95.410156\"/>\n       <use xlink:href=\"#DejaVuSans-31\" x=\"159.033203\"/>\n       <use xlink:href=\"#DejaVuSans-30\" x=\"222.65625\"/>\n      </g>\n     </g>\n    </g>\n    <g id=\"ytick_8\">\n     <g id=\"line2d_13\">\n      <g>\n       <use xlink:href=\"#m6e55bcf500\" x=\"42.828125\" y=\"13.03943\" style=\"stroke: #000000; stroke-width: 0.8\"/>\n      </g>\n     </g>\n     <g id=\"text_13\">\n      <!-- 0.415 -->\n      <g transform=\"translate(7.2 16.838648)scale(0.1 -0.1)\">\n       <use xlink:href=\"#DejaVuSans-30\"/>\n       <use xlink:href=\"#DejaVuSans-2e\" x=\"63.623047\"/>\n       <use xlink:href=\"#DejaVuSans-34\" x=\"95.410156\"/>\n       <use xlink:href=\"#DejaVuSans-31\" x=\"159.033203\"/>\n       <use xlink:href=\"#DejaVuSans-35\" x=\"222.65625\"/>\n      </g>\n     </g>\n    </g>\n   </g>\n   <g id=\"line2d_14\">\n    <path d=\"M 58.046307 17.083636 \nL 91.864489 17.083636 \nL 125.68267 17.083636 \nL 159.500852 17.083636 \nL 193.319034 17.083636 \nL 227.137216 17.083636 \nL 260.955398 143.689199 \nL 294.77358 143.689199 \nL 328.591761 207.981831 \nL 362.409943 214.756364 \n\" clip-path=\"url(#p60ec04e8bc)\" style=\"fill: none; stroke: #1f77b4; stroke-width: 1.5; stroke-linecap: square\"/>\n   </g>\n   <g id=\"patch_3\">\n    <path d=\"M 42.828125 224.64 \nL 42.828125 7.2 \n\" style=\"fill: none; stroke: #000000; stroke-width: 0.8; stroke-linejoin: miter; stroke-linecap: square\"/>\n   </g>\n   <g id=\"patch_4\">\n    <path d=\"M 377.628125 224.64 \nL 377.628125 7.2 \n\" style=\"fill: none; stroke: #000000; stroke-width: 0.8; stroke-linejoin: miter; stroke-linecap: square\"/>\n   </g>\n   <g id=\"patch_5\">\n    <path d=\"M 42.828125 224.64 \nL 377.628125 224.64 \n\" style=\"fill: none; stroke: #000000; stroke-width: 0.8; stroke-linejoin: miter; stroke-linecap: square\"/>\n   </g>\n   <g id=\"patch_6\">\n    <path d=\"M 42.828125 7.2 \nL 377.628125 7.2 \n\" style=\"fill: none; stroke: #000000; stroke-width: 0.8; stroke-linejoin: miter; stroke-linecap: square\"/>\n   </g>\n  </g>\n </g>\n <defs>\n  <clipPath id=\"p60ec04e8bc\">\n   <rect x=\"42.828125\" y=\"7.2\" width=\"334.8\" height=\"217.44\"/>\n  </clipPath>\n </defs>\n</svg>\n",
      "image/png": "[encoded data removed]"
     },
     "metadata": {}
    }
   ],
   "metadata": {}
  }
 ],
 "metadata": {
  "orig_nbformat": 4,
  "language_info": {
   "name": "python",
   "version": "3.9.1",
   "mimetype": "text/x-python",
   "codemirror_mode": {
    "name": "ipython",
    "version": 3
   },
   "pygments_lexer": "ipython3",
   "nbconvert_exporter": "python",
   "file_extension": ".py"
  },
  "kernelspec": {
   "name": "python3",
   "display_name": "Python 3.9.1 64-bit ('venv': venv)"
  },
  "interpreter": {
   "hash": "d0f6a11f750e143c658e3ba8c490a06ed5f9dc51708f0fef62d123fb40576efd"
  }
 },
 "nbformat": 4,
 "nbformat_minor": 2
}