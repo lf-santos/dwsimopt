{
 "cells": [
  {
   "cell_type": "code",
   "execution_count": 1,
   "source": [
    "from pyDWSIMopt.interface import simulation\r\n",
    "import numpy as np\r\n",
    "from scipy import optimize\r\n",
    "from pprint import pprint"
   ],
   "outputs": [
    {
     "output_type": "error",
     "ename": "ModuleNotFoundError",
     "evalue": "No module named 'simulation'",
     "traceback": [
      "\u001b[1;31m---------------------------------------------------------------------------\u001b[0m",
      "\u001b[1;31mModuleNotFoundError\u001b[0m                       Traceback (most recent call last)",
      "\u001b[1;32m~\\AppData\\Local\\Temp/ipykernel_19964/2408622275.py\u001b[0m in \u001b[0;36m<module>\u001b[1;34m\u001b[0m\n\u001b[0;32m      1\u001b[0m \u001b[1;31m# from pyDWSIMconnect import PyDWSIMconnect\u001b[0m\u001b[1;33m\u001b[0m\u001b[1;33m\u001b[0m\u001b[1;33m\u001b[0m\u001b[0m\n\u001b[1;32m----> 2\u001b[1;33m \u001b[1;32mfrom\u001b[0m \u001b[0msimulation\u001b[0m \u001b[1;32mimport\u001b[0m \u001b[0mSimulation\u001b[0m\u001b[1;33m\u001b[0m\u001b[1;33m\u001b[0m\u001b[0m\n\u001b[0m\u001b[0;32m      3\u001b[0m \u001b[1;32mimport\u001b[0m \u001b[0mnumpy\u001b[0m \u001b[1;32mas\u001b[0m \u001b[0mnp\u001b[0m\u001b[1;33m\u001b[0m\u001b[1;33m\u001b[0m\u001b[0m\n\u001b[0;32m      4\u001b[0m \u001b[1;32mfrom\u001b[0m \u001b[0mscipy\u001b[0m \u001b[1;32mimport\u001b[0m \u001b[0moptimize\u001b[0m\u001b[1;33m\u001b[0m\u001b[1;33m\u001b[0m\u001b[0m\n\u001b[0;32m      5\u001b[0m \u001b[1;32mfrom\u001b[0m \u001b[0mpprint\u001b[0m \u001b[1;32mimport\u001b[0m \u001b[0mpprint\u001b[0m\u001b[1;33m\u001b[0m\u001b[1;33m\u001b[0m\u001b[0m\n",
      "\u001b[1;31mModuleNotFoundError\u001b[0m: No module named 'simulation'"
     ]
    }
   ],
   "metadata": {}
  },
  {
   "cell_type": "code",
   "execution_count": null,
   "source": [
    "# Loading DWSIM simulation into Python (Simulation object)\r\n",
    "sim_smr = Simulation(path2sim=\"C:\\\\Users\\\\lfsfr\\\\Desktop\\\\pyDWSIMopt\\\\sim\\\\SMR_2exp_phaseSep_MSHE_MITApy.dwxmz\")\r\n",
    "sim_smr.savepath = \"C:\\\\Users\\\\lfsfr\\\\Desktop\\\\pyDWSIMopt\\\\sim\\\\SMR_2exp_phaseSep_MSHE_MITApy2.dwxmz\"\r\n",
    "sim_smr.Add_refs()\r\n",
    "sim_smr.Connect()"
   ],
   "outputs": [],
   "metadata": {}
  },
  {
   "cell_type": "code",
   "execution_count": null,
   "source": [
    "def fobj8n_2exp(sim_smr, x):\r\n",
    "    mr1 = sim_smr.flowsheet.GetFlowsheetSimulationObject(\"MR-1\")\r\n",
    "    comp1 = sim_smr.flowsheet.GetFlowsheetSimulationObject(\"COMP-1\") \r\n",
    "    comp2 = sim_smr.flowsheet.GetFlowsheetSimulationObject(\"COMP-2\") \r\n",
    "    comp3 = sim_smr.flowsheet.GetFlowsheetSimulationObject(\"COMP-3\") \r\n",
    "    comp4 = sim_smr.flowsheet.GetFlowsheetSimulationObject(\"COMP-4\") \r\n",
    "    pump1 = sim_smr.flowsheet.GetFlowsheetSimulationObject(\"PUMP-01\") \r\n",
    "    pump2 = sim_smr.flowsheet.GetFlowsheetSimulationObject(\"PUMP-02\") \r\n",
    "    vlv1 = sim_smr.flowsheet.GetFlowsheetSimulationObject(\"VALV-01\")\r\n",
    "    cool8 = sim_smr.flowsheet.GetFlowsheetSimulationObject(\"COOL-08\")\r\n",
    "    lng = sim_smr.flowsheet.GetFlowsheetSimulationObject(\"LNG-1\")\r\n",
    "    if sim_smr.x is None:\r\n",
    "        sim_smr.x = np.zeros(len(x))\r\n",
    "    if np.linalg.norm(sim_smr.x - np.asarray(x))>1e-10:\r\n",
    "        sep1 = sim_smr.flowsheet.GetFlowsheetSimulationObject(\"SEP-02\")\r\n",
    "        sep2 = sim_smr.flowsheet.GetFlowsheetSimulationObject(\"SEP-03\")\r\n",
    "        sep1.GraphicObject.Activate = False\r\n",
    "        sep2.GraphicObject.Activate = False\r\n",
    "\r\n",
    "        mr1.SetOverallCompoundMassFlow(0,x[1])\r\n",
    "        mr1.SetOverallCompoundMassFlow(1,x[2])\r\n",
    "        mr1.SetOverallCompoundMassFlow(2,x[3])\r\n",
    "        mr1.SetOverallCompoundMassFlow(5,x[4])\r\n",
    "        mr1.SetOverallCompoundMassFlow(7,x[0])\r\n",
    "        vlv1.OutletPressure = x[5]\r\n",
    "        comp4.POut = x[6]\r\n",
    "        cool8.OutletTemperature = x[7]\r\n",
    "\r\n",
    "        sim_smr.interface.CalculateFlowsheet2(sim_smr.flowsheet)\r\n",
    "        if sim_smr.flowsheet.GetFlowsheetSimulationObject(\"MSTR-03\").Phases[1].Properties.massfraction < 1e-5:\r\n",
    "            pump1.GraphicObject.Active = False\r\n",
    "            # print(sim_smr.flowsheet.GetFlowsheetSimulationObject(\"PUMP-01\").GraphicObject.Active)\r\n",
    "            sim_smr.flowsheet.DisconnectObjects(\r\n",
    "                sim_smr.flowsheet.GetFlowsheetSimulationObject(\"MSTR-29\").GraphicObject,\r\n",
    "                sim_smr.flowsheet.GetFlowsheetSimulationObject(\"MIX-02\").GraphicObject)\r\n",
    "        else:\r\n",
    "            pump1.GraphicObject.Active = True\r\n",
    "            sim_smr.flowsheet.DisconnectObjects(\r\n",
    "                sim_smr.flowsheet.GetFlowsheetSimulationObject(\"MSTR-29\").GraphicObject,\r\n",
    "                sim_smr.flowsheet.GetFlowsheetSimulationObject(\"MIX-02\").GraphicObject)     #avoid bug\r\n",
    "            sim_smr.flowsheet.ConnectObjects(\r\n",
    "                sim_smr.flowsheet.GetFlowsheetSimulationObject(\"MSTR-29\").GraphicObject,\r\n",
    "                sim_smr.flowsheet.GetFlowsheetSimulationObject(\"MIX-02\").GraphicObject,-1,-1)\r\n",
    "        sep1.GraphicObject.Active = True\r\n",
    "        sep1.Calculate()\r\n",
    "        sim_smr.interface.CalculateFlowsheet2(sim_smr.flowsheet)\r\n",
    "        if sim_smr.flowsheet.GetFlowsheetSimulationObject(\"MSTR-05\").Phases[1].Properties.massfraction < 1e-5:\r\n",
    "            pump2.GraphicObject.Active = False\r\n",
    "            sim_smr.flowsheet.DisconnectObjects(\r\n",
    "                sim_smr.flowsheet.GetFlowsheetSimulationObject(\"MSTR-30\").GraphicObject,\r\n",
    "                sim_smr.flowsheet.GetFlowsheetSimulationObject(\"MIX-02\").GraphicObject)\r\n",
    "        else:\r\n",
    "            pump2.GraphicObject.Active = True\r\n",
    "            pump2.Calculate()\r\n",
    "            sim_smr.flowsheet.DisconnectObjects(\r\n",
    "                sim_smr.flowsheet.GetFlowsheetSimulationObject(\"MSTR-30\").GraphicObject,\r\n",
    "                sim_smr.flowsheet.GetFlowsheetSimulationObject(\"MIX-02\").GraphicObject)\r\n",
    "            sim_smr.flowsheet.ConnectObjects(\r\n",
    "                sim_smr.flowsheet.GetFlowsheetSimulationObject(\"MSTR-30\").GraphicObject,\r\n",
    "                sim_smr.flowsheet.GetFlowsheetSimulationObject(\"MIX-02\").GraphicObject,-1,-1)\r\n",
    "        sep2.GraphicObject.Active = True\r\n",
    "        sep2.Calculate()\r\n",
    "        sim_smr.interface.CalculateFlowsheet2(sim_smr.flowsheet)\r\n",
    "        # print(comp1.DeltaQ + comp2.DeltaQ + comp3.DeltaQ + comp4.DeltaQ)\r\n",
    "        # print(sim_smr.flowsheet.GetFlowsheetSimulationObject(\"MITA1-Calc\").OutputVariables['mita'])\r\n",
    "        # print(sim_smr.flowsheet.GetFlowsheetSimulationObject(\"MITA2-Calc\").OutputVariables['mita'])\r\n",
    "        # time.sleep(0.05)\r\n",
    "        # sim_smr.interface.CalculateFlowsheet2(sim_smr.flowsheet)\r\n",
    "        # time.sleep(0.05)\r\n",
    "        # print(comp1.DeltaQ + comp2.DeltaQ + comp3.DeltaQ + comp4.DeltaQ)\r\n",
    "        # print(sim_smr.flowsheet.GetFlowsheetSimulationObject(\"MITA1-Calc\").OutputVariables['mita'])\r\n",
    "        # print(sim_smr.flowsheet.GetFlowsheetSimulationObject(\"MITA2-Calc\").OutputVariables['mita'])\r\n",
    "        # sim_smr.interface.CalculateFlowsheet2(sim_smr.flowsheet)\r\n",
    "        # time.sleep(0.05)\r\n",
    "        # print(comp1.DeltaQ + comp2.DeltaQ + comp3.DeltaQ + comp4.DeltaQ)\r\n",
    "        # print(sim_smr.flowsheet.GetFlowsheetSimulationObject(\"MITA1-Calc\").OutputVariables['mita'])\r\n",
    "        # print(sim_smr.flowsheet.GetFlowsheetSimulationObject(\"MITA2-Calc\").OutputVariables['mita'])\r\n",
    "        # sim_smr.interface.CalculateFlowsheet2(sim_smr.flowsheet)\r\n",
    "        # print(comp1.DeltaQ + comp2.DeltaQ + comp3.DeltaQ + comp4.DeltaQ)\r\n",
    "        # print(sim_smr.flowsheet.GetFlowsheetSimulationObject(\"MITA1-Calc\").OutputVariables['mita'])\r\n",
    "        # print(sim_smr.flowsheet.GetFlowsheetSimulationObject(\"MITA2-Calc\").OutputVariables['mita'])\r\n",
    "        sumW = (comp1.DeltaQ + comp2.DeltaQ + comp3.DeltaQ + comp4.DeltaQ)\r\n",
    "        if sim_smr.flowsheet.GetFlowsheetSimulationObject(\"MSTR-03\").Phases[1].Properties.massfraction > 1e-5:\r\n",
    "            sumW += pump1.DeltaQ \r\n",
    "        if sim_smr.flowsheet.GetFlowsheetSimulationObject(\"MSTR-05\").Phases[1].Properties.massfraction > 1e-5:    \r\n",
    "            sumW += pump2.DeltaQ\r\n",
    "        sumW = sumW/lng.GetMassFlow()/3600\r\n",
    "        mita1 = sim_smr.flowsheet.GetFlowsheetSimulationObject(\"MITA1-Calc\").OutputVariables['mita']\r\n",
    "        mita2 = sim_smr.flowsheet.GetFlowsheetSimulationObject(\"MITA2-Calc\").OutputVariables['mita']\r\n",
    "    else:\r\n",
    "        sumW = sim_smr.f\r\n",
    "        mita1 = sim_smr.g\r\n",
    "        mita2 = sim_smr.g\r\n",
    "    sim_smr.x = x\r\n",
    "    sim_smr.f = sumW\r\n",
    "    sim_smr.g = min(mita1, mita2)\r\n",
    "    return sumW, min(mita1, mita2)"
   ],
   "outputs": [],
   "metadata": {}
  },
  {
   "cell_type": "code",
   "execution_count": null,
   "source": [
    "print(fobj8n_2exp(sim_smr,x0))\r\n",
    "sim_smr.interface.SaveFlowsheet(sim_smr.flowsheet,sim_smr.savepath,True)"
   ],
   "outputs": [],
   "metadata": {}
  },
  {
   "cell_type": "code",
   "execution_count": null,
   "source": [
    "# Initial simulation setup\r\n",
    "x0 = np.array( [0.25/3600, 0.70/3600, 1.0/3600, 1.10/3600, 1.80/3600, 2.50e5, 50.00e5, -60+273.15] )\r\n",
    "x_top = np.array( [0.252779/3600, 0.441063/3600, 1.411068/3600, 0.805952/3600, 1.851257/3600, 3.342832e5, 34.97221e5, -27.2958+273.15] )\r\n",
    "sim_smr.fobj = lambda x: fobj8n_2exp(sim_smr, x)\r\n",
    "sumW, mita = sim_smr.fobj(1.0*x0)\r\n",
    "print(sim_smr.x,\r\n",
    "sim_smr.f,\r\n",
    "sim_smr.g)\r\n",
    "sim_smr.interface.SaveFlowsheet(sim_smr.flowsheet,sim_smr.savepath,True)"
   ],
   "outputs": [],
   "metadata": {}
  },
  {
   "cell_type": "code",
   "execution_count": null,
   "source": [
    "args=(sim_smr)\r\n",
    "xtol=0.01\r\n",
    "ftol=0.01\r\n",
    "maxiter=50 # +- 5 seconds per iteration\r\n",
    "print(\"starting optimization\")\r\n",
    "iteration = 0\r\n",
    "regularizer = np.array([1e4,1e4,1e4,1e4,1e4, 1e-5, 1e-6, 1e-2])\r\n",
    "#rever \\/\r\n",
    "bounds_raw = np.array( [0.6*np.asarray(x0), 1.4*np.asarray(x0)] )\r\n",
    "bounds_raw[0][-1] = 153\r\n",
    "bounds_raw[1][-1] = 233\r\n",
    "bounds_reg = regularizer*bounds_raw\r\n",
    "print(bounds_reg)\r\n",
    "bounds = optimize.Bounds(bounds_reg[0], bounds_reg[1])\r\n",
    "g = lambda x: fobj8n_2exp(sim_smr,np.asarray(x)/regularizer)[1]\r\n",
    "nonlinear_constraint = optimize.NonlinearConstraint(g, 3, np.inf, jac='2-point', hess=optimize.BFGS())\r\n",
    "f = lambda x: fobj8n_2exp(sim_smr,np.asarray(x)/regularizer)[0]\r\n",
    "# print(fobj8n_2exp(sim_smr,x_top))"
   ],
   "outputs": [],
   "metadata": {}
  },
  {
   "cell_type": "code",
   "execution_count": null,
   "source": [
    "fobj8n_2exp(sim_smr, x_top)\r\n",
    "pprint(vars(sim_smr))\r\n",
    "sim_smr.interface.SaveFlowsheet(sim_smr.flowsheet, sim_smr.savepath,True)"
   ],
   "outputs": [],
   "metadata": {}
  },
  {
   "cell_type": "code",
   "execution_count": null,
   "source": [
    "# Local optimization with trust-region -> working to some extent\r\n",
    "result = optimize.minimize( f, np.asarray(x0)*regularizer, \r\n",
    "            method='trust-constr', jac='2-point', hess=optimize.BFGS(),\r\n",
    "            constraints=[nonlinear_constraint], bounds=bounds, callback=None,\r\n",
    "            options={'verbose': 3, \r\n",
    "                     'xtol': xtol, \r\n",
    "                     'maxiter': 0.1*maxiter, \r\n",
    "                     'finite_diff_rel_step': None, \r\n",
    "                     'initial_tr_radius': 0.1} )"
   ],
   "outputs": [],
   "metadata": {}
  },
  {
   "cell_type": "code",
   "execution_count": null,
   "source": [
    "print(f(result.x))\r\n",
    "print(g(result.x))\r\n",
    "# sim_smr.interface.SaveFlowsheet(sim_smr.flowsheet, sim_smr.savepath,True)\r\n",
    "print(result.x)\r\n",
    "# x_top\r\n",
    "bounds"
   ],
   "outputs": [],
   "metadata": {}
  },
  {
   "cell_type": "code",
   "execution_count": null,
   "source": [
    "# Global optimization with Differential Evolution\r\n",
    "result = optimize.differential_evolution(f, bounds, constraints=[nonlinear_constraint], \r\n",
    "            maxiter=40, popsize=1, seed=420, disp=True, polish=False)"
   ],
   "outputs": [],
   "metadata": {}
  },
  {
   "cell_type": "code",
   "execution_count": null,
   "source": [
    "print(f(result.x))\r\n",
    "print(g(result.x))\r\n",
    "sim_smr.interface.SaveFlowsheet(sim_smr.flowsheet, sim_smr.savepath,True)\r\n",
    "print(result.x)\r\n",
    "pprint(result)"
   ],
   "outputs": [],
   "metadata": {}
  },
  {
   "cell_type": "code",
   "execution_count": null,
   "source": [
    "# Global optimization with PSO\r\n",
    "from sko.PSO import PSO\r\n",
    "fpen = lambda x: f(x)+1000*max(0,3-g(x))\r\n",
    "result_pso = PSO(func=fpen, n_dim=8, pop=20, max_iter=50, lb=bounds_reg[0], ub=bounds_reg[1], verbose=True)\r\n",
    "result_pso.record_mode = True\r\n",
    "result_pso.run()"
   ],
   "outputs": [],
   "metadata": {}
  },
  {
   "cell_type": "code",
   "execution_count": null,
   "source": [
    "import matplotlib.pyplot as plt\r\n",
    "\r\n",
    "print(f(result_pso.gbest_x))\r\n",
    "print(g(result_pso.gbest_x))\r\n",
    "sim_smr.interface.SaveFlowsheet(sim_smr.flowsheet, sim_smr.savepath,True)\r\n",
    "print(result_pso.gbest_x)\r\n",
    "pprint(result_pso)\r\n",
    "print(fpen(result_pso.gbest_x))\r\n",
    "\r\n",
    "plt.plot(result_pso.gbest_y_hist)\r\n",
    "plt.show()"
   ],
   "outputs": [],
   "metadata": {}
  },
  {
   "cell_type": "code",
   "execution_count": null,
   "source": [
    "import jsons\r\n",
    "\r\n",
    "json_result = jsons.dump(result_pso)\r\n"
   ],
   "outputs": [],
   "metadata": {}
  }
 ],
 "metadata": {
  "orig_nbformat": 4,
  "language_info": {
   "name": "python",
   "version": "3.9.1",
   "mimetype": "text/x-python",
   "codemirror_mode": {
    "name": "ipython",
    "version": 3
   },
   "pygments_lexer": "ipython3",
   "nbconvert_exporter": "python",
   "file_extension": ".py"
  },
  "kernelspec": {
   "name": "python3",
   "display_name": "Python 3.9.1 64-bit ('venv': venv)"
  },
  "interpreter": {
   "hash": "d0f6a11f750e143c658e3ba8c490a06ed5f9dc51708f0fef62d123fb40576efd"
  }
 },
 "nbformat": 4,
 "nbformat_minor": 2
}