{
 "cells": [
  {
   "cell_type": "code",
   "execution_count": 1,
   "source": [
    "# from pyDWSIMconnect import PyDWSIMconnect\r\n",
    "from simulation import Simulation\r\n",
    "import numpy as np\r\n",
    "import time\r\n",
    "from fobj import *\r\n",
    "from scipy import optimize\r\n",
    "from pprint import pprint"
   ],
   "outputs": [],
   "metadata": {}
  },
  {
   "cell_type": "code",
   "execution_count": 2,
   "source": [
    "# Loading DWSIM simulation into Python (Simulation object)\r\n",
    "sim_smr = Simulation(path2sim=\"C:\\\\Users\\\\lfsfr\\\\Desktop\\\\pyDWSIMopt\\\\sim\\\\SMR_2exp_phaseSep.dwxmz\")\r\n",
    "sim_smr.Add_refs()\r\n",
    "sim_smr.Connect()"
   ],
   "outputs": [
    {
     "output_type": "stream",
     "name": "stdout",
     "text": [
      "added refs\n",
      "Simulation was loaded successfully\n"
     ]
    }
   ],
   "metadata": {}
  },
  {
   "cell_type": "code",
   "execution_count": 20,
   "source": [
    "def fobj8n_2exp(sim_smr, x):\r\n",
    "    mr1 = sim_smr.flowsheet.GetFlowsheetSimulationObject(\"MR-1\")\r\n",
    "    comp1 = sim_smr.flowsheet.GetFlowsheetSimulationObject(\"COMP-1\") \r\n",
    "    comp2 = sim_smr.flowsheet.GetFlowsheetSimulationObject(\"COMP-2\") \r\n",
    "    comp3 = sim_smr.flowsheet.GetFlowsheetSimulationObject(\"COMP-3\") \r\n",
    "    comp4 = sim_smr.flowsheet.GetFlowsheetSimulationObject(\"COMP-4\") \r\n",
    "    pump1 = sim_smr.flowsheet.GetFlowsheetSimulationObject(\"PUMP-01\") \r\n",
    "    pump2 = sim_smr.flowsheet.GetFlowsheetSimulationObject(\"PUMP-02\") \r\n",
    "    vlv1 = sim_smr.flowsheet.GetFlowsheetSimulationObject(\"VALV-01\")\r\n",
    "    cool8 = sim_smr.flowsheet.GetFlowsheetSimulationObject(\"COOL-08\")\r\n",
    "    lng = sim_smr.flowsheet.GetFlowsheetSimulationObject(\"LNG-1\")\r\n",
    "    if sim_smr.x is None:\r\n",
    "        sim_smr.x = np.zeros(len(x))\r\n",
    "    if np.linalg.norm(sim_smr.x - np.asarray(x))>1e-10:\r\n",
    "    # m_old = np.ones(mr1.Phases[0].Compounds.Values.Count)\r\n",
    "    # ite=0\r\n",
    "    # for m_i in mr1.Phases[0].Compounds.Values:\r\n",
    "    #     m_old[ite] = m_i.MassFraction*mr1.GetMassFlow()\r\n",
    "    #     ite+=1\r\n",
    "    # x_old = np.array( [m_old[7],m_old[0],m_old[1],m_old[2],m_old[5], vlv1.OutletPressure, comp4.POut, cool8.OutletTemperature] ) \r\n",
    "    # if np.linalg.norm( x-x_old ) > 1e-5:\r\n",
    "    # if ( abs(mr1.GetMassFlow() - x[0])/abs(x[0]) + abs(vlv1.OutletPressure - x[1])/abs(x[1]) + abs(comp4.POut - x[2])/abs(x[2]) ) > 1e-12:\r\n",
    "        # print(\"calculated with \")\r\n",
    "        # print( abs(mr1.GetMassFlow() - x[0])/abs(x[0]))\r\n",
    "        # print(abs(vlv1.OutletPressure - x[1])/abs(x[1]))\r\n",
    "        # print(abs(comp4.POut - x[2])/abs(x[2]) )\r\n",
    "        # mr1.SetMassFlow(x[0])\r\n",
    "        sep1 = sim_smr.flowsheet.GetFlowsheetSimulationObject(\"SEP-02\")\r\n",
    "        sep2 = sim_smr.flowsheet.GetFlowsheetSimulationObject(\"SEP-03\")\r\n",
    "        sep1.GraphicObject.Activate = False\r\n",
    "        sep2.GraphicObject.Activate = False\r\n",
    "\r\n",
    "        mr1.SetOverallCompoundMassFlow(0,x[1])\r\n",
    "        mr1.SetOverallCompoundMassFlow(1,x[2])\r\n",
    "        mr1.SetOverallCompoundMassFlow(2,x[3])\r\n",
    "        mr1.SetOverallCompoundMassFlow(5,x[4])\r\n",
    "        mr1.SetOverallCompoundMassFlow(7,x[0])\r\n",
    "        vlv1.OutletPressure = x[5]\r\n",
    "        comp4.POut = x[6]\r\n",
    "        cool8.OutletTemperature = x[7]\r\n",
    "\r\n",
    "        sim_smr.interface.CalculateFlowsheet2(sim_smr.flowsheet)\r\n",
    "        if sim_smr.flowsheet.GetFlowsheetSimulationObject(\"MSTR-03\").Phases[1].Properties.massfraction < 1e-5:\r\n",
    "            pump1.GraphicObject.Active = False\r\n",
    "            # print(sim_smr.flowsheet.GetFlowsheetSimulationObject(\"PUMP-01\").GraphicObject.Active)\r\n",
    "            sim_smr.flowsheet.DisconnectObjects(\r\n",
    "                sim_smr.flowsheet.GetFlowsheetSimulationObject(\"MSTR-29\").GraphicObject,\r\n",
    "                sim_smr.flowsheet.GetFlowsheetSimulationObject(\"MIX-02\").GraphicObject)\r\n",
    "        else:\r\n",
    "            pump1.GraphicObject.Active = True\r\n",
    "            sim_smr.flowsheet.DisconnectObjects(\r\n",
    "                sim_smr.flowsheet.GetFlowsheetSimulationObject(\"MSTR-29\").GraphicObject,\r\n",
    "                sim_smr.flowsheet.GetFlowsheetSimulationObject(\"MIX-02\").GraphicObject) #avoid bug\r\n",
    "            sim_smr.flowsheet.ConnectObjects(\r\n",
    "                sim_smr.flowsheet.GetFlowsheetSimulationObject(\"MSTR-29\").GraphicObject,\r\n",
    "                sim_smr.flowsheet.GetFlowsheetSimulationObject(\"MIX-02\").GraphicObject,\r\n",
    "                -1,-1)\r\n",
    "        sep1.GraphicObject.Active = True\r\n",
    "        sep1.Calculate()\r\n",
    "        sim_smr.interface.CalculateFlowsheet2(sim_smr.flowsheet)\r\n",
    "        if sim_smr.flowsheet.GetFlowsheetSimulationObject(\"MSTR-05\").Phases[1].Properties.massfraction < 1e-5:\r\n",
    "            pump2.GraphicObject.Active = False\r\n",
    "            sim_smr.flowsheet.DisconnectObjects(\r\n",
    "                sim_smr.flowsheet.GetFlowsheetSimulationObject(\"MSTR-30\").GraphicObject,\r\n",
    "                sim_smr.flowsheet.GetFlowsheetSimulationObject(\"MIX-02\").GraphicObject)\r\n",
    "        else:\r\n",
    "            pump1.GraphicObject.Active = True\r\n",
    "            sim_smr.flowsheet.DisconnectObjects(\r\n",
    "                sim_smr.flowsheet.GetFlowsheetSimulationObject(\"MSTR-30\").GraphicObject,\r\n",
    "                sim_smr.flowsheet.GetFlowsheetSimulationObject(\"MIX-02\").GraphicObject)\r\n",
    "            sim_smr.flowsheet.ConnectObjects(\r\n",
    "                sim_smr.flowsheet.GetFlowsheetSimulationObject(\"MSTR-30\").GraphicObject,\r\n",
    "                sim_smr.flowsheet.GetFlowsheetSimulationObject(\"MIX-02\").GraphicObject,\r\n",
    "                -1,-1)\r\n",
    "        sep2.GraphicObject.Active = True\r\n",
    "        sep2.Calculate()\r\n",
    "        sim_smr.interface.CalculateFlowsheet2(sim_smr.flowsheet)\r\n",
    "        #force to calculate spec2 spec3 cool6 e cool5\r\n",
    "        sim_smr.flowsheet.GetFlowsheetSimulationObject(\"SPEC-02\").Solve()\r\n",
    "        sim_smr.flowsheet.GetFlowsheetSimulationObject(\"SPEC-03\").Solve()\r\n",
    "        sim_smr.flowsheet.GetFlowsheetSimulationObject(\"COOL-06\").Solve()\r\n",
    "        sim_smr.flowsheet.GetFlowsheetSimulationObject(\"COOL-05\").Solve()\r\n",
    "        time.sleep(0.05)\r\n",
    "        sim_smr.interface.CalculateFlowsheet2(sim_smr.flowsheet)\r\n",
    "        time.sleep(0.05)\r\n",
    "        sim_smr.interface.CalculateFlowsheet2(sim_smr.flowsheet)\r\n",
    "        time.sleep(0.05)\r\n",
    "        sim_smr.interface.CalculateFlowsheet2(sim_smr.flowsheet)\r\n",
    "        sumW = (comp1.DeltaQ + comp2.DeltaQ + comp3.DeltaQ + comp4.DeltaQ)\r\n",
    "        if sim_smr.flowsheet.GetFlowsheetSimulationObject(\"MSTR-03\").Phases[1].Properties.massfraction > 1e-5:\r\n",
    "            sumW += pump1.DeltaQ \r\n",
    "        if sim_smr.flowsheet.GetFlowsheetSimulationObject(\"MSTR-05\").Phases[1].Properties.massfraction > 1e-5:    \r\n",
    "            sumW += pump2.DeltaQ\r\n",
    "        sumW = sumW/lng.GetMassFlow()/3600\r\n",
    "        mita1 = min(sim_smr.flowsheet.GetFlowsheetSimulationObject(\"MSTR-08\").GetTemperature() - sim_smr.flowsheet.GetFlowsheetSimulationObject(\"MSTR-17\").GetTemperature(),\r\n",
    "            sim_smr.flowsheet.GetFlowsheetSimulationObject(\"MSTR-09\").GetTemperature() - sim_smr.flowsheet.GetFlowsheetSimulationObject(\"MSTR-17\").GetTemperature(), \r\n",
    "            sim_smr.flowsheet.GetFlowsheetSimulationObject(\"NG-1_2\").GetTemperature()   - sim_smr.flowsheet.GetFlowsheetSimulationObject(\"MSTR-17\").GetTemperature(),\r\n",
    "            sim_smr.flowsheet.GetFlowsheetSimulationObject(\"MSTR-10\").GetTemperature() - sim_smr.flowsheet.GetFlowsheetSimulationObject(\"MSTR-15\").GetTemperature(),\r\n",
    "            sim_smr.flowsheet.GetFlowsheetSimulationObject(\"MSTR-11\").GetTemperature() - sim_smr.flowsheet.GetFlowsheetSimulationObject(\"MSTR-15\").GetTemperature(),\r\n",
    "            sim_smr.flowsheet.GetFlowsheetSimulationObject(\"NG-2\").GetTemperature() - sim_smr.flowsheet.GetFlowsheetSimulationObject(\"MSTR-15\").GetTemperature()\r\n",
    "        )\r\n",
    "        mita2 = min(sim_smr.flowsheet.GetFlowsheetSimulationObject(\"MSTR-10\").GetTemperature() - sim_smr.flowsheet.GetFlowsheetSimulationObject(\"MSTR-16\").GetTemperature(),\r\n",
    "            sim_smr.flowsheet.GetFlowsheetSimulationObject(\"NG-2\").GetTemperature() - sim_smr.flowsheet.GetFlowsheetSimulationObject(\"MSTR-16\").GetTemperature(),\r\n",
    "            sim_smr.flowsheet.GetFlowsheetSimulationObject(\"MSTR-12\").GetTemperature() - sim_smr.flowsheet.GetFlowsheetSimulationObject(\"MSTR-13\").GetTemperature(),\r\n",
    "            sim_smr.flowsheet.GetFlowsheetSimulationObject(\"NG-3\").GetTemperature() - sim_smr.flowsheet.GetFlowsheetSimulationObject(\"MSTR-13\").GetTemperature()\r\n",
    "        )\r\n",
    "    else:\r\n",
    "        sumW = sim_smr.f\r\n",
    "        mita1 = sim_smr.g\r\n",
    "        mita2 = sim_smr.g\r\n",
    "        # print(\"skipped with\")\r\n",
    "        # print( abs(mr1.GetMassFlow() - x[0])/abs(x[0]))\r\n",
    "        # print(abs(vlv1.OutletPressure - x[1])/abs(x[1]))\r\n",
    "        # print(abs(comp4.POut - x[2])/abs(x[2]) )\r\n",
    "    # if np.linalg.norm( x-x_old ) > 1e-5:\r\n",
    "    #     sim_smr.interface.SaveFlowsheet(sim_smr.flowsheet,sim_smr.path,True)\r\n",
    "    sim_smr.x = x\r\n",
    "    sim_smr.f = sumW\r\n",
    "    sim_smr.g = min(mita1, mita2)\r\n",
    "    # print(sim_smr.x,\r\n",
    "    #     sim_smr.f,\r\n",
    "    #     sim_smr.g)\r\n",
    "    return sumW, min(mita1, mita2)"
   ],
   "outputs": [],
   "metadata": {}
  },
  {
   "cell_type": "code",
   "execution_count": 5,
   "source": [
    "# Initial simulation setup\r\n",
    "x0 = np.array( [0.25/3600, 0.70/3600, 1.0/3600, 1.10/3600, 1.80/3600, 2.50e5, 50.00e5, -40+273.15] )\r\n",
    "sim_smr.fobj = lambda x: fobj8n_2exp(sim_smr, x)\r\n",
    "sumW, mita = sim_smr.fobj(0.95*x0)\r\n",
    "print(sim_smr.x,\r\n",
    "sim_smr.f,\r\n",
    "sim_smr.g)\r\n",
    "sim_smr.interface.SaveFlowsheet(sim_smr.flowsheet,\r\n",
    "        'C:\\\\Users\\\\lfsfr\\\\Desktop\\\\pyDWSIMopt\\\\sim\\\\SMR_2exp_phaseSep2.dwxmz',True)"
   ],
   "outputs": [
    {
     "output_type": "stream",
     "name": "stdout",
     "text": [
      "[6.59722222e-05 1.84722222e-04 2.63888889e-04 2.90277778e-04\n",
      " 4.75000000e-04 2.37500000e+05 4.75000000e+06 2.21492500e+02] 0.37954699972061173 4.745016361192398\n",
      "[6.59722222e-05 1.84722222e-04 2.63888889e-04 2.90277778e-04\n",
      " 4.75000000e-04 2.37500000e+05 4.75000000e+06 2.21492500e+02] 0.37954699972061173 4.745016361192398\n"
     ]
    }
   ],
   "metadata": {}
  },
  {
   "cell_type": "code",
   "execution_count": 5,
   "source": [
    "print(sim_smr.flowsheet.GetFlowsheetSimulationObject(\"PUMP-01\").GraphicObject.Active)"
   ],
   "outputs": [
    {
     "output_type": "stream",
     "name": "stdout",
     "text": [
      "True\n"
     ]
    }
   ],
   "metadata": {}
  },
  {
   "cell_type": "code",
   "execution_count": 15,
   "source": [
    "x_top = np.array( [0.252779/3600, 0.441063/3600, 1.411068/3600, 0.805952/3600, 1.851257/3600, 3.342832e5, 34.97221e5, -27.2958+273.15] )\r\n",
    "args=(sim_smr)\r\n",
    "xtol=0.01\r\n",
    "ftol=0.01\r\n",
    "maxiter=50 # +- 5 seconds per iteration\r\n",
    "print(\"starting optimization\")\r\n",
    "iteration = 0\r\n",
    "regularizer = np.array([1e4,1e4,1e4,1e4,1e4, 1e-5, 1e-6, 1e-2])\r\n",
    "#rever \\/\r\n",
    "bounds_raw = np.array( [0.6*np.asarray(x0), 1.4*np.asarray(x0)] )\r\n",
    "bounds_raw[0][-1] = 153\r\n",
    "bounds_raw[1][-1] = 233\r\n",
    "bounds_reg = regularizer*bounds_raw\r\n",
    "print(bounds_reg)\r\n",
    "bounds = optimize.Bounds(bounds_reg[0], bounds_reg[1])\r\n",
    "g = lambda x: fobj8n_2exp(sim_smr,np.asarray(x)/regularizer)[1]\r\n",
    "nonlinear_constraint = optimize.NonlinearConstraint(g, 3, np.inf, jac='2-point', hess=optimize.BFGS())\r\n",
    "f = lambda x: fobj8n_2exp(sim_smr,np.asarray(x)/regularizer)[0]\r\n",
    "# print(fobj8n_2exp(sim_smr,x_top))"
   ],
   "outputs": [
    {
     "output_type": "stream",
     "name": "stdout",
     "text": [
      "starting optimization\n",
      "[[0.41666667 1.16666667 1.66666667 1.83333333 3.         1.5\n",
      "  3.         1.53      ]\n",
      " [0.97222222 2.72222222 3.88888889 4.27777778 7.         3.5\n",
      "  7.         2.33      ]]\n"
     ]
    }
   ],
   "metadata": {}
  },
  {
   "cell_type": "code",
   "execution_count": 8,
   "source": [
    "fobj8n_2exp(sim_smr, x_top)\r\n",
    "pprint(vars(sim_smr))"
   ],
   "outputs": [
    {
     "output_type": "stream",
     "name": "stdout",
     "text": [
      "[7.02163889e-05 1.22517500e-04 3.91963333e-04 2.23875556e-04\n",
      " 5.14238056e-04 3.34283200e+05 3.49722100e+06 2.45854200e+02] 0.2878099850939581 2.1030562816582687\n",
      "{'f': 0.2878099850939581,\n",
      " 'flowsheet': <DWSIM.UI.Desktop.Shared.Flowsheet object at 0x000002385FFB6DC0>,\n",
      " 'fobj': <function <lambda> at 0x000002385FF69820>,\n",
      " 'g': 2.1030562816582687,\n",
      " 'interface': <DWSIM.Automation.Automation2 object at 0x000002385FFB32E0>,\n",
      " 'path': 'C:\\\\Users\\\\lfsfr\\\\Desktop\\\\pyDWSIMopt\\\\sim\\\\SMR_2exp_phaseSep.dwxmz',\n",
      " 'path2dwsim': 'C:\\\\Users\\\\lfsfr\\\\AppData\\\\Local\\\\DWSIM7\\\\',\n",
      " 'x': array([7.02163889e-05, 1.22517500e-04, 3.91963333e-04, 2.23875556e-04,\n",
      "       5.14238056e-04, 3.34283200e+05, 3.49722100e+06, 2.45854200e+02])}\n"
     ]
    }
   ],
   "metadata": {}
  },
  {
   "cell_type": "code",
   "execution_count": 21,
   "source": [
    "# Local optimization with trust-region -> working to some extent\r\n",
    "result = optimize.minimize( f, np.asarray(x0)*regularizer, \r\n",
    "            method='trust-constr', jac='2-point', hess=optimize.BFGS(),\r\n",
    "            constraints=[nonlinear_constraint], bounds=bounds, callback=None,\r\n",
    "            options={'verbose': 3, \r\n",
    "                     'xtol': xtol, \r\n",
    "                     'maxiter': 0.1*maxiter, \r\n",
    "                     'finite_diff_rel_step': None, \r\n",
    "                     'initial_tr_radius': 0.1} )"
   ],
   "outputs": [
    {
     "output_type": "stream",
     "name": "stdout",
     "text": [
      "| niter |f evals|CG iter|  obj func   |tr radius |   opt    |  c viol  | penalty  |barrier param|CG stop|\n",
      "|-------|-------|-------|-------------|----------|----------|----------|----------|-------------|-------|\n",
      "|   1   |   9   |   0   | +3.9330e-01 | 1.00e-01 | 3.69e-02 | 1.50e-03 | 1.00e+00 |  1.00e-01   |   0   |\n"
     ]
    },
    {
     "output_type": "stream",
     "name": "stderr",
     "text": [
      "c:\\Users\\lfsfr\\Desktop\\pyDWSIMopt\\venv\\lib\\site-packages\\scipy\\optimize\\_hessian_update_strategy.py:182: UserWarning: delta_grad == 0.0. Check if the approximated function is linear. If the function is linear better results can be obtained by defining the Hessian as zero instead of using quasi-Newton approximations.\n",
      "  warn('delta_grad == 0.0. Check if the approximated '\n"
     ]
    },
    {
     "output_type": "stream",
     "name": "stdout",
     "text": [
      "|   2   |  18   |   1   | +3.9095e-01 | 1.85e-01 | 3.46e-02 | 9.12e-04 | 1.00e+00 |  1.00e-01   |   4   |\n",
      "|   3   |  27   |   2   | +3.8689e-01 | 3.39e-01 | 3.05e-02 | 0.00e+00 | 1.00e+00 |  1.00e-01   |   4   |\n",
      "|   4   |  36   |   3   | +3.8331e-01 | 5.63e-01 | 2.40e-02 | 0.00e+00 | 1.00e+00 |  1.00e-01   |   4   |\n",
      "|   5   |  45   |   5   | +3.9554e-01 | 1.13e+00 | 3.47e-02 | 1.23e-02 | 1.00e+00 |  1.00e-01   |   2   |\n",
      "\n",
      "The maximum number of function evaluations is exceeded.\n",
      "Number of iterations: 5, function evaluations: 45, CG iterations: 5, optimality: 3.47e-02, constraint violation: 1.23e-02, execution time: 4.6e+01 s.\n"
     ]
    }
   ],
   "metadata": {}
  },
  {
   "cell_type": "code",
   "execution_count": 30,
   "source": [
    "print(f(result.x))\r\n",
    "print(g(result.x))\r\n",
    "sim_smr.interface.SaveFlowsheet(sim_smr.flowsheet,\r\n",
    "        'C:\\\\Users\\\\lfsfr\\\\Desktop\\\\pyDWSIMopt\\\\sim\\\\SMR_2exp_phaseSep2.dwxmz',True)\r\n",
    "print(result.x)\r\n",
    "# x_top\r\n",
    "bounds\r\n"
   ],
   "outputs": [
    {
     "output_type": "stream",
     "name": "stdout",
     "text": [
      "0.2219040583037321\n",
      "4.1488474913401205\n",
      "[0.73844824 1.28730347 1.80005639 1.88194565 6.52388837 3.18371943\n",
      " 3.1457867  1.55644069]\n"
     ]
    },
    {
     "output_type": "execute_result",
     "data": {
      "text/plain": [
       "Bounds(array([0.41666667, 1.16666667, 1.66666667, 1.83333333, 3.        ,\n",
       "       1.5       , 3.        , 1.53      ]), array([0.97222222, 2.72222222, 3.88888889, 4.27777778, 7.        ,\n",
       "       3.5       , 7.        , 2.33      ]))"
      ]
     },
     "metadata": {},
     "execution_count": 30
    }
   ],
   "metadata": {}
  },
  {
   "cell_type": "code",
   "execution_count": 29,
   "source": [
    "# Global optimization with Differential Evolution\r\n",
    "result = optimize.differential_evolution(f, bounds, constraints=[nonlinear_constraint], \r\n",
    "            maxiter=50, popsize=1, seed=420, disp=True, polish=False)"
   ],
   "outputs": [
    {
     "output_type": "stream",
     "name": "stdout",
     "text": [
      "differential_evolution step 1: f(x)= 0.36122\n",
      "differential_evolution step 2: f(x)= 0.337666\n",
      "differential_evolution step 3: f(x)= 0.337666\n",
      "differential_evolution step 4: f(x)= 0.337666\n",
      "differential_evolution step 5: f(x)= 0.326099\n",
      "differential_evolution step 6: f(x)= 0.314977\n",
      "differential_evolution step 7: f(x)= 0.290809\n",
      "differential_evolution step 8: f(x)= 0.268181\n",
      "differential_evolution step 9: f(x)= 0.268181\n",
      "differential_evolution step 10: f(x)= 0.268181\n",
      "differential_evolution step 11: f(x)= 0.263639\n",
      "differential_evolution step 12: f(x)= 0.258183\n",
      "differential_evolution step 13: f(x)= 0.258183\n",
      "differential_evolution step 14: f(x)= 0.258183\n",
      "differential_evolution step 15: f(x)= 0.251144\n",
      "differential_evolution step 16: f(x)= 0.25083\n",
      "differential_evolution step 17: f(x)= 0.244446\n",
      "differential_evolution step 18: f(x)= 0.235637\n",
      "differential_evolution step 19: f(x)= 0.235151\n",
      "differential_evolution step 20: f(x)= 0.234193\n",
      "differential_evolution step 21: f(x)= 0.231738\n",
      "differential_evolution step 22: f(x)= 0.231738\n",
      "differential_evolution step 23: f(x)= 0.231738\n",
      "differential_evolution step 24: f(x)= 0.229911\n",
      "differential_evolution step 25: f(x)= 0.228146\n",
      "differential_evolution step 26: f(x)= 0.225726\n",
      "differential_evolution step 27: f(x)= 0.223925\n",
      "differential_evolution step 28: f(x)= 0.223925\n",
      "differential_evolution step 29: f(x)= 0.223925\n",
      "differential_evolution step 30: f(x)= 0.221904\n"
     ]
    }
   ],
   "metadata": {}
  },
  {
   "cell_type": "code",
   "execution_count": 33,
   "source": [
    "result.x"
   ],
   "outputs": [
    {
     "output_type": "execute_result",
     "data": {
      "text/plain": [
       "array([0.73844824, 1.28730347, 1.80005639, 1.88194565, 6.52388837,\n",
       "       3.18371943, 3.1457867 , 1.55644069])"
      ]
     },
     "metadata": {},
     "execution_count": 33
    }
   ],
   "metadata": {}
  }
 ],
 "metadata": {
  "orig_nbformat": 4,
  "language_info": {
   "name": "python",
   "version": "3.9.1",
   "mimetype": "text/x-python",
   "codemirror_mode": {
    "name": "ipython",
    "version": 3
   },
   "pygments_lexer": "ipython3",
   "nbconvert_exporter": "python",
   "file_extension": ".py"
  },
  "kernelspec": {
   "name": "python3",
   "display_name": "Python 3.9.1 64-bit ('venv': venv)"
  },
  "interpreter": {
   "hash": "d0f6a11f750e143c658e3ba8c490a06ed5f9dc51708f0fef62d123fb40576efd"
  }
 },
 "nbformat": 4,
 "nbformat_minor": 2
}