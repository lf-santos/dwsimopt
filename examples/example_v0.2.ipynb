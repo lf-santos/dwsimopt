{
 "cells": [
  {
   "cell_type": "markdown",
   "metadata": {},
   "source": [
    "\n",
    "<h1 style=\"font-size: 180%\">Single-mixed refrigerant (SMR) natural gas liquefaction process simulation optimization <a href=\"https://doi.org/10.1016/j.ces.2021.116699\" title=\"SMR optimization paper\">[1]</a> </h1>\n",
    "\n",
    "<hr>\n",
    "\n",
    "<h2 style=\"font-size: 150%\">SMR process description</h2>\n",
    "\n",
    "<spam style=\"font-size: 120%\">The single-mixed refrigerant natural gas liquefaction process consists of using a multi-component refrigerant operating in a refrigeration cycle to produce heat sink to cool down and liquefy the natural gas stream, as illustrated in the figure below. The refrigeration cycle includes a four-stage compression system with intermediate cooling and phase separation for possible condensate. The liquid phase is compressed in pumps and the vapor phase in the compressors. No phase mixing is considered, which means that the refrigerant heavy condensate is mixed together and goes through the hot pass in the multi-stream heat exchanger separately from the light vapor phase. Then, the streams are mixed back together in the cold pass inside the cryogenic heat exchanger as they vaporize.</spam>\n",
    "\n",
    "<br/>\n",
    "<br/>\n",
    "<img src=\"SMR_LNG/pfd_smr.png\" alt=\"process flow diagram image\" style=\"height: 400px\"/>\n",
    "<br/>\n",
    "<br/>\n",
    "\n",
    "<h2 style=\"font-size: 150%\"> SMR process simulation</h2>\n",
    "\n",
    "<spam style=\"font-size: 120%\">The described single-mixed refrigerant natural gas liquefaction process is rather difficult to model and simulate mainly because it involves Pinch-like calculations in each multi-stream heat exchangers (MSHE) considering phase change, cryogenic conditions, and non-ideal mixtures. In other words, these heat exchangers are discretized in temperature segments, where vapor-liquid equilibrium calculations are performed to determine the temperature of every stream and, therefore, the temperature profiles in these operation units. For the sake of process feasibility considering the Second Law of Thermodynamics, the temperatures of hot streams have to be effectively higher than the cold ones throughout the heat exchangers.\n",
    "For rigorous calculations, this process is modeled and simulated in DWSIM v7.0 using Peng-Robinson equation of state, which is appropriate for hydrocarbons mixtures, such as the natural gas and the refrigerant mixtures. The minimum internal temperature approach is calculated using the Python Script in DWSIM. See the simulation ``SMR_2exp_phaseSep_MSHE_MITApy.dwxmz`` for more details.</spam>\n",
    "\n",
    "<br />\n",
    "<br />\n",
    "<img src=\"SMR_LNG/pfd_smr_dwsim.png\" alt=\"process flow diagram image\" style=\"height: 400px\"/>\n",
    "<br />\n",
    "<br />\n",
    "\n",
    "<h2 style=\"font-size: 150%\">SMR process optimization problem</h2>\n",
    "\n",
    "<spam style=\"font-size: 120%\">Knowing that the work consumption is the most relevant spending in the natural gas liquefaction process, then the design problem is to find $\\textbf{x}^*\\in \\mathbb{R}^n$ that minimizes the following optimization problem</spam>\n",
    "\n",
    "<spam style=\"font-size: 120%\">\n",
    "\n",
    "$$ \\min_{\\textbf{x}\\in \\mathcal{D}}\\ \\ f(\\textbf{x})=\\frac{\\sum_{p\\in PM}{W_p(\\textbf{x})}}{\\dot{m}_{NG}} $$\n",
    "$$ \\text{s.t.} \\ \\ g(\\textbf{x})=3 - MITA(\\textbf{x})\\le 0$$\n",
    "$$ \\mathcal{D}=[\\textbf{x}^{lb},\\ \\textbf{x}^{ub}], $$\n",
    "</spam>\n",
    "\n",
    "<spam style=\"font-size: 120%\"> in which, for a given $\\textbf{x}$, $W_p(\\textbf{x})$ is the work consumption of the pressure manipulator unit $p$ in the set of compressors and pumps $PM$, $MITA(\\textbf{x})$ is the minimum internal temperature approach in the MSHEs, $\\mathcal{D}$ is a box constraint for the decision variables bounded by $\\textbf{x}^{lb}$ and $\\textbf{x}^{ub}$, and $\\dot{m}_{LNG}$ is the mass flow rate of the natural gas stream. Therefore, the objective function $f$ in this optimization problem is the specific work consumed in the refrigeration cycle with respect to the mass flow rate of liquefied natural gas (LNG). Notice that the value of $W_p(\\textbf{x})$ as well as $MITA(\\textbf{x})$ are obtained in the black-box chemical process simulator, and so are $f(\\textbf{x})$ and $g(\\textbf{x})$. Then, $f(\\textbf{x})$ and $g(\\textbf{x})$ are known only at sampled points and make the optimization problem equivalent to equation above.</spam>"
   ]
  },
  {
   "cell_type": "code",
   "execution_count": 1,
   "metadata": {},
   "outputs": [],
   "source": [
    "import numpy as np\n",
    "from pprint import pprint\n",
    "import os\n",
    "from pathlib import Path\n",
    "\n",
    "dir_path = str(Path(os.getcwd()).parent.absolute())\n",
    "\n",
    "from dwsimopt.solve_sim_opt import OptimiSim"
   ]
  },
  {
   "cell_type": "code",
   "execution_count": 2,
   "metadata": {},
   "outputs": [
    {
     "name": "stdout",
     "output_type": "stream",
     "text": [
      "added refs\n",
      "Simulation was loaded successfully\n"
     ]
    }
   ],
   "source": [
    "# Loading DWSIM simulation into Python (Simulation object)\n",
    "sim_smr = OptimiSim(path2sim= os.path.join(dir_path, \"examples\\\\SMR_LNG\\\\SMR_energy_recycle.dwxmz\"), \n",
    "                    path2dwsim = \"C:\\\\Users\\\\lfsfr\\\\AppData\\\\Local\\\\DWSIM8\\\\\",\n",
    "                    savepath = os.path.join(dir_path, \"examples\\\\SMR_LNG\\\\SMR_energy_recycle2.dwxmz\"),\n",
    "                    init_dwsim=True)"
   ]
  },
  {
   "cell_type": "code",
   "execution_count": 3,
   "metadata": {
    "scrolled": false
   },
   "outputs": [
    {
     "name": "stdout",
     "output_type": "stream",
     "text": [
      "Successfully added to <dwsimopt.solve_sim_opt.OptimiSim object at 0x000001ED431E7A30> a dof pddx function for CompoundMassFlow of Nitrogen (if applicable) from MR-1 in kg/s (if applicable)\n",
      "Successfully added to <dwsimopt.solve_sim_opt.OptimiSim object at 0x000001ED431E7A30> a dof pddx function for CompoundMassFlow of Methane (if applicable) from MR-1 in kg/s (if applicable)\n",
      "Successfully added to <dwsimopt.solve_sim_opt.OptimiSim object at 0x000001ED431E7A30> a dof pddx function for CompoundMassFlow of Ethane (if applicable) from MR-1 in kg/s (if applicable)\n",
      "Successfully added to <dwsimopt.solve_sim_opt.OptimiSim object at 0x000001ED431E7A30> a dof pddx function for CompoundMassFlow of Propane (if applicable) from MR-1 in kg/s (if applicable)\n",
      "Successfully added to <dwsimopt.solve_sim_opt.OptimiSim object at 0x000001ED431E7A30> a dof pddx function for CompoundMassFlow of Isopentane (if applicable) from MR-1 in Pa (if applicable)\n",
      "Successfully added to <dwsimopt.solve_sim_opt.OptimiSim object at 0x000001ED431E7A30> a dof pddx function for OutletPressure of Mixture (if applicable) from VALV-01 in Pa (if applicable)\n",
      "Successfully added to <dwsimopt.solve_sim_opt.OptimiSim object at 0x000001ED431E7A30> a dof pddx function for OutletPressure of Mixture (if applicable) from COMP-4 in Pa (if applicable)\n",
      "Successfully added to <dwsimopt.solve_sim_opt.OptimiSim object at 0x000001ED431E7A30> a dof pddx function for OutletTemperature of Mixture (if applicable) from COOL-08 in K (if applicable)\n",
      "Successfully added to <dwsimopt.solve_sim_opt.OptimiSim object at 0x000001ED431E7A30> a fobj pddx function for EnergyFlow of Mixture (if applicable) from Sum_W in kW (if applicable)\n",
      "Successfully created a getter pddx function for OutputVariable of mita (if applicable) from MITA1-Calc in °C (if applicable)\n",
      "Successfully added to <dwsimopt.solve_sim_opt.OptimiSim object at 0x000001ED431E7A30> a constraint pddx function for OutputVariable of mita (if applicable) from MITA1-Calc in °C (if applicable)\n",
      "Successfully created a getter pddx function for OutputVariable of mita (if applicable) from MITA2-Calc in °C (if applicable)\n",
      "Successfully added to <dwsimopt.solve_sim_opt.OptimiSim object at 0x000001ED431E7A30> a constraint pddx function for OutputVariable of mita (if applicable) from MITA2-Calc in °C (if applicable)\n",
      "{'dof': array([[<function _toDwsim.<locals>.<lambda> at 0x000001ED435AB550>,\n",
      "        'MR-1', 'CompoundMassFlow', 'Nitrogen', 'kg/s'],\n",
      "       [<function _toDwsim.<locals>.<lambda> at 0x000001ED430943A0>,\n",
      "        'MR-1', 'CompoundMassFlow', 'Methane', 'kg/s'],\n",
      "       [<function _toDwsim.<locals>.<lambda> at 0x000001ED43094940>,\n",
      "        'MR-1', 'CompoundMassFlow', 'Ethane', 'kg/s'],\n",
      "       [<function _toDwsim.<locals>.<lambda> at 0x000001ED430949D0>,\n",
      "        'MR-1', 'CompoundMassFlow', 'Propane', 'kg/s'],\n",
      "       [<function _toDwsim.<locals>.<lambda> at 0x000001ED43094A60>,\n",
      "        'MR-1', 'CompoundMassFlow', 'Isopentane', 'Pa'],\n",
      "       [<function _toDwsim.<locals>.<lambda> at 0x000001ED43094310>,\n",
      "        'VALV-01', 'OutletPressure', 'Mixture', 'Pa'],\n",
      "       [<function _toDwsim.<locals>.<lambda> at 0x000001ED43094AF0>,\n",
      "        'COMP-4', 'OutletPressure', 'Mixture', 'Pa'],\n",
      "       [<function _toDwsim.<locals>.<lambda> at 0x000001ED43094B80>,\n",
      "        'COOL-08', 'OutletTemperature', 'Mixture', 'K']], dtype=object),\n",
      " 'f': array([<function _fromDwsim.<locals>.<lambda> at 0x000001ED43094C10>,\n",
      "       'Sum_W', 'EnergyFlow', 'Mixture', 'kW'], dtype=object),\n",
      " 'f_val': array([], dtype=float64),\n",
      " 'flowsheet': <DWSIM.UI.Desktop.Shared.Flowsheet object at 0x000001ED4307BA30>,\n",
      " 'force_convergence': True,\n",
      " 'g': array([[<function <lambda> at 0x000001ED43094D30>, 'MITA1-Calc',\n",
      "        'OutputVariable', 'mita', '°C'],\n",
      "       [<function <lambda> at 0x000001ED43094E50>, 'MITA2-Calc',\n",
      "        'OutputVariable', 'mita', '°C']], dtype=object),\n",
      " 'g_val': array([], dtype=float64),\n",
      " 'interf': <DWSIM.Automation.Automation2 object at 0x000001ED4307B070>,\n",
      " 'interface': <DWSIM.Automation.Automation2 object at 0x000001ED4307B070>,\n",
      " 'n_dof': 8,\n",
      " 'n_f': 1,\n",
      " 'n_g': 2,\n",
      " 'path2dwsim': 'C:\\\\Users\\\\lfsfr\\\\AppData\\\\Local\\\\DWSIM8\\\\',\n",
      " 'path2sim': 'd:\\\\DoutoradoUEM\\\\PESQUISA\\\\dwsimopt\\\\examples\\\\SMR_LNG\\\\SMR_energy_recycle.dwxmz',\n",
      " 'savepath': 'd:\\\\DoutoradoUEM\\\\PESQUISA\\\\dwsimopt\\\\examples\\\\SMR_LNG\\\\SMR_energy_recycle2.dwxmz',\n",
      " 'verbose': True,\n",
      " 'x_val': array([], dtype=float64)}\n"
     ]
    }
   ],
   "source": [
    "from dwsimopt.py2dwsim import * \n",
    "\n",
    "# Assign DoF:\n",
    "create_pddx( [\"MR-1\", \"CompoundMassFlow\", \"Nitrogen\", \"kg/s\"],    sim_smr, element=\"dof\" )\n",
    "create_pddx( [\"MR-1\", \"CompoundMassFlow\", \"Methane\", \"kg/s\"],     sim_smr, element=\"dof\" )\n",
    "create_pddx( [\"MR-1\", \"CompoundMassFlow\", \"Ethane\", \"kg/s\"],      sim_smr, element=\"dof\" )\n",
    "create_pddx( [\"MR-1\", \"CompoundMassFlow\", \"Propane\", \"kg/s\"],     sim_smr, element=\"dof\" )\n",
    "create_pddx( [\"MR-1\", \"CompoundMassFlow\", \"Isopentane\", \"Pa\"],    sim_smr, element=\"dof\" )\n",
    "create_pddx( [\"VALV-01\", \"OutletPressure\", \"Mixture\", \"Pa\"],      sim_smr, element=\"dof\" )\n",
    "create_pddx( [\"COMP-4\", \"OutletPressure\", \"Mixture\", \"Pa\"],       sim_smr, element=\"dof\" )\n",
    "create_pddx( [\"COOL-08\", \"OutletTemperature\", \"Mixture\", \"K\"],    sim_smr, element=\"dof\" )\n",
    "\n",
    "# Assign F\n",
    "create_pddx( [\"Sum_W\", \"EnergyFlow\", \"Mixture\", \"kW\"], sim_smr, element=\"fobj\" )\n",
    "\n",
    "# adding constraints (g_i <= 0):\n",
    "g1 = create_pddx( [\"MITA1-Calc\", \"OutputVariable\", \"mita\", \"°C\"], sim_smr, element=\"constraint\", assign=False )\n",
    "assign_pddx( lambda: 3-g1[0]() , [\"MITA1-Calc\", \"OutputVariable\", \"mita\", \"°C\"], sim_smr, element=\"constraint\" )\n",
    "g2 = create_pddx( [\"MITA2-Calc\", \"OutputVariable\", \"mita\", \"°C\"], sim_smr, element=\"constraint\", assign=False )\n",
    "assign_pddx( lambda: 3-g2[0]() , [\"MITA2-Calc\", \"OutputVariable\", \"mita\", \"°C\"], sim_smr, element=\"constraint\" )\n",
    "# assign_pddx( lambda: 3 - min(g2[0](),g1[0]()), [\"MITA_Overall\", \"OutputVariable\", 'mita', \"°C\"], sim_smr, element=\"constraint\" )\n",
    "\n",
    "\n",
    "pprint(vars(sim_smr))"
   ]
  },
  {
   "cell_type": "code",
   "execution_count": 4,
   "metadata": {},
   "outputs": [
    {
     "name": "stdout",
     "output_type": "stream",
     "text": [
      "opt_functions calculation at x = [6.94444444e-05 1.94444444e-04 2.77777778e-04 3.05555556e-04\n",
      " 5.00000000e-04 2.50000000e+05 5.00000000e+06 2.13150000e+02]\n",
      "               Simulation converged in 3 iterations\n",
      "f = [0.3891044], g = [-1.78887878 -3.47846713] at x = [6.94444444e-05 1.94444444e-04 2.77777778e-04 3.05555556e-04\n",
      " 5.00000000e-04 2.50000000e+05 5.00000000e+06 2.13150000e+02]\n",
      "[6.94444444e-05 1.94444444e-04 2.77777778e-04 3.05555556e-04\n",
      " 5.00000000e-04 2.50000000e+05 5.00000000e+06 2.13150000e+02] [0.3891044] [-1.78887878 -3.47846713]\n",
      "{'dof': array([[<function _toDwsim.<locals>.<lambda> at 0x000001ED435AB550>,\n",
      "        'MR-1', 'CompoundMassFlow', 'Nitrogen', 'kg/s'],\n",
      "       [<function _toDwsim.<locals>.<lambda> at 0x000001ED430943A0>,\n",
      "        'MR-1', 'CompoundMassFlow', 'Methane', 'kg/s'],\n",
      "       [<function _toDwsim.<locals>.<lambda> at 0x000001ED43094940>,\n",
      "        'MR-1', 'CompoundMassFlow', 'Ethane', 'kg/s'],\n",
      "       [<function _toDwsim.<locals>.<lambda> at 0x000001ED430949D0>,\n",
      "        'MR-1', 'CompoundMassFlow', 'Propane', 'kg/s'],\n",
      "       [<function _toDwsim.<locals>.<lambda> at 0x000001ED43094A60>,\n",
      "        'MR-1', 'CompoundMassFlow', 'Isopentane', 'Pa'],\n",
      "       [<function _toDwsim.<locals>.<lambda> at 0x000001ED43094310>,\n",
      "        'VALV-01', 'OutletPressure', 'Mixture', 'Pa'],\n",
      "       [<function _toDwsim.<locals>.<lambda> at 0x000001ED43094AF0>,\n",
      "        'COMP-4', 'OutletPressure', 'Mixture', 'Pa'],\n",
      "       [<function _toDwsim.<locals>.<lambda> at 0x000001ED43094B80>,\n",
      "        'COOL-08', 'OutletTemperature', 'Mixture', 'K']], dtype=object),\n",
      " 'f': array([<function _fromDwsim.<locals>.<lambda> at 0x000001ED43094C10>,\n",
      "       'Sum_W', 'EnergyFlow', 'Mixture', 'kW'], dtype=object),\n",
      " 'f_val': array([0.3891044]),\n",
      " 'flowsheet': <DWSIM.UI.Desktop.Shared.Flowsheet object at 0x000001ED4307BA30>,\n",
      " 'force_convergence': True,\n",
      " 'g': array([[<function <lambda> at 0x000001ED43094D30>, 'MITA1-Calc',\n",
      "        'OutputVariable', 'mita', '°C'],\n",
      "       [<function <lambda> at 0x000001ED43094E50>, 'MITA2-Calc',\n",
      "        'OutputVariable', 'mita', '°C']], dtype=object),\n",
      " 'g_val': array([-1.78887878, -3.47846713]),\n",
      " 'interf': <DWSIM.Automation.Automation2 object at 0x000001ED4307B070>,\n",
      " 'interface': <DWSIM.Automation.Automation2 object at 0x000001ED4307B070>,\n",
      " 'n_dof': 8,\n",
      " 'n_f': 1,\n",
      " 'n_g': 2,\n",
      " 'path2dwsim': 'C:\\\\Users\\\\lfsfr\\\\AppData\\\\Local\\\\DWSIM8\\\\',\n",
      " 'path2sim': 'd:\\\\DoutoradoUEM\\\\PESQUISA\\\\dwsimopt\\\\examples\\\\SMR_LNG\\\\SMR_energy_recycle.dwxmz',\n",
      " 'savepath': 'd:\\\\DoutoradoUEM\\\\PESQUISA\\\\dwsimopt\\\\examples\\\\SMR_LNG\\\\SMR_energy_recycle2.dwxmz',\n",
      " 'verbose': True,\n",
      " 'x_val': array([6.94444444e-05, 1.94444444e-04, 2.77777778e-04, 3.05555556e-04,\n",
      "       5.00000000e-04, 2.50000000e+05, 5.00000000e+06, 2.13150000e+02])}\n"
     ]
    }
   ],
   "source": [
    "# Setup for optimization\n",
    "# Initial guess of optimization\n",
    "x0 = np.array( [0.25/3600, 0.70/3600, 1.0/3600, 1.10/3600, 1.80/3600, 2.50e5, 50.0e5, -60+273.15] )\n",
    "\n",
    "# decision variables bounds\n",
    "bounds = np.array( [0.75*np.asarray(x0), 1.25*np.asarray(x0)] )   # 50 % around base case\n",
    "bounds[0][-1] = 153     # precool temperature low limit manually\n",
    "bounds[1][-1] = 253     # precool temperature upper limit manually\n",
    "\n",
    "xlo = bounds[0]\n",
    "xup = bounds[1]\n",
    "\n",
    "test_at_x0 = True\n",
    "if test_at_x0:\n",
    "    # Testing for simulation at x0\n",
    "    sim_smr.calculate_optProblem(1.0*x0)\n",
    "    print(sim_smr.x_val,\n",
    "        sim_smr.f_val,\n",
    "        sim_smr.g_val)\n",
    "\n",
    "    # Test saving simulation at x0 in 'savepath'\n",
    "    sim_smr.interface.SaveFlowsheet(sim_smr.flowsheet,sim_smr.savepath,True)\n",
    "\n",
    "    # Inspecting simulation object\n",
    "    pprint(vars(sim_smr))"
   ]
  },
  {
   "cell_type": "code",
   "execution_count": 10,
   "metadata": {},
   "outputs": [
    {
     "name": "stdout",
     "output_type": "stream",
     "text": [
      "Starting global optimization\n",
      "Iter: 0, Best fit: [12757.55894964] at [8.68055556e-05 2.43055556e-04 2.62887401e-04 2.56675014e-04\n",
      " 3.93090207e-04 2.63236720e+05 5.80826565e+06 2.16803580e+02]\n",
      "Iter: 1, Best fit: [12757.55894964] at [8.68055556e-05 2.43055556e-04 2.62887401e-04 2.56675014e-04\n",
      " 3.93090207e-04 2.63236720e+05 5.80826565e+06 2.16803580e+02]\n",
      "Iter: 2, Best fit: [12757.55894964] at [8.68055556e-05 2.43055556e-04 2.62887401e-04 2.56675014e-04\n",
      " 3.93090207e-04 2.63236720e+05 5.80826565e+06 2.16803580e+02]\n",
      "PSO finished with x* = [8.68055556e-05 2.43055556e-04 2.62887401e-04 2.56675014e-04\n",
      " 3.93090207e-04 2.63236720e+05 5.80826565e+06 2.16803580e+02]\n",
      "fobj = 0.4295628230071346\n",
      "g_0 = 12.757128997841448\n",
      "g_1 = -4.156414327926981\n"
     ]
    },
    {
     "data": {
      "image/png": "[encoded data removed]",
      "text/plain": [
       "<Figure size 640x480 with 1 Axes>"
      ]
     },
     "metadata": {},
     "output_type": "display_data"
    }
   ],
   "source": [
    "# Global optimization with PSO\n",
    "sim_smr.verbose = False\n",
    "results_PSO = sim_smr.PSO(x0, xlo, xup, pop=1, max_ite=3)\n"
   ]
  },
  {
   "cell_type": "code",
   "execution_count": 6,
   "metadata": {},
   "outputs": [
    {
     "name": "stdout",
     "output_type": "stream",
     "text": [
      "Starting global optimization\n",
      "GA finished with x* = [7.74285171e-05 1.87744379e-04 2.28756174e-04 2.96039597e-04\n",
      " 5.75732601e-04 1.90810083e+05 5.63177166e+06 2.02405444e+02]\n",
      "fobj = self.f[0]()\n",
      "g_0 = -1.261998517045896\n",
      "g_1 = -7.006662930327906\n"
     ]
    },
    {
     "data": {
      "image/png": "[encoded data removed]",
      "text/plain": [
       "<Figure size 640x480 with 1 Axes>"
      ]
     },
     "metadata": {},
     "output_type": "display_data"
    }
   ],
   "source": [
    "# Global optimization with GA\n",
    "sim_smr.verbose = False\n",
    "results_GA = sim_smr.GA(x0, xlo, xup, pop=2, max_ite=2, prob_mut=0.2)"
   ]
  },
  {
   "cell_type": "code",
   "execution_count": 8,
   "metadata": {},
   "outputs": [
    {
     "name": "stdout",
     "output_type": "stream",
     "text": [
      "Starting global optimization\n",
      "DE finished with x* = [6.91781886e-05 2.34795550e-04 2.22827338e-04 3.24194977e-04\n",
      " 4.76618247e-04 2.40244379e+05 5.06769715e+06 2.04463165e+02]\n",
      "fobj = self.f[0]()\n",
      "g_0 = -0.9565490625026882\n",
      "g_1 = -3.8813981632377477\n"
     ]
    },
    {
     "data": {
      "image/png": "[encoded data removed]",
      "text/plain": [
       "<Figure size 640x480 with 1 Axes>"
      ]
     },
     "metadata": {},
     "output_type": "display_data"
    }
   ],
   "source": [
    "# Global optimization with DE\n",
    "sim_smr.verbose = False\n",
    "results_DE = sim_smr.DE(x0, xlo, xup, pop=2, max_ite=2)"
   ]
  },
  {
   "cell_type": "code",
   "execution_count": 5,
   "metadata": {},
   "outputs": [
    {
     "name": "stdout",
     "output_type": "stream",
     "text": [
      "[AggregateException('One or more errors occurred.')] at x = [0.75892758 0.26153831 0.04344421 0.51354265 0.39566519 0.61509229\n",
      " 0.16145256 0.79263786]\n",
      "[AggregateException('One or more errors occurred.')] at x = [0.49931556 0.55844499 0.01150119 0.76655272 0.56216835 0.8013662\n",
      " 0.03247796 0.60943501]\n",
      "[AggregateException('One or more errors occurred.')] at x = [0.73579887 0.28798958 0.04059842 0.53608319 0.41049887 0.63168734\n",
      " 0.14996228 0.77631641]\n",
      "[AggregateException('One or more errors occurred.')] at x = [ 0.45803011  0.10445966 -0.21982655  0.312288    0.55738955  0.77993615\n",
      "  0.13155723  1.04020815]\n",
      "[AggregateException('One or more errors occurred.')] at x = [ 0.87982717  0.02795725 -0.14626246  0.74855392  0.36490635  0.7026445\n",
      "  0.35821464  0.50110911]\n",
      "[AggregateException('One or more errors occurred.')] at x = [ 0.44680413  0.27995862 -0.02181622  0.4293236   0.46356453  0.67845603\n",
      "  0.02043134  0.95277102]\n",
      "[AggregateException('One or more errors occurred.')] at x = [ 0.21964501  0.27913195 -0.22895409  0.17125408  0.23593273  0.90905569\n",
      " -0.21667905  1.00601904]\n",
      "[AggregateException('One or more errors occurred.')] at x = [ 0.43034879  0.27989873 -0.03682122  0.41062912  0.44707495  0.6951606\n",
      "  0.00325514  0.95662829]\n",
      "[AggregateException('One or more errors occurred.')] at x = [0.69969727 0.43921426 0.2548044  0.43854645 0.38257236 0.8161949\n",
      " 0.27253438 0.79341524]\n",
      "[AggregateException('One or more errors occurred.')] at x = [ 0.45417447  0.29399126 -0.01102497  0.4130986   0.44136926  0.7058669\n",
      "  0.0270747   0.94219099]\n",
      "Starting global optimization\n",
      "[AggregateException('One or more errors occurred.')] at x = [0.19081299 0.13385037 0.07263994 0.37109922 0.1682237  0.76909614\n",
      " 0.07170343 0.97422102]\n",
      "[AggregateException('One or more errors occurred.')] at x = [ 0.4320453   0.28053529 -0.00399496  0.40956956  0.41841798  0.71117979\n",
      "  0.03082467  0.94488234]\n",
      "[AggregateException('One or more errors occurred.')] at x = [0.67025878 0.26671251 0.18260255 0.30890246 0.33421462 0.53168567\n",
      " 0.01567048 0.72641921]\n",
      "[AggregateException('One or more errors occurred.')] at x = [0.44639122 0.27970284 0.00724249 0.40350709 0.413347   0.70037013\n",
      " 0.02991204 0.93172585]\n",
      "[AggregateException('One or more errors occurred.')] at x = [ 0.212112    0.15028761 -0.13663292  0.35403453  0.69307157  0.59576769\n",
      "  0.12050481  0.68049009]\n",
      "[AggregateException('One or more errors occurred.')] at x = [ 0.71296013  0.04874162  0.08699495  0.43838102  0.66772841  0.77769932\n",
      " -0.05958195  1.01920556]\n",
      "[AggregateException('One or more errors occurred.')] at x = [0.42930875 0.54913661 0.27225908 0.52554574 0.13689373 0.54101031\n",
      " 0.1933026  0.92802917]\n",
      "[AggregateException('One or more errors occurred.')] at x = [0.25074357 0.52838083 0.23584519 0.51286811 0.07534728 0.63143256\n",
      " 0.08709974 0.65963486]\n",
      "[AggregateException('One or more errors occurred.')] at x = [0.42360172 0.54847324 0.27109527 0.52514056 0.13492668 0.54390025\n",
      " 0.18990831 0.91945116]\n"
     ]
    }
   ],
   "source": [
    "# Global optimization with AFSA\n",
    "sim_smr.verbose = False\n",
    "results_AFSA = sim_smr.AFSA(x0, pop=1, max_ite=2, max_try_num=2, step=0.1, visual=0.3, q=0.98, delta=0.1)"
   ]
  },
  {
   "cell_type": "code",
   "execution_count": 16,
   "metadata": {},
   "outputs": [
    {
     "data": {
      "text/plain": [
       "<sko.PSO.PSO at 0x1dc28265b50>"
      ]
     },
     "execution_count": 16,
     "metadata": {},
     "output_type": "execute_result"
    }
   ],
   "source": [
    "results_PSO"
   ]
  }
 ],
 "metadata": {
  "kernelspec": {
   "display_name": "Python 3.8.10 ('venv': venv)",
   "language": "python",
   "name": "python3"
  },
  "language_info": {
   "codemirror_mode": {
    "name": "ipython",
    "version": 3
   },
   "file_extension": ".py",
   "mimetype": "text/x-python",
   "name": "python",
   "nbconvert_exporter": "python",
   "pygments_lexer": "ipython3",
   "version": "3.8.10"
  },
  "vscode": {
   "interpreter": {
    "hash": "663639aa8c46727de12fe54cf77e5a356b06aa70f302b3eb9ecd26dc5dbbccb9"
   }
  }
 },
 "nbformat": 4,
 "nbformat_minor": 2
}
