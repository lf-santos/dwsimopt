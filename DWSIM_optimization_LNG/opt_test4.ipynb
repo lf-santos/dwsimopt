{
 "cells": [
  {
   "cell_type": "code",
   "execution_count": 1,
   "source": [
    "# from pyDWSIMconnect import PyDWSIMconnect\r\n",
    "from simulation import Simulation\r\n",
    "import numpy as np\r\n",
    "import time\r\n",
    "from fobj import *\r\n",
    "from scipy import optimize\r\n",
    "from pprint import pprint"
   ],
   "outputs": [],
   "metadata": {}
  },
  {
   "cell_type": "code",
   "execution_count": 2,
   "source": [
    "# Loading DWSIM simulation into Python (Simulation object)\r\n",
    "sim_smr = Simulation(path2sim=\"C:\\\\Users\\\\lfsfr\\\\Desktop\\\\pyDWSIMopt\\\\sim\\\\SMR_2exp_phaseSep_MSHE_MITApy.dwxmz\")\r\n",
    "sim_smr.savepath = \"C:\\\\Users\\\\lfsfr\\\\Desktop\\\\pyDWSIMopt\\\\sim\\\\SMR_2exp_phaseSep_MSHE_MITApy2.dwxmz\"\r\n",
    "sim_smr.Add_refs()\r\n",
    "sim_smr.Connect()"
   ],
   "outputs": [
    {
     "output_type": "stream",
     "name": "stdout",
     "text": [
      "added refs\n",
      "Simulation was loaded successfully\n"
     ]
    }
   ],
   "metadata": {}
  },
  {
   "cell_type": "code",
   "execution_count": 59,
   "source": [
    "def fobj8n_2exp(sim_smr, x):\r\n",
    "    mr1 = sim_smr.flowsheet.GetFlowsheetSimulationObject(\"MR-1\")\r\n",
    "    comp1 = sim_smr.flowsheet.GetFlowsheetSimulationObject(\"COMP-1\") \r\n",
    "    comp2 = sim_smr.flowsheet.GetFlowsheetSimulationObject(\"COMP-2\") \r\n",
    "    comp3 = sim_smr.flowsheet.GetFlowsheetSimulationObject(\"COMP-3\") \r\n",
    "    comp4 = sim_smr.flowsheet.GetFlowsheetSimulationObject(\"COMP-4\") \r\n",
    "    pump1 = sim_smr.flowsheet.GetFlowsheetSimulationObject(\"PUMP-01\") \r\n",
    "    pump2 = sim_smr.flowsheet.GetFlowsheetSimulationObject(\"PUMP-02\") \r\n",
    "    vlv1 = sim_smr.flowsheet.GetFlowsheetSimulationObject(\"VALV-01\")\r\n",
    "    cool8 = sim_smr.flowsheet.GetFlowsheetSimulationObject(\"COOL-08\")\r\n",
    "    lng = sim_smr.flowsheet.GetFlowsheetSimulationObject(\"LNG-1\")\r\n",
    "    if sim_smr.x is None:\r\n",
    "        sim_smr.x = np.zeros(len(x))\r\n",
    "    if np.linalg.norm(sim_smr.x - np.asarray(x))>1e-10:\r\n",
    "        sep1 = sim_smr.flowsheet.GetFlowsheetSimulationObject(\"SEP-02\")\r\n",
    "        sep2 = sim_smr.flowsheet.GetFlowsheetSimulationObject(\"SEP-03\")\r\n",
    "        sep1.GraphicObject.Activate = False\r\n",
    "        sep2.GraphicObject.Activate = False\r\n",
    "\r\n",
    "        mr1.SetOverallCompoundMassFlow(0,x[1])\r\n",
    "        mr1.SetOverallCompoundMassFlow(1,x[2])\r\n",
    "        mr1.SetOverallCompoundMassFlow(2,x[3])\r\n",
    "        mr1.SetOverallCompoundMassFlow(5,x[4])\r\n",
    "        mr1.SetOverallCompoundMassFlow(7,x[0])\r\n",
    "        vlv1.OutletPressure = x[5]\r\n",
    "        comp4.POut = x[6]\r\n",
    "        cool8.OutletTemperature = x[7]\r\n",
    "\r\n",
    "        sim_smr.interface.CalculateFlowsheet2(sim_smr.flowsheet)\r\n",
    "        if sim_smr.flowsheet.GetFlowsheetSimulationObject(\"MSTR-03\").Phases[1].Properties.massfraction < 1e-5:\r\n",
    "            pump1.GraphicObject.Active = False\r\n",
    "            # print(sim_smr.flowsheet.GetFlowsheetSimulationObject(\"PUMP-01\").GraphicObject.Active)\r\n",
    "            sim_smr.flowsheet.DisconnectObjects(\r\n",
    "                sim_smr.flowsheet.GetFlowsheetSimulationObject(\"MSTR-29\").GraphicObject,\r\n",
    "                sim_smr.flowsheet.GetFlowsheetSimulationObject(\"MIX-02\").GraphicObject)\r\n",
    "        else:\r\n",
    "            pump1.GraphicObject.Active = True\r\n",
    "            sim_smr.flowsheet.DisconnectObjects(\r\n",
    "                sim_smr.flowsheet.GetFlowsheetSimulationObject(\"MSTR-29\").GraphicObject,\r\n",
    "                sim_smr.flowsheet.GetFlowsheetSimulationObject(\"MIX-02\").GraphicObject)     #avoid bug\r\n",
    "            sim_smr.flowsheet.ConnectObjects(\r\n",
    "                sim_smr.flowsheet.GetFlowsheetSimulationObject(\"MSTR-29\").GraphicObject,\r\n",
    "                sim_smr.flowsheet.GetFlowsheetSimulationObject(\"MIX-02\").GraphicObject,-1,-1)\r\n",
    "        sep1.GraphicObject.Active = True\r\n",
    "        sep1.Calculate()\r\n",
    "        sim_smr.interface.CalculateFlowsheet2(sim_smr.flowsheet)\r\n",
    "        if sim_smr.flowsheet.GetFlowsheetSimulationObject(\"MSTR-05\").Phases[1].Properties.massfraction < 1e-5:\r\n",
    "            pump2.GraphicObject.Active = False\r\n",
    "            sim_smr.flowsheet.DisconnectObjects(\r\n",
    "                sim_smr.flowsheet.GetFlowsheetSimulationObject(\"MSTR-30\").GraphicObject,\r\n",
    "                sim_smr.flowsheet.GetFlowsheetSimulationObject(\"MIX-02\").GraphicObject)\r\n",
    "        else:\r\n",
    "            pump2.GraphicObject.Active = True\r\n",
    "            pump2.Calculate()\r\n",
    "            sim_smr.flowsheet.DisconnectObjects(\r\n",
    "                sim_smr.flowsheet.GetFlowsheetSimulationObject(\"MSTR-30\").GraphicObject,\r\n",
    "                sim_smr.flowsheet.GetFlowsheetSimulationObject(\"MIX-02\").GraphicObject)\r\n",
    "            sim_smr.flowsheet.ConnectObjects(\r\n",
    "                sim_smr.flowsheet.GetFlowsheetSimulationObject(\"MSTR-30\").GraphicObject,\r\n",
    "                sim_smr.flowsheet.GetFlowsheetSimulationObject(\"MIX-02\").GraphicObject,-1,-1)\r\n",
    "        sep2.GraphicObject.Active = True\r\n",
    "        sep2.Calculate()\r\n",
    "        sim_smr.interface.CalculateFlowsheet2(sim_smr.flowsheet)\r\n",
    "        # print(comp1.DeltaQ + comp2.DeltaQ + comp3.DeltaQ + comp4.DeltaQ)\r\n",
    "        # print(sim_smr.flowsheet.GetFlowsheetSimulationObject(\"MITA1-Calc\").OutputVariables['mita'])\r\n",
    "        # print(sim_smr.flowsheet.GetFlowsheetSimulationObject(\"MITA2-Calc\").OutputVariables['mita'])\r\n",
    "        # time.sleep(0.05)\r\n",
    "        # sim_smr.interface.CalculateFlowsheet2(sim_smr.flowsheet)\r\n",
    "        # time.sleep(0.05)\r\n",
    "        # print(comp1.DeltaQ + comp2.DeltaQ + comp3.DeltaQ + comp4.DeltaQ)\r\n",
    "        # print(sim_smr.flowsheet.GetFlowsheetSimulationObject(\"MITA1-Calc\").OutputVariables['mita'])\r\n",
    "        # print(sim_smr.flowsheet.GetFlowsheetSimulationObject(\"MITA2-Calc\").OutputVariables['mita'])\r\n",
    "        # sim_smr.interface.CalculateFlowsheet2(sim_smr.flowsheet)\r\n",
    "        # time.sleep(0.05)\r\n",
    "        # print(comp1.DeltaQ + comp2.DeltaQ + comp3.DeltaQ + comp4.DeltaQ)\r\n",
    "        # print(sim_smr.flowsheet.GetFlowsheetSimulationObject(\"MITA1-Calc\").OutputVariables['mita'])\r\n",
    "        # print(sim_smr.flowsheet.GetFlowsheetSimulationObject(\"MITA2-Calc\").OutputVariables['mita'])\r\n",
    "        # sim_smr.interface.CalculateFlowsheet2(sim_smr.flowsheet)\r\n",
    "        # print(comp1.DeltaQ + comp2.DeltaQ + comp3.DeltaQ + comp4.DeltaQ)\r\n",
    "        # print(sim_smr.flowsheet.GetFlowsheetSimulationObject(\"MITA1-Calc\").OutputVariables['mita'])\r\n",
    "        # print(sim_smr.flowsheet.GetFlowsheetSimulationObject(\"MITA2-Calc\").OutputVariables['mita'])\r\n",
    "        sumW = (comp1.DeltaQ + comp2.DeltaQ + comp3.DeltaQ + comp4.DeltaQ)\r\n",
    "        if sim_smr.flowsheet.GetFlowsheetSimulationObject(\"MSTR-03\").Phases[1].Properties.massfraction > 1e-5:\r\n",
    "            sumW += pump1.DeltaQ \r\n",
    "        if sim_smr.flowsheet.GetFlowsheetSimulationObject(\"MSTR-05\").Phases[1].Properties.massfraction > 1e-5:    \r\n",
    "            sumW += pump2.DeltaQ\r\n",
    "        sumW = sumW/lng.GetMassFlow()/3600\r\n",
    "        mita1 = sim_smr.flowsheet.GetFlowsheetSimulationObject(\"MITA1-Calc\").OutputVariables['mita']\r\n",
    "        mita2 = sim_smr.flowsheet.GetFlowsheetSimulationObject(\"MITA2-Calc\").OutputVariables['mita']\r\n",
    "    else:\r\n",
    "        sumW = sim_smr.f\r\n",
    "        mita1 = sim_smr.g\r\n",
    "        mita2 = sim_smr.g\r\n",
    "    sim_smr.x = x\r\n",
    "    sim_smr.f = sumW\r\n",
    "    sim_smr.g = min(mita1, mita2)\r\n",
    "    return sumW, min(mita1, mita2)"
   ],
   "outputs": [],
   "metadata": {}
  },
  {
   "cell_type": "code",
   "execution_count": 61,
   "source": [
    "print(fobj8n_2exp(sim_smr,x0))\r\n",
    "sim_smr.interface.SaveFlowsheet(sim_smr.flowsheet,sim_smr.savepath,True)"
   ],
   "outputs": [
    {
     "output_type": "stream",
     "name": "stdout",
     "text": [
      "(0.38910372777457003, 6.478475991470418)\n",
      "True\n"
     ]
    }
   ],
   "metadata": {}
  },
  {
   "cell_type": "code",
   "execution_count": 31,
   "source": [
    "# Initial simulation setup\r\n",
    "x0 = np.array( [0.25/3600, 0.70/3600, 1.0/3600, 1.10/3600, 1.80/3600, 2.50e5, 50.00e5, -60+273.15] )\r\n",
    "x_top = np.array( [0.252779/3600, 0.441063/3600, 1.411068/3600, 0.805952/3600, 1.851257/3600, 3.342832e5, 34.97221e5, -27.2958+273.15] )\r\n",
    "sim_smr.fobj = lambda x: fobj8n_2exp(sim_smr, x)\r\n",
    "sumW, mita = sim_smr.fobj(1.0*x0)\r\n",
    "print(sim_smr.x,\r\n",
    "sim_smr.f,\r\n",
    "sim_smr.g)\r\n",
    "sim_smr.interface.SaveFlowsheet(sim_smr.flowsheet,sim_smr.savepath,True)"
   ],
   "outputs": [
    {
     "output_type": "stream",
     "name": "stdout",
     "text": [
      "[6.94444444e-05 1.94444444e-04 2.77777778e-04 3.05555556e-04\n",
      " 5.00000000e-04 2.50000000e+05 5.00000000e+06 2.33150000e+02] 0.3891037277745704 6.47847599147029\n"
     ]
    }
   ],
   "metadata": {}
  },
  {
   "cell_type": "code",
   "execution_count": 32,
   "source": [
    "args=(sim_smr)\r\n",
    "xtol=0.01\r\n",
    "ftol=0.01\r\n",
    "maxiter=50 # +- 5 seconds per iteration\r\n",
    "print(\"starting optimization\")\r\n",
    "iteration = 0\r\n",
    "regularizer = np.array([1e4,1e4,1e4,1e4,1e4, 1e-5, 1e-6, 1e-2])\r\n",
    "#rever \\/\r\n",
    "bounds_raw = np.array( [0.6*np.asarray(x0), 1.4*np.asarray(x0)] )\r\n",
    "bounds_raw[0][-1] = 153\r\n",
    "bounds_raw[1][-1] = 233\r\n",
    "bounds_reg = regularizer*bounds_raw\r\n",
    "print(bounds_reg)\r\n",
    "bounds = optimize.Bounds(bounds_reg[0], bounds_reg[1])\r\n",
    "g = lambda x: fobj8n_2exp(sim_smr,np.asarray(x)/regularizer)[1]\r\n",
    "nonlinear_constraint = optimize.NonlinearConstraint(g, 3, np.inf, jac='2-point', hess=optimize.BFGS())\r\n",
    "f = lambda x: fobj8n_2exp(sim_smr,np.asarray(x)/regularizer)[0]\r\n",
    "# print(fobj8n_2exp(sim_smr,x_top))"
   ],
   "outputs": [
    {
     "output_type": "stream",
     "name": "stdout",
     "text": [
      "starting optimization\n",
      "[[0.41666667 1.16666667 1.66666667 1.83333333 3.         1.5\n",
      "  3.         1.53      ]\n",
      " [0.97222222 2.72222222 3.88888889 4.27777778 7.         3.5\n",
      "  7.         2.33      ]]\n"
     ]
    }
   ],
   "metadata": {}
  },
  {
   "cell_type": "code",
   "execution_count": 42,
   "source": [
    "fobj8n_2exp(sim_smr, x_top)\r\n",
    "pprint(vars(sim_smr))\r\n",
    "sim_smr.interface.SaveFlowsheet(sim_smr.flowsheet, sim_smr.savepath,True)"
   ],
   "outputs": [
    {
     "output_type": "stream",
     "name": "stdout",
     "text": [
      "{'f': nan,\n",
      " 'flowsheet': <DWSIM.UI.Desktop.Shared.Flowsheet object at 0x0000022A4953F4F0>,\n",
      " 'fobj': <function <lambda> at 0x0000022A49562CA0>,\n",
      " 'g': 3.3707080862848784,\n",
      " 'interface': <DWSIM.Automation.Automation2 object at 0x0000022A495399D0>,\n",
      " 'path': 'C:\\\\Users\\\\lfsfr\\\\Desktop\\\\pyDWSIMopt\\\\sim\\\\SMR_2exp_phaseSep_MSHE_MITApy.dwxmz',\n",
      " 'path2dwsim': 'C:\\\\Users\\\\lfsfr\\\\AppData\\\\Local\\\\DWSIM7\\\\',\n",
      " 'savepath': 'C:\\\\Users\\\\lfsfr\\\\Desktop\\\\pyDWSIMopt\\\\sim\\\\SMR_2exp_phaseSep_MSHE_MITApy2.dwxmz',\n",
      " 'x': array([7.02163889e-05, 1.22517500e-04, 3.91963333e-04, 2.23875556e-04,\n",
      "       5.14238056e-04, 3.34283200e+05, 3.49722100e+06, 2.45854200e+02])}\n"
     ]
    }
   ],
   "metadata": {}
  },
  {
   "cell_type": "code",
   "execution_count": 14,
   "source": [
    "# Local optimization with trust-region -> working to some extent\r\n",
    "result = optimize.minimize( f, np.asarray(x0)*regularizer, \r\n",
    "            method='trust-constr', jac='2-point', hess=optimize.BFGS(),\r\n",
    "            constraints=[nonlinear_constraint], bounds=bounds, callback=None,\r\n",
    "            options={'verbose': 3, \r\n",
    "                     'xtol': xtol, \r\n",
    "                     'maxiter': 0.1*maxiter, \r\n",
    "                     'finite_diff_rel_step': None, \r\n",
    "                     'initial_tr_radius': 0.1} )"
   ],
   "outputs": [
    {
     "output_type": "stream",
     "name": "stdout",
     "text": [
      "| niter |f evals|CG iter|  obj func   |tr radius |   opt    |  c viol  | penalty  |barrier param|CG stop|\n",
      "|-------|-------|-------|-------------|----------|----------|----------|----------|-------------|-------|\n",
      "|   1   |   9   |   0   | +3.8910e-01 | 1.00e-01 | 1.43e-02 | 1.50e-03 | 1.00e+00 |  1.00e-01   |   0   |\n",
      "|   2   |  18   |   1   | +3.8910e-01 | 1.00e-02 | 1.43e-02 | 1.50e-03 | 1.00e+00 |  1.00e-01   |   4   |\n",
      "|   3   |  27   |   4   | +3.8910e-01 | 6.47e-02 | 1.43e-02 | 1.50e-03 | 1.00e+00 |  1.00e-01   |   4   |\n",
      "|   4   |  36   |   7   | +3.8910e-01 | 4.19e-01 | 1.42e-02 | 1.50e-03 | 1.00e+00 |  1.00e-01   |   4   |\n",
      "|   5   |  45   |  12   | +3.8910e-01 | 4.19e-02 | 1.42e-02 | 1.50e-03 | 1.00e+00 |  1.00e-01   |   4   |\n",
      "\n",
      "The maximum number of function evaluations is exceeded.\n",
      "Number of iterations: 5, function evaluations: 45, CG iterations: 12, optimality: 1.42e-02, constraint violation: 1.50e-03, execution time: 1e+02 s.\n"
     ]
    }
   ],
   "metadata": {}
  },
  {
   "cell_type": "code",
   "execution_count": 34,
   "source": [
    "print(f(result.x))\r\n",
    "print(g(result.x))\r\n",
    "# sim_smr.interface.SaveFlowsheet(sim_smr.flowsheet, sim_smr.savepath,True)\r\n",
    "print(result.x)\r\n",
    "# x_top\r\n",
    "bounds"
   ],
   "outputs": [
    {
     "output_type": "error",
     "ename": "NameError",
     "evalue": "name 'result' is not defined",
     "traceback": [
      "\u001b[1;31m---------------------------------------------------------------------------\u001b[0m",
      "\u001b[1;31mNameError\u001b[0m                                 Traceback (most recent call last)",
      "\u001b[1;32m~\\AppData\\Local\\Temp/ipykernel_20748/3850440041.py\u001b[0m in \u001b[0;36m<module>\u001b[1;34m\u001b[0m\n\u001b[1;32m----> 1\u001b[1;33m \u001b[0mprint\u001b[0m\u001b[1;33m(\u001b[0m\u001b[0mf\u001b[0m\u001b[1;33m(\u001b[0m\u001b[0mresult\u001b[0m\u001b[1;33m.\u001b[0m\u001b[0mx\u001b[0m\u001b[1;33m)\u001b[0m\u001b[1;33m)\u001b[0m\u001b[1;33m\u001b[0m\u001b[1;33m\u001b[0m\u001b[0m\n\u001b[0m\u001b[0;32m      2\u001b[0m \u001b[0mprint\u001b[0m\u001b[1;33m(\u001b[0m\u001b[0mg\u001b[0m\u001b[1;33m(\u001b[0m\u001b[0mresult\u001b[0m\u001b[1;33m.\u001b[0m\u001b[0mx\u001b[0m\u001b[1;33m)\u001b[0m\u001b[1;33m)\u001b[0m\u001b[1;33m\u001b[0m\u001b[1;33m\u001b[0m\u001b[0m\n\u001b[0;32m      3\u001b[0m \u001b[1;31m# sim_smr.interface.SaveFlowsheet(sim_smr.flowsheet, sim_smr.savepath,True)\u001b[0m\u001b[1;33m\u001b[0m\u001b[1;33m\u001b[0m\u001b[1;33m\u001b[0m\u001b[0m\n\u001b[0;32m      4\u001b[0m \u001b[0mprint\u001b[0m\u001b[1;33m(\u001b[0m\u001b[0mresult\u001b[0m\u001b[1;33m.\u001b[0m\u001b[0mx\u001b[0m\u001b[1;33m)\u001b[0m\u001b[1;33m\u001b[0m\u001b[1;33m\u001b[0m\u001b[0m\n\u001b[0;32m      5\u001b[0m \u001b[1;31m# x_top\u001b[0m\u001b[1;33m\u001b[0m\u001b[1;33m\u001b[0m\u001b[1;33m\u001b[0m\u001b[0m\n",
      "\u001b[1;31mNameError\u001b[0m: name 'result' is not defined"
     ]
    }
   ],
   "metadata": {}
  },
  {
   "cell_type": "code",
   "execution_count": 21,
   "source": [
    "# Global optimization with Differential Evolution\r\n",
    "result = optimize.differential_evolution(f, bounds, constraints=[nonlinear_constraint], \r\n",
    "            maxiter=40, popsize=1, seed=420, disp=True, polish=False)"
   ],
   "outputs": [
    {
     "output_type": "stream",
     "name": "stdout",
     "text": [
      "differential_evolution step 1: f(x)= 0.389021\n",
      "differential_evolution step 2: f(x)= 0.389021\n",
      "differential_evolution step 3: f(x)= 0.389021\n",
      "differential_evolution step 4: f(x)= 0.389021\n",
      "differential_evolution step 5: f(x)= 0.388951\n",
      "differential_evolution step 6: f(x)= 0.381795\n",
      "differential_evolution step 7: f(x)= 0.375185\n",
      "differential_evolution step 8: f(x)= 0.375185\n",
      "differential_evolution step 9: f(x)= 0.375185\n",
      "differential_evolution step 10: f(x)= 0.375185\n",
      "differential_evolution step 11: f(x)= 0.375185\n",
      "differential_evolution step 12: f(x)= 0.370525\n",
      "differential_evolution step 13: f(x)= 0.35592\n",
      "differential_evolution step 14: f(x)= 0.35592\n",
      "differential_evolution step 15: f(x)= 0.352001\n",
      "differential_evolution step 16: f(x)= 0.352001\n",
      "differential_evolution step 17: f(x)= 0.352001\n",
      "differential_evolution step 18: f(x)= 0.352001\n",
      "differential_evolution step 19: f(x)= 0.352001\n",
      "differential_evolution step 20: f(x)= 0.352001\n",
      "differential_evolution step 21: f(x)= 0.352001\n",
      "differential_evolution step 22: f(x)= 0.352001\n",
      "differential_evolution step 23: f(x)= 0.352001\n",
      "differential_evolution step 24: f(x)= 0.352001\n"
     ]
    }
   ],
   "metadata": {}
  },
  {
   "cell_type": "code",
   "execution_count": 22,
   "source": [
    "print(f(result.x))\r\n",
    "print(g(result.x))\r\n",
    "sim_smr.interface.SaveFlowsheet(sim_smr.flowsheet, sim_smr.savepath,True)\r\n",
    "print(result.x)\r\n",
    "pprint(result)"
   ],
   "outputs": [
    {
     "output_type": "stream",
     "name": "stdout",
     "text": [
      "0.35200079115517074\n",
      "3.452329610257806\n",
      "[0.65241246 2.15011408 3.22390549 2.81997067 5.23753216 3.39148359\n",
      " 4.38820831 1.9372737 ]\n",
      "{'constr': [array([0.])],\n",
      " 'constr_violation': 0.0,\n",
      " 'fun': 0.35200079115517074,\n",
      " 'maxcv': 0.0,\n",
      " 'message': 'Optimization terminated successfully.',\n",
      " 'nfev': 84,\n",
      " 'nit': 24,\n",
      " 'success': True,\n",
      " 'x': array([0.65241246, 2.15011408, 3.22390549, 2.81997067, 5.23753216,\n",
      "       3.39148359, 4.38820831, 1.9372737 ])}\n"
     ]
    }
   ],
   "metadata": {}
  },
  {
   "cell_type": "code",
   "execution_count": 65,
   "source": [
    "# Global optimization with PSO\r\n",
    "from sko.PSO import PSO\r\n",
    "fpen = lambda x: f(x)+1000*max(0,3-g(x))\r\n",
    "result_pso = PSO(func=fpen, n_dim=8, pop=20, max_iter=50, lb=bounds_reg[0], ub=bounds_reg[1], verbose=True)\r\n",
    "result_pso.record_mode = True\r\n",
    "result_pso.run()"
   ],
   "outputs": [
    {
     "output_type": "stream",
     "name": "stdout",
     "text": [
      "Iter: 0, Best fit: [0.40724619] at [0.84994424 1.74506097 3.88888889 3.18785641 5.11879347 3.11567772\n",
      " 7.         2.33      ]\n",
      "Iter: 1, Best fit: [0.39306125] at [0.50607896 1.16666667 3.33035558 3.64406154 7.         1.5\n",
      " 3.         1.90512088]\n",
      "Iter: 2, Best fit: [0.39306125] at [0.50607896 1.16666667 3.33035558 3.64406154 7.         1.5\n",
      " 3.         1.90512088]\n",
      "Iter: 3, Best fit: [0.37634747] at [0.41666667 1.16666667 3.88888889 2.10208541 5.65431243 1.5\n",
      " 3.         2.05343288]\n",
      "Iter: 4, Best fit: [0.32658729] at [0.41666667 1.16666667 3.88888889 1.83333333 6.9182761  2.01834488\n",
      " 3.         2.19214542]\n",
      "Iter: 5, Best fit: [0.32658729] at [0.41666667 1.16666667 3.88888889 1.83333333 6.9182761  2.01834488\n",
      " 3.         2.19214542]\n",
      "Iter: 6, Best fit: [0.32658729] at [0.41666667 1.16666667 3.88888889 1.83333333 6.9182761  2.01834488\n",
      " 3.         2.19214542]\n",
      "Iter: 7, Best fit: [0.31564364] at [0.41666667 1.16666667 3.88888889 1.83333333 6.96111813 2.16750799\n",
      " 3.         2.24418207]\n",
      "Iter: 8, Best fit: [0.31564364] at [0.41666667 1.16666667 3.88888889 1.83333333 6.96111813 2.16750799\n",
      " 3.         2.24418207]\n",
      "Iter: 9, Best fit: [0.30894582] at [0.41666667 1.16666667 3.88888889 1.83333333 7.         2.30584181\n",
      " 3.12252805 2.33      ]\n",
      "Iter: 10, Best fit: [0.30894582] at [0.41666667 1.16666667 3.88888889 1.83333333 7.         2.30584181\n",
      " 3.12252805 2.33      ]\n",
      "Iter: 11, Best fit: [0.30894582] at [0.41666667 1.16666667 3.88888889 1.83333333 7.         2.30584181\n",
      " 3.12252805 2.33      ]\n",
      "Iter: 12, Best fit: [0.30894582] at [0.41666667 1.16666667 3.88888889 1.83333333 7.         2.30584181\n",
      " 3.12252805 2.33      ]\n",
      "Iter: 13, Best fit: [0.30749977] at [0.41666667 1.16666667 3.88888889 1.83333333 7.         2.29504719\n",
      " 3.02003885 2.33      ]\n",
      "Iter: 14, Best fit: [0.30749977] at [0.41666667 1.16666667 3.88888889 1.83333333 7.         2.29504719\n",
      " 3.02003885 2.33      ]\n",
      "Iter: 15, Best fit: [0.30726794] at [0.41666667 1.16666667 3.88888889 1.83333333 7.         2.30900061\n",
      " 3.04836653 2.33      ]\n",
      "Iter: 16, Best fit: [0.30726794] at [0.41666667 1.16666667 3.88888889 1.83333333 7.         2.30900061\n",
      " 3.04836653 2.33      ]\n",
      "Iter: 17, Best fit: [0.30693996] at [0.41666667 1.16666667 3.88888889 1.83333333 6.89507325 2.29362401\n",
      " 3.         2.33      ]\n",
      "Iter: 18, Best fit: [0.30693996] at [0.41666667 1.16666667 3.88888889 1.83333333 6.89507325 2.29362401\n",
      " 3.         2.33      ]\n",
      "Iter: 19, Best fit: [0.30693996] at [0.41666667 1.16666667 3.88888889 1.83333333 6.89507325 2.29362401\n",
      " 3.         2.33      ]\n",
      "Iter: 20, Best fit: [0.30693996] at [0.41666667 1.16666667 3.88888889 1.83333333 6.89507325 2.29362401\n",
      " 3.         2.33      ]\n",
      "Iter: 21, Best fit: [0.30685533] at [0.41666667 1.16666667 3.88888889 1.83333333 6.8793504  2.29451068\n",
      " 3.         2.33      ]\n",
      "Iter: 22, Best fit: [0.30498927] at [0.41666667 1.16666667 3.88888889 1.83333333 6.92136489 2.36000087\n",
      " 3.09534283 2.33      ]\n",
      "Iter: 23, Best fit: [0.30498927] at [0.41666667 1.16666667 3.88888889 1.83333333 6.92136489 2.36000087\n",
      " 3.09534283 2.33      ]\n",
      "Iter: 24, Best fit: [0.30498927] at [0.41666667 1.16666667 3.88888889 1.83333333 6.92136489 2.36000087\n",
      " 3.09534283 2.33      ]\n",
      "Iter: 25, Best fit: [0.30455649] at [0.41666667 1.16666667 3.88888889 1.83333333 6.84754837 2.3774175\n",
      " 3.12803606 2.33      ]\n",
      "Iter: 26, Best fit: [0.30455649] at [0.41666667 1.16666667 3.88888889 1.83333333 6.84754837 2.3774175\n",
      " 3.12803606 2.33      ]\n",
      "Iter: 27, Best fit: [0.30455649] at [0.41666667 1.16666667 3.88888889 1.83333333 6.84754837 2.3774175\n",
      " 3.12803606 2.33      ]\n",
      "Iter: 28, Best fit: [0.30425786] at [0.41666667 1.16666667 3.88888889 1.83333333 6.84243683 2.36559092\n",
      " 3.08421033 2.33      ]\n",
      "Iter: 29, Best fit: [0.30425786] at [0.41666667 1.16666667 3.88888889 1.83333333 6.84243683 2.36559092\n",
      " 3.08421033 2.33      ]\n",
      "Iter: 30, Best fit: [0.30385267] at [0.41666667 1.16666667 3.88888889 1.83333333 6.82350219 2.37932808\n",
      " 3.10475891 2.33      ]\n",
      "Iter: 31, Best fit: [0.30385267] at [0.41666667 1.16666667 3.88888889 1.83333333 6.82350219 2.37932808\n",
      " 3.10475891 2.33      ]\n",
      "Iter: 32, Best fit: [0.30345837] at [0.41666667 1.16666667 3.88888889 1.83333333 6.79685633 2.38197209\n",
      " 3.09683082 2.33      ]\n",
      "Iter: 33, Best fit: [0.30345837] at [0.41666667 1.16666667 3.88888889 1.83333333 6.79685633 2.38197209\n",
      " 3.09683082 2.33      ]\n",
      "Iter: 34, Best fit: [0.30345837] at [0.41666667 1.16666667 3.88888889 1.83333333 6.79685633 2.38197209\n",
      " 3.09683082 2.33      ]\n",
      "Iter: 35, Best fit: [0.30345837] at [0.41666667 1.16666667 3.88888889 1.83333333 6.79685633 2.38197209\n",
      " 3.09683082 2.33      ]\n",
      "Iter: 36, Best fit: [0.30345837] at [0.41666667 1.16666667 3.88888889 1.83333333 6.79685633 2.38197209\n",
      " 3.09683082 2.33      ]\n",
      "Iter: 37, Best fit: [0.30345837] at [0.41666667 1.16666667 3.88888889 1.83333333 6.79685633 2.38197209\n",
      " 3.09683082 2.33      ]\n",
      "Iter: 38, Best fit: [0.30345837] at [0.41666667 1.16666667 3.88888889 1.83333333 6.79685633 2.38197209\n",
      " 3.09683082 2.33      ]\n",
      "Iter: 39, Best fit: [0.30345837] at [0.41666667 1.16666667 3.88888889 1.83333333 6.79685633 2.38197209\n",
      " 3.09683082 2.33      ]\n",
      "Iter: 40, Best fit: [0.30345837] at [0.41666667 1.16666667 3.88888889 1.83333333 6.79685633 2.38197209\n",
      " 3.09683082 2.33      ]\n",
      "Iter: 41, Best fit: [0.30345837] at [0.41666667 1.16666667 3.88888889 1.83333333 6.79685633 2.38197209\n",
      " 3.09683082 2.33      ]\n",
      "Iter: 42, Best fit: [0.30345837] at [0.41666667 1.16666667 3.88888889 1.83333333 6.79685633 2.38197209\n",
      " 3.09683082 2.33      ]\n",
      "Iter: 43, Best fit: [0.30345837] at [0.41666667 1.16666667 3.88888889 1.83333333 6.79685633 2.38197209\n",
      " 3.09683082 2.33      ]\n",
      "Iter: 44, Best fit: [0.30344808] at [0.41666667 1.16666667 3.88888889 1.83333333 6.79863948 2.38310686\n",
      " 3.09927248 2.33      ]\n",
      "Iter: 45, Best fit: [0.30344808] at [0.41666667 1.16666667 3.88888889 1.83333333 6.79863948 2.38310686\n",
      " 3.09927248 2.33      ]\n",
      "Iter: 46, Best fit: [0.30344808] at [0.41666667 1.16666667 3.88888889 1.83333333 6.79863948 2.38310686\n",
      " 3.09927248 2.33      ]\n",
      "Iter: 47, Best fit: [0.30338076] at [0.41666667 1.16666667 3.88888889 1.83333333 6.7898326  2.38250137\n",
      " 3.09541658 2.33      ]\n",
      "Iter: 48, Best fit: [0.30338076] at [0.41666667 1.16666667 3.88888889 1.83333333 6.7898326  2.38250137\n",
      " 3.09541658 2.33      ]\n",
      "Iter: 49, Best fit: [0.30338076] at [0.41666667 1.16666667 3.88888889 1.83333333 6.7898326  2.38250137\n",
      " 3.09541658 2.33      ]\n"
     ]
    },
    {
     "output_type": "execute_result",
     "data": {
      "text/plain": [
       "(array([0.41666667, 1.16666667, 3.88888889, 1.83333333, 6.7898326 ,\n",
       "        2.38250137, 3.09541658, 2.33      ]),\n",
       " array([0.30338076]))"
      ]
     },
     "metadata": {},
     "execution_count": 65
    }
   ],
   "metadata": {}
  },
  {
   "cell_type": "code",
   "execution_count": 66,
   "source": [
    "import matplotlib.pyplot as plt\r\n",
    "\r\n",
    "print(f(result_pso.gbest_x))\r\n",
    "print(g(result_pso.gbest_x))\r\n",
    "sim_smr.interface.SaveFlowsheet(sim_smr.flowsheet, sim_smr.savepath,True)\r\n",
    "print(result_pso.gbest_x)\r\n",
    "pprint(result_pso)\r\n",
    "print(fpen(result_pso.gbest_x))\r\n",
    "\r\n",
    "plt.plot(result_pso.gbest_y_hist)\r\n",
    "plt.show()"
   ],
   "outputs": [
    {
     "output_type": "stream",
     "name": "stdout",
     "text": [
      "0.30338076019866816\n",
      "3.000982335971088\n",
      "[0.41666667 1.16666667 3.88888889 1.83333333 6.7898326  2.38250137\n",
      " 3.09541658 2.33      ]\n",
      "<sko.PSO.PSO object at 0x0000022A5058AF70>\n",
      "0.30338076019866816\n"
     ]
    },
    {
     "output_type": "display_data",
     "data": {
      "text/plain": [
       "<Figure size 432x288 with 1 Axes>"
      ],
      "image/svg+xml": "<?xml version=\"1.0\" encoding=\"utf-8\" standalone=\"no\"?>\n<!DOCTYPE svg PUBLIC \"-//W3C//DTD SVG 1.1//EN\"\n  \"http://www.w3.org/Graphics/SVG/1.1/DTD/svg11.dtd\">\n<svg xmlns:xlink=\"http://www.w3.org/1999/xlink\" width=\"378.465625pt\" height=\"248.518125pt\" viewBox=\"0 0 378.465625 248.518125\" xmlns=\"http://www.w3.org/2000/svg\" version=\"1.1\">\n <metadata>\n  <rdf:RDF xmlns:dc=\"http://purl.org/dc/elements/1.1/\" xmlns:cc=\"http://creativecommons.org/ns#\" xmlns:rdf=\"http://www.w3.org/1999/02/22-rdf-syntax-ns#\">\n   <cc:Work>\n    <dc:type rdf:resource=\"http://purl.org/dc/dcmitype/StillImage\"/>\n    <dc:date>2021-12-08T16:33:56.068536</dc:date>\n    <dc:format>image/svg+xml</dc:format>\n    <dc:creator>\n     <cc:Agent>\n      <dc:title>Matplotlib v3.5.0, https://matplotlib.org/</dc:title>\n     </cc:Agent>\n    </dc:creator>\n   </cc:Work>\n  </rdf:RDF>\n </metadata>\n <defs>\n  <style type=\"text/css\">*{stroke-linejoin: round; stroke-linecap: butt}</style>\n </defs>\n <g id=\"figure_1\">\n  <g id=\"patch_1\">\n   <path d=\"M 0 248.518125 \nL 378.465625 248.518125 \nL 378.465625 0 \nL 0 0 \nL 0 248.518125 \nz\n\" style=\"fill: none\"/>\n  </g>\n  <g id=\"axes_1\">\n   <g id=\"patch_2\">\n    <path d=\"M 36.465625 224.64 \nL 371.265625 224.64 \nL 371.265625 7.2 \nL 36.465625 7.2 \nz\n\" style=\"fill: #ffffff\"/>\n   </g>\n   <g id=\"matplotlib.axis_1\">\n    <g id=\"xtick_1\">\n     <g id=\"line2d_1\">\n      <defs>\n       <path id=\"mdb24d1708a\" d=\"M 0 0 \nL 0 3.5 \n\" style=\"stroke: #000000; stroke-width: 0.8\"/>\n      </defs>\n      <g>\n       <use xlink:href=\"#mdb24d1708a\" x=\"51.683807\" y=\"224.64\" style=\"stroke: #000000; stroke-width: 0.8\"/>\n      </g>\n     </g>\n     <g id=\"text_1\">\n      <!-- 0 -->\n      <g transform=\"translate(48.502557 239.238438)scale(0.1 -0.1)\">\n       <defs>\n        <path id=\"DejaVuSans-30\" d=\"M 2034 4250 \nQ 1547 4250 1301 3770 \nQ 1056 3291 1056 2328 \nQ 1056 1369 1301 889 \nQ 1547 409 2034 409 \nQ 2525 409 2770 889 \nQ 3016 1369 3016 2328 \nQ 3016 3291 2770 3770 \nQ 2525 4250 2034 4250 \nz\nM 2034 4750 \nQ 2819 4750 3233 4129 \nQ 3647 3509 3647 2328 \nQ 3647 1150 3233 529 \nQ 2819 -91 2034 -91 \nQ 1250 -91 836 529 \nQ 422 1150 422 2328 \nQ 422 3509 836 4129 \nQ 1250 4750 2034 4750 \nz\n\" transform=\"scale(0.015625)\"/>\n       </defs>\n       <use xlink:href=\"#DejaVuSans-30\"/>\n      </g>\n     </g>\n    </g>\n    <g id=\"xtick_2\">\n     <g id=\"line2d_2\">\n      <g>\n       <use xlink:href=\"#mdb24d1708a\" x=\"113.798835\" y=\"224.64\" style=\"stroke: #000000; stroke-width: 0.8\"/>\n      </g>\n     </g>\n     <g id=\"text_2\">\n      <!-- 10 -->\n      <g transform=\"translate(107.436335 239.238438)scale(0.1 -0.1)\">\n       <defs>\n        <path id=\"DejaVuSans-31\" d=\"M 794 531 \nL 1825 531 \nL 1825 4091 \nL 703 3866 \nL 703 4441 \nL 1819 4666 \nL 2450 4666 \nL 2450 531 \nL 3481 531 \nL 3481 0 \nL 794 0 \nL 794 531 \nz\n\" transform=\"scale(0.015625)\"/>\n       </defs>\n       <use xlink:href=\"#DejaVuSans-31\"/>\n       <use xlink:href=\"#DejaVuSans-30\" x=\"63.623047\"/>\n      </g>\n     </g>\n    </g>\n    <g id=\"xtick_3\">\n     <g id=\"line2d_3\">\n      <g>\n       <use xlink:href=\"#mdb24d1708a\" x=\"175.913862\" y=\"224.64\" style=\"stroke: #000000; stroke-width: 0.8\"/>\n      </g>\n     </g>\n     <g id=\"text_3\">\n      <!-- 20 -->\n      <g transform=\"translate(169.551362 239.238438)scale(0.1 -0.1)\">\n       <defs>\n        <path id=\"DejaVuSans-32\" d=\"M 1228 531 \nL 3431 531 \nL 3431 0 \nL 469 0 \nL 469 531 \nQ 828 903 1448 1529 \nQ 2069 2156 2228 2338 \nQ 2531 2678 2651 2914 \nQ 2772 3150 2772 3378 \nQ 2772 3750 2511 3984 \nQ 2250 4219 1831 4219 \nQ 1534 4219 1204 4116 \nQ 875 4013 500 3803 \nL 500 4441 \nQ 881 4594 1212 4672 \nQ 1544 4750 1819 4750 \nQ 2544 4750 2975 4387 \nQ 3406 4025 3406 3419 \nQ 3406 3131 3298 2873 \nQ 3191 2616 2906 2266 \nQ 2828 2175 2409 1742 \nQ 1991 1309 1228 531 \nz\n\" transform=\"scale(0.015625)\"/>\n       </defs>\n       <use xlink:href=\"#DejaVuSans-32\"/>\n       <use xlink:href=\"#DejaVuSans-30\" x=\"63.623047\"/>\n      </g>\n     </g>\n    </g>\n    <g id=\"xtick_4\">\n     <g id=\"line2d_4\">\n      <g>\n       <use xlink:href=\"#mdb24d1708a\" x=\"238.02889\" y=\"224.64\" style=\"stroke: #000000; stroke-width: 0.8\"/>\n      </g>\n     </g>\n     <g id=\"text_4\">\n      <!-- 30 -->\n      <g transform=\"translate(231.66639 239.238438)scale(0.1 -0.1)\">\n       <defs>\n        <path id=\"DejaVuSans-33\" d=\"M 2597 2516 \nQ 3050 2419 3304 2112 \nQ 3559 1806 3559 1356 \nQ 3559 666 3084 287 \nQ 2609 -91 1734 -91 \nQ 1441 -91 1130 -33 \nQ 819 25 488 141 \nL 488 750 \nQ 750 597 1062 519 \nQ 1375 441 1716 441 \nQ 2309 441 2620 675 \nQ 2931 909 2931 1356 \nQ 2931 1769 2642 2001 \nQ 2353 2234 1838 2234 \nL 1294 2234 \nL 1294 2753 \nL 1863 2753 \nQ 2328 2753 2575 2939 \nQ 2822 3125 2822 3475 \nQ 2822 3834 2567 4026 \nQ 2313 4219 1838 4219 \nQ 1578 4219 1281 4162 \nQ 984 4106 628 3988 \nL 628 4550 \nQ 988 4650 1302 4700 \nQ 1616 4750 1894 4750 \nQ 2613 4750 3031 4423 \nQ 3450 4097 3450 3541 \nQ 3450 3153 3228 2886 \nQ 3006 2619 2597 2516 \nz\n\" transform=\"scale(0.015625)\"/>\n       </defs>\n       <use xlink:href=\"#DejaVuSans-33\"/>\n       <use xlink:href=\"#DejaVuSans-30\" x=\"63.623047\"/>\n      </g>\n     </g>\n    </g>\n    <g id=\"xtick_5\">\n     <g id=\"line2d_5\">\n      <g>\n       <use xlink:href=\"#mdb24d1708a\" x=\"300.143918\" y=\"224.64\" style=\"stroke: #000000; stroke-width: 0.8\"/>\n      </g>\n     </g>\n     <g id=\"text_5\">\n      <!-- 40 -->\n      <g transform=\"translate(293.781418 239.238438)scale(0.1 -0.1)\">\n       <defs>\n        <path id=\"DejaVuSans-34\" d=\"M 2419 4116 \nL 825 1625 \nL 2419 1625 \nL 2419 4116 \nz\nM 2253 4666 \nL 3047 4666 \nL 3047 1625 \nL 3713 1625 \nL 3713 1100 \nL 3047 1100 \nL 3047 0 \nL 2419 0 \nL 2419 1100 \nL 313 1100 \nL 313 1709 \nL 2253 4666 \nz\n\" transform=\"scale(0.015625)\"/>\n       </defs>\n       <use xlink:href=\"#DejaVuSans-34\"/>\n       <use xlink:href=\"#DejaVuSans-30\" x=\"63.623047\"/>\n      </g>\n     </g>\n    </g>\n    <g id=\"xtick_6\">\n     <g id=\"line2d_6\">\n      <g>\n       <use xlink:href=\"#mdb24d1708a\" x=\"362.258946\" y=\"224.64\" style=\"stroke: #000000; stroke-width: 0.8\"/>\n      </g>\n     </g>\n     <g id=\"text_6\">\n      <!-- 50 -->\n      <g transform=\"translate(355.896446 239.238438)scale(0.1 -0.1)\">\n       <defs>\n        <path id=\"DejaVuSans-35\" d=\"M 691 4666 \nL 3169 4666 \nL 3169 4134 \nL 1269 4134 \nL 1269 2991 \nQ 1406 3038 1543 3061 \nQ 1681 3084 1819 3084 \nQ 2600 3084 3056 2656 \nQ 3513 2228 3513 1497 \nQ 3513 744 3044 326 \nQ 2575 -91 1722 -91 \nQ 1428 -91 1123 -41 \nQ 819 9 494 109 \nL 494 744 \nQ 775 591 1075 516 \nQ 1375 441 1709 441 \nQ 2250 441 2565 725 \nQ 2881 1009 2881 1497 \nQ 2881 1984 2565 2268 \nQ 2250 2553 1709 2553 \nQ 1456 2553 1204 2497 \nQ 953 2441 691 2322 \nL 691 4666 \nz\n\" transform=\"scale(0.015625)\"/>\n       </defs>\n       <use xlink:href=\"#DejaVuSans-35\"/>\n       <use xlink:href=\"#DejaVuSans-30\" x=\"63.623047\"/>\n      </g>\n     </g>\n    </g>\n   </g>\n   <g id=\"matplotlib.axis_2\">\n    <g id=\"ytick_1\">\n     <g id=\"line2d_7\">\n      <defs>\n       <path id=\"m81216a0bf1\" d=\"M 0 0 \nL -3.5 0 \n\" style=\"stroke: #000000; stroke-width: 0.8\"/>\n      </defs>\n      <g>\n       <use xlink:href=\"#m81216a0bf1\" x=\"36.465625\" y=\"221.190496\" style=\"stroke: #000000; stroke-width: 0.8\"/>\n      </g>\n     </g>\n     <g id=\"text_7\">\n      <!-- 0.30 -->\n      <g transform=\"translate(7.2 224.989714)scale(0.1 -0.1)\">\n       <defs>\n        <path id=\"DejaVuSans-2e\" d=\"M 684 794 \nL 1344 794 \nL 1344 0 \nL 684 0 \nL 684 794 \nz\n\" transform=\"scale(0.015625)\"/>\n       </defs>\n       <use xlink:href=\"#DejaVuSans-30\"/>\n       <use xlink:href=\"#DejaVuSans-2e\" x=\"63.623047\"/>\n       <use xlink:href=\"#DejaVuSans-33\" x=\"95.410156\"/>\n       <use xlink:href=\"#DejaVuSans-30\" x=\"159.033203\"/>\n      </g>\n     </g>\n    </g>\n    <g id=\"ytick_2\">\n     <g id=\"line2d_8\">\n      <g>\n       <use xlink:href=\"#m81216a0bf1\" x=\"36.465625\" y=\"183.12726\" style=\"stroke: #000000; stroke-width: 0.8\"/>\n      </g>\n     </g>\n     <g id=\"text_8\">\n      <!-- 0.32 -->\n      <g transform=\"translate(7.2 186.926478)scale(0.1 -0.1)\">\n       <use xlink:href=\"#DejaVuSans-30\"/>\n       <use xlink:href=\"#DejaVuSans-2e\" x=\"63.623047\"/>\n       <use xlink:href=\"#DejaVuSans-33\" x=\"95.410156\"/>\n       <use xlink:href=\"#DejaVuSans-32\" x=\"159.033203\"/>\n      </g>\n     </g>\n    </g>\n    <g id=\"ytick_3\">\n     <g id=\"line2d_9\">\n      <g>\n       <use xlink:href=\"#m81216a0bf1\" x=\"36.465625\" y=\"145.064023\" style=\"stroke: #000000; stroke-width: 0.8\"/>\n      </g>\n     </g>\n     <g id=\"text_9\">\n      <!-- 0.34 -->\n      <g transform=\"translate(7.2 148.863242)scale(0.1 -0.1)\">\n       <use xlink:href=\"#DejaVuSans-30\"/>\n       <use xlink:href=\"#DejaVuSans-2e\" x=\"63.623047\"/>\n       <use xlink:href=\"#DejaVuSans-33\" x=\"95.410156\"/>\n       <use xlink:href=\"#DejaVuSans-34\" x=\"159.033203\"/>\n      </g>\n     </g>\n    </g>\n    <g id=\"ytick_4\">\n     <g id=\"line2d_10\">\n      <g>\n       <use xlink:href=\"#m81216a0bf1\" x=\"36.465625\" y=\"107.000787\" style=\"stroke: #000000; stroke-width: 0.8\"/>\n      </g>\n     </g>\n     <g id=\"text_10\">\n      <!-- 0.36 -->\n      <g transform=\"translate(7.2 110.800006)scale(0.1 -0.1)\">\n       <defs>\n        <path id=\"DejaVuSans-36\" d=\"M 2113 2584 \nQ 1688 2584 1439 2293 \nQ 1191 2003 1191 1497 \nQ 1191 994 1439 701 \nQ 1688 409 2113 409 \nQ 2538 409 2786 701 \nQ 3034 994 3034 1497 \nQ 3034 2003 2786 2293 \nQ 2538 2584 2113 2584 \nz\nM 3366 4563 \nL 3366 3988 \nQ 3128 4100 2886 4159 \nQ 2644 4219 2406 4219 \nQ 1781 4219 1451 3797 \nQ 1122 3375 1075 2522 \nQ 1259 2794 1537 2939 \nQ 1816 3084 2150 3084 \nQ 2853 3084 3261 2657 \nQ 3669 2231 3669 1497 \nQ 3669 778 3244 343 \nQ 2819 -91 2113 -91 \nQ 1303 -91 875 529 \nQ 447 1150 447 2328 \nQ 447 3434 972 4092 \nQ 1497 4750 2381 4750 \nQ 2619 4750 2861 4703 \nQ 3103 4656 3366 4563 \nz\n\" transform=\"scale(0.015625)\"/>\n       </defs>\n       <use xlink:href=\"#DejaVuSans-30\"/>\n       <use xlink:href=\"#DejaVuSans-2e\" x=\"63.623047\"/>\n       <use xlink:href=\"#DejaVuSans-33\" x=\"95.410156\"/>\n       <use xlink:href=\"#DejaVuSans-36\" x=\"159.033203\"/>\n      </g>\n     </g>\n    </g>\n    <g id=\"ytick_5\">\n     <g id=\"line2d_11\">\n      <g>\n       <use xlink:href=\"#m81216a0bf1\" x=\"36.465625\" y=\"68.937551\" style=\"stroke: #000000; stroke-width: 0.8\"/>\n      </g>\n     </g>\n     <g id=\"text_11\">\n      <!-- 0.38 -->\n      <g transform=\"translate(7.2 72.73677)scale(0.1 -0.1)\">\n       <defs>\n        <path id=\"DejaVuSans-38\" d=\"M 2034 2216 \nQ 1584 2216 1326 1975 \nQ 1069 1734 1069 1313 \nQ 1069 891 1326 650 \nQ 1584 409 2034 409 \nQ 2484 409 2743 651 \nQ 3003 894 3003 1313 \nQ 3003 1734 2745 1975 \nQ 2488 2216 2034 2216 \nz\nM 1403 2484 \nQ 997 2584 770 2862 \nQ 544 3141 544 3541 \nQ 544 4100 942 4425 \nQ 1341 4750 2034 4750 \nQ 2731 4750 3128 4425 \nQ 3525 4100 3525 3541 \nQ 3525 3141 3298 2862 \nQ 3072 2584 2669 2484 \nQ 3125 2378 3379 2068 \nQ 3634 1759 3634 1313 \nQ 3634 634 3220 271 \nQ 2806 -91 2034 -91 \nQ 1263 -91 848 271 \nQ 434 634 434 1313 \nQ 434 1759 690 2068 \nQ 947 2378 1403 2484 \nz\nM 1172 3481 \nQ 1172 3119 1398 2916 \nQ 1625 2713 2034 2713 \nQ 2441 2713 2670 2916 \nQ 2900 3119 2900 3481 \nQ 2900 3844 2670 4047 \nQ 2441 4250 2034 4250 \nQ 1625 4250 1398 4047 \nQ 1172 3844 1172 3481 \nz\n\" transform=\"scale(0.015625)\"/>\n       </defs>\n       <use xlink:href=\"#DejaVuSans-30\"/>\n       <use xlink:href=\"#DejaVuSans-2e\" x=\"63.623047\"/>\n       <use xlink:href=\"#DejaVuSans-33\" x=\"95.410156\"/>\n       <use xlink:href=\"#DejaVuSans-38\" x=\"159.033203\"/>\n      </g>\n     </g>\n    </g>\n    <g id=\"ytick_6\">\n     <g id=\"line2d_12\">\n      <g>\n       <use xlink:href=\"#m81216a0bf1\" x=\"36.465625\" y=\"30.874315\" style=\"stroke: #000000; stroke-width: 0.8\"/>\n      </g>\n     </g>\n     <g id=\"text_12\">\n      <!-- 0.40 -->\n      <g transform=\"translate(7.2 34.673534)scale(0.1 -0.1)\">\n       <use xlink:href=\"#DejaVuSans-30\"/>\n       <use xlink:href=\"#DejaVuSans-2e\" x=\"63.623047\"/>\n       <use xlink:href=\"#DejaVuSans-34\" x=\"95.410156\"/>\n       <use xlink:href=\"#DejaVuSans-30\" x=\"159.033203\"/>\n      </g>\n     </g>\n    </g>\n   </g>\n   <g id=\"line2d_13\">\n    <path d=\"M 51.683807 17.083636 \nL 57.89531 44.079873 \nL 64.106812 44.079873 \nL 70.318315 75.888913 \nL 76.529818 170.590583 \nL 82.741321 170.590583 \nL 88.952824 170.590583 \nL 95.164326 191.418109 \nL 101.375829 191.418109 \nL 107.587332 204.165143 \nL 113.798835 204.165143 \nL 120.010337 204.165143 \nL 126.22184 204.165143 \nL 132.433343 206.917213 \nL 138.644846 206.917213 \nL 144.856349 207.358425 \nL 151.067851 207.358425 \nL 157.279354 207.98262 \nL 163.490857 207.98262 \nL 169.70236 207.98262 \nL 175.913862 207.98262 \nL 182.125365 208.143697 \nL 188.336868 211.695104 \nL 194.548371 211.695104 \nL 200.759874 211.695104 \nL 206.971376 212.518761 \nL 213.182879 212.518761 \nL 219.394382 212.518761 \nL 225.605885 213.087102 \nL 231.817388 213.087102 \nL 238.02889 213.858248 \nL 244.240393 213.858248 \nL 250.451896 214.608659 \nL 256.663399 214.608659 \nL 262.874901 214.608659 \nL 269.086404 214.608659 \nL 275.297907 214.608659 \nL 281.50941 214.608659 \nL 287.720913 214.608659 \nL 293.932415 214.608659 \nL 300.143918 214.608659 \nL 306.355421 214.608659 \nL 312.566924 214.608659 \nL 318.778426 214.608659 \nL 324.989929 214.62825 \nL 331.201432 214.62825 \nL 337.412935 214.62825 \nL 343.624438 214.756364 \nL 349.83594 214.756364 \nL 356.047443 214.756364 \n\" clip-path=\"url(#p5c78d401d7)\" style=\"fill: none; stroke: #1f77b4; stroke-width: 1.5; stroke-linecap: square\"/>\n   </g>\n   <g id=\"patch_3\">\n    <path d=\"M 36.465625 224.64 \nL 36.465625 7.2 \n\" style=\"fill: none; stroke: #000000; stroke-width: 0.8; stroke-linejoin: miter; stroke-linecap: square\"/>\n   </g>\n   <g id=\"patch_4\">\n    <path d=\"M 371.265625 224.64 \nL 371.265625 7.2 \n\" style=\"fill: none; stroke: #000000; stroke-width: 0.8; stroke-linejoin: miter; stroke-linecap: square\"/>\n   </g>\n   <g id=\"patch_5\">\n    <path d=\"M 36.465625 224.64 \nL 371.265625 224.64 \n\" style=\"fill: none; stroke: #000000; stroke-width: 0.8; stroke-linejoin: miter; stroke-linecap: square\"/>\n   </g>\n   <g id=\"patch_6\">\n    <path d=\"M 36.465625 7.2 \nL 371.265625 7.2 \n\" style=\"fill: none; stroke: #000000; stroke-width: 0.8; stroke-linejoin: miter; stroke-linecap: square\"/>\n   </g>\n  </g>\n </g>\n <defs>\n  <clipPath id=\"p5c78d401d7\">\n   <rect x=\"36.465625\" y=\"7.2\" width=\"334.8\" height=\"217.44\"/>\n  </clipPath>\n </defs>\n</svg>\n",
      "image/png": "[encoded data removed]"
     },
     "metadata": {
      "needs_background": "light"
     }
    }
   ],
   "metadata": {}
  },
  {
   "cell_type": "code",
   "execution_count": null,
   "source": [
    "import jsons\r\n",
    "\r\n",
    "json_result = jsons.dumps(result_pso)\r\n",
    "print(json_result)\r\n"
   ],
   "outputs": [
    {
     "output_type": "error",
     "ename": "Error",
     "evalue": "Kernel is dead",
     "traceback": [
      "Error: Kernel is dead",
      "at g._sendKernelShellControl (c:\\Users\\lfsfr\\.vscode\\extensions\\ms-toolsai.jupyter-2021.8.1236758218\\out\\client\\extension.js:52:852667)",
      "at g.sendShellMessage (c:\\Users\\lfsfr\\.vscode\\extensions\\ms-toolsai.jupyter-2021.8.1236758218\\out\\client\\extension.js:52:852436)",
      "at g.requestExecute (c:\\Users\\lfsfr\\.vscode\\extensions\\ms-toolsai.jupyter-2021.8.1236758218\\out\\client\\extension.js:52:854978)",
      "at d.requestExecute (c:\\Users\\lfsfr\\.vscode\\extensions\\ms-toolsai.jupyter-2021.8.1236758218\\out\\client\\extension.js:37:304068)",
      "at w.requestExecute (c:\\Users\\lfsfr\\.vscode\\extensions\\ms-toolsai.jupyter-2021.8.1236758218\\out\\client\\extension.js:24:122363)",
      "at w.executeCodeCell (c:\\Users\\lfsfr\\.vscode\\extensions\\ms-toolsai.jupyter-2021.8.1236758218\\out\\client\\extension.js:90:326965)",
      "at w.execute (c:\\Users\\lfsfr\\.vscode\\extensions\\ms-toolsai.jupyter-2021.8.1236758218\\out\\client\\extension.js:90:326520)",
      "at w.start (c:\\Users\\lfsfr\\.vscode\\extensions\\ms-toolsai.jupyter-2021.8.1236758218\\out\\client\\extension.js:90:322336)",
      "at runMicrotasks (<anonymous>)",
      "at processTicksAndRejections (internal/process/task_queues.js:93:5)",
      "at async t.CellExecutionQueue.executeQueuedCells (c:\\Users\\lfsfr\\.vscode\\extensions\\ms-toolsai.jupyter-2021.8.1236758218\\out\\client\\extension.js:90:336863)",
      "at async t.CellExecutionQueue.start (c:\\Users\\lfsfr\\.vscode\\extensions\\ms-toolsai.jupyter-2021.8.1236758218\\out\\client\\extension.js:90:336403)"
     ]
    }
   ],
   "metadata": {}
  }
 ],
 "metadata": {
  "orig_nbformat": 4,
  "language_info": {
   "name": "python",
   "version": "3.9.1",
   "mimetype": "text/x-python",
   "codemirror_mode": {
    "name": "ipython",
    "version": 3
   },
   "pygments_lexer": "ipython3",
   "nbconvert_exporter": "python",
   "file_extension": ".py"
  },
  "kernelspec": {
   "name": "python3",
   "display_name": "Python 3.9.1 64-bit ('venv': venv)"
  },
  "interpreter": {
   "hash": "d0f6a11f750e143c658e3ba8c490a06ed5f9dc51708f0fef62d123fb40576efd"
  }
 },
 "nbformat": 4,
 "nbformat_minor": 2
}