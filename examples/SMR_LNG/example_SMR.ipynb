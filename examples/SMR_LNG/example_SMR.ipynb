{
 "cells": [
  {
   "cell_type": "markdown",
   "source": [
    "\r\n",
    "<h1 style=\"font-size: 250%\">Single-mixed refrigerant (SMR) natural gas liquefaction process simulation optimization <a href=\"https://doi.org/10.1016/j.ces.2021.116699\" title=\"SMR optimization paper\">[1]</a> </h1>\r\n",
    "\r\n",
    "<hr>\r\n",
    "\r\n",
    "<h2 style=\"font-size: 200%\">SMR process description</h2>\r\n",
    "\r\n",
    "<spam style=\"font-size: 150%\">The single-mixed refrigerant natural gas liquefaction process consists of using a multi-component refrigerant operating in a refrigeration cycle to produce heat sink to cool down and liquefy the natural gas stream, as illustrated in the figure below. The refrigeration cycle includes a four-stage compression system with intermediate cooling and phase separation for possible condensate. The liquid phase is compressed in pumps and the vapor phase in the compressors. No phase mixing is considered, which means that the refrigerant heavy condensate is mixed together and goes through the hot pass in the multi-stream heat exchanger separately from the light vapor phase. Then, the streams are mixed back together in the cold pass inside the cryogenic heat exchanger as they vaporize.</spam>\r\n",
    "\r\n",
    "<br/>\r\n",
    "<br/>\r\n",
    "<img src=\"pfd_smr.png\" alt=\"process flow diagram image\" style=\"height: 400px\"/>\r\n",
    "<br/>\r\n",
    "<br/>\r\n",
    "\r\n",
    "<h2 style=\"font-size: 200%\"> SMR process simulation</h2>\r\n",
    "\r\n",
    "<spam style=\"font-size: 150%\">The described single-mixed refrigerant natural gas liquefaction process is rather difficult to model and simulate mainly because it involves Pinch-like calculations in each multi-stream heat exchangers (MSHE) considering phase change, cryogenic conditions, and non-ideal mixtures. In other words, these heat exchangers are discretized in temperature segments, where vapor-liquid equilibrium calculations are performed to determine the temperature of every stream and, therefore, the temperature profiles in these operation units. For the sake of process feasibility considering the Second Law of Thermodynamics, the temperatures of hot streams have to be effectively higher than the cold ones throughout the heat exchangers.\r\n",
    "For rigorous calculations, this process is modeled and simulated in DWSIM v7.0 using Peng-Robinson equation of state, which is appropriate for hydrocarbons mixtures, such as the natural gas and the refrigerant mixtures. The minimum internal temperature approach is calculated using the Python Script in DWSIM. See the simulation ``SMR_2exp_phaseSep_MSHE_MITApy.dwxmz`` for more details.</spam>\r\n",
    "\r\n",
    "<br />\r\n",
    "<br />\r\n",
    "<img src=\"pfd_smr_dwsim.png\" alt=\"process flow diagram image\" style=\"height: 400px\"/>\r\n",
    "<br />\r\n",
    "<br />\r\n",
    "\r\n",
    "<h2 style=\"font-size: 200%\">SMR process optimization problem</h2>\r\n",
    "\r\n",
    "<spam style=\"font-size: 150%\">Knowing that the work consumption is the most relevant spending in the natural gas liquefaction process, then the design problem is to find $\\textbf{x}^*\\in \\mathbb{R}^n$ that minimizes the following optimization problem</spam>\r\n",
    "\r\n",
    "<spam style=\"font-size: 150%\">\r\n",
    "\r\n",
    "$$ \\min_{\\textbf{x}\\in \\mathcal{D}}\\ \\ f(\\textbf{x})=\\frac{\\sum_{p\\in PM}{W_p(\\textbf{x})}}{\\dot{m}_{NG}} $$\r\n",
    "$$ \\text{s.t.} \\ \\ g(\\textbf{x})=3 - MITA(\\textbf{x})\\le 0$$\r\n",
    "$$ \\mathcal{D}=[\\textbf{x}^{lb},\\ \\textbf{x}^{ub}], $$\r\n",
    "</spam>\r\n",
    "\r\n",
    "<spam style=\"font-size: 150%\"> in which, for a given $\\textbf{x}$, $W_p(\\textbf{x})$ is the work consumption of the pressure manipulator unit $p$ in the set of compressors and pumps $PM$, $MITA(\\textbf{x})$ is the minimum internal temperature approach in the MSHEs, $\\mathcal{D}$ is a box constraint for the decision variables bounded by $\\textbf{x}^{lb}$ and $\\textbf{x}^{ub}$, and $\\dot{m}_{LNG}$ is the mass flow rate of the natural gas stream. Therefore, the objective function $f$ in this optimization problem is the specific work consumed in the refrigeration cycle with respect to the mass flow rate of liquefied natural gas (LNG). Notice that the value of $W_p(\\textbf{x})$ as well as $MITA(\\textbf{x})$ are obtained in the black-box chemical process simulator, and so are $f(\\textbf{x})$ and $g(\\textbf{x})$. Then, $f(\\textbf{x})$ and $g(\\textbf{x})$ are known only at sampled points and make the optimization problem equivalent to equation above.</spam>"
   ],
   "metadata": {}
  },
  {
   "cell_type": "code",
   "execution_count": 1,
   "source": [
    "import numpy as np\r\n",
    "from scipy import optimize\r\n",
    "from pprint import pprint\r\n",
    "\r\n",
    "import os \r\n",
    "dir_path = globals()['_dh'][0]\r\n",
    "print(dir_path)\r\n",
    "os.chdir(dir_path)\r\n",
    "os.chdir(\"../..\")\r\n",
    "print(os.getcwd())\r\n",
    "\r\n",
    "from pyDWSIMopt.interface import Simulation\r\n",
    "from pyDWSIMopt.opt_problem import *"
   ],
   "outputs": [
    {
     "output_type": "stream",
     "name": "stdout",
     "text": [
      "c:\\Users\\lfsfr\\Desktop\\pyDWSIMopt\\examples\\SMR_LNG\n",
      "c:\\Users\\lfsfr\\Desktop\\pyDWSIMopt\n"
     ]
    }
   ],
   "metadata": {}
  },
  {
   "cell_type": "code",
   "execution_count": 2,
   "source": [
    "# Loading DWSIM simulation into Python (Simulation object)\r\n",
    "sim_smr = Simulation(path2sim= os.getcwd() + \"\\\\examples\\\\SMR_LNG\\\\SMR_2exp_phaseSep_MSHE_MITApy.dwxmz\")\r\n",
    "sim_smr.savepath = os.getcwd() + \"\\\\examples\\\\SMR_LNG\\\\SMR_2exp_phaseSep_MSHE_MITApy2.dwxmz\"\r\n",
    "sim_smr.Add_refs()\r\n",
    "sim_smr.Connect()"
   ],
   "outputs": [
    {
     "output_type": "stream",
     "name": "stdout",
     "text": [
      "added refs\n",
      "Simulation was loaded successfully\n"
     ]
    }
   ],
   "metadata": {}
  },
  {
   "cell_type": "code",
   "execution_count": 3,
   "source": [
    "# Initial simulation setup\r\n",
    "sim_smr.fobj = lambda x: fobj_smr(sim_smr, x, dtmin=3)\r\n",
    "\r\n",
    "# Initial guess of optimization\r\n",
    "x0 = np.array( [0.25/3600, 0.70/3600, 1.0/3600, 1.10/3600, 1.80/3600, 2.50e5, 50.00e5, -60+273.15] )\r\n",
    "\r\n",
    "# Testing for simulation at x0\r\n",
    "sumW, mita = sim_smr.fobj(1.0*x0)\r\n",
    "print(sim_smr.x,\r\n",
    "sim_smr.f,\r\n",
    "sim_smr.g)\r\n",
    "\r\n",
    "# Test saving simulation at x0 in 'savepath'\r\n",
    "sim_smr.interface.SaveFlowsheet(sim_smr.flowsheet,sim_smr.savepath,True)\r\n",
    "\r\n",
    "# Inspecting simulation object\r\n",
    "pprint(vars(sim_smr))"
   ],
   "outputs": [
    {
     "output_type": "stream",
     "name": "stdout",
     "text": [
      "[6.94444444e-05 1.94444444e-04 2.77777778e-04 3.05555556e-04\n",
      " 5.00000000e-04 2.50000000e+05 5.00000000e+06 2.13150000e+02] 0.3891043902877999 -1.788879440702516\n",
      "{'f': 0.3891043902877999,\n",
      " 'flowsheet': <DWSIM.UI.Desktop.Shared.Flowsheet object at 0x000001CA32A88B80>,\n",
      " 'fobj': <function <lambda> at 0x000001CA32A7F430>,\n",
      " 'g': -1.788879440702516,\n",
      " 'interface': <DWSIM.Automation.Automation2 object at 0x000001CA32A850A0>,\n",
      " 'path': 'c:\\\\Users\\\\lfsfr\\\\Desktop\\\\pyDWSIMopt\\\\examples\\\\SMR_LNG\\\\SMR_2exp_phaseSep_MSHE_MITApy.dwxmz',\n",
      " 'path2dwsim': 'C:\\\\Users\\\\lfsfr\\\\AppData\\\\Local\\\\DWSIM7\\\\',\n",
      " 'savepath': 'c:\\\\Users\\\\lfsfr\\\\Desktop\\\\pyDWSIMopt\\\\examples\\\\SMR_LNG\\\\SMR_2exp_phaseSep_MSHE_MITApy2.dwxmz',\n",
      " 'x': array([6.94444444e-05, 1.94444444e-04, 2.77777778e-04, 3.05555556e-04,\n",
      "       5.00000000e-04, 2.50000000e+05, 5.00000000e+06, 2.13150000e+02])}\n"
     ]
    }
   ],
   "metadata": {}
  },
  {
   "cell_type": "code",
   "execution_count": 4,
   "source": [
    "# Setup for local optimization\r\n",
    "\r\n",
    "# convergence tolerances\r\n",
    "xtol=0.01\r\n",
    "ftol=0.01\r\n",
    "maxiter=5 # +- 20 seconds per iteration\r\n",
    "\r\n",
    "# decision variables bounds\r\n",
    "bounds_raw = np.array( [0.5*np.asarray(x0), 1.5*np.asarray(x0)] )   # 50 % around base case\r\n",
    "bounds_raw[0][-1] = 153     # precool temperature low limit manually\r\n",
    "bounds_raw[1][-1] = 253     # precool temperature upper limit manually\r\n",
    "regularizer = np.array([1e4,1e4,1e4,1e4,1e4, 1e-5, 1e-6, 1e-2])     # regularizer for magnitude order of 1e0\r\n",
    "bounds_reg = regularizer*bounds_raw\r\n",
    "bounds = optimize.Bounds(bounds_reg[0], bounds_reg[1])\r\n",
    "\r\n",
    "# objective and constraints lambda definitions\r\n",
    "f = lambda x: sim_smr.fobj(np.asarray(x)/regularizer)[0]\r\n",
    "g = lambda x: sim_smr.fobj(np.asarray(x)/regularizer)[1]\r\n",
    "nonlinear_constraint = optimize.NonlinearConstraint(g, -np.inf, 0, jac='2-point', hess=optimize.BFGS())\r\n",
    "\r\n",
    "# Local optimization with trust-region -> working to some extent\r\n",
    "print(\"starting local optimization\")\r\n",
    "result = optimize.minimize( f, np.asarray(x0)*regularizer, \r\n",
    "            method='trust-constr', jac='2-point', hess=optimize.BFGS(),\r\n",
    "            constraints=[nonlinear_constraint], bounds=bounds, callback=None,\r\n",
    "            options={'verbose': 3, \r\n",
    "                     'xtol': xtol, \r\n",
    "                     'maxiter': maxiter, \r\n",
    "                     'finite_diff_rel_step': None, \r\n",
    "                     'initial_tr_radius': 0.1} )"
   ],
   "outputs": [
    {
     "output_type": "stream",
     "name": "stdout",
     "text": [
      "starting optimization\n",
      "| niter |f evals|CG iter|  obj func   |tr radius |   opt    |  c viol  | penalty  |barrier param|CG stop|\n",
      "|-------|-------|-------|-------------|----------|----------|----------|----------|-------------|-------|\n",
      "|   1   |   9   |   0   | +3.8910e-01 | 1.00e-01 | 4.23e-02 | 0.00e+00 | 1.00e+00 |  1.00e-01   |   0   |\n",
      "|   2   |  18   |   1   | +3.8910e-01 | 1.00e-02 | 4.23e-02 | 0.00e+00 | 1.00e+00 |  1.00e-01   |   2   |\n",
      "|   3   |  27   |   2   | +3.8895e-01 | 1.00e-02 | 4.21e-02 | 0.00e+00 | 1.00e+00 |  1.00e-01   |   2   |\n",
      "|   4   |  36   |   3   | +3.8895e-01 | 1.00e-03 | 4.21e-02 | 0.00e+00 | 1.00e+00 |  1.00e-01   |   2   |\n",
      "|   5   |  45   |   3   | +3.8895e-01 | 1.00e-01 | 4.22e-02 | 0.00e+00 | 1.00e+00 |  2.00e-02   |   0   |\n",
      "\n",
      "The maximum number of function evaluations is exceeded.\n",
      "Number of iterations: 5, function evaluations: 45, CG iterations: 3, optimality: 4.22e-02, constraint violation: 0.00e+00, execution time: 5e+01 s.\n"
     ]
    }
   ],
   "metadata": {}
  },
  {
   "cell_type": "code",
   "execution_count": 13,
   "source": [
    "# printing results from local optimization\r\n",
    "print(f(result.x))\r\n",
    "print(g(result.x))\r\n",
    "print(result.x)\r\n",
    "\r\n",
    "# saving results of local optimization\r\n",
    "sim_smr.interface.SaveFlowsheet(sim_smr.flowsheet, sim_smr.savepath,True)"
   ],
   "outputs": [
    {
     "output_type": "stream",
     "name": "stdout",
     "text": [
      "0.38894651228542243\n",
      "-1.7760489651237492\n",
      "[0.69444444 1.94444444 2.77777778 3.05555556 5.         2.50221034\n",
      " 4.99922958 2.13149606]\n"
     ]
    }
   ],
   "metadata": {}
  },
  {
   "cell_type": "code",
   "execution_count": 14,
   "source": [
    "# Global optimization with Differential Evolution\r\n",
    "# be mindful: +- 13s per popsize (n fevals) per iteration\r\n",
    "result = optimize.differential_evolution(f, bounds, constraints=[nonlinear_constraint], \r\n",
    "            maxiter=40, popsize=1, seed=420, disp=True, polish=False)"
   ],
   "outputs": [
    {
     "output_type": "stream",
     "name": "stdout",
     "text": [
      "differential_evolution step 1: f(x)= 0.370881\n",
      "differential_evolution step 2: f(x)= 0.370881\n",
      "differential_evolution step 3: f(x)= 0.370881\n",
      "differential_evolution step 4: f(x)= 0.370881\n",
      "differential_evolution step 5: f(x)= 0.370881\n",
      "differential_evolution step 6: f(x)= 0.370881\n",
      "differential_evolution step 7: f(x)= 0.370881\n",
      "differential_evolution step 8: f(x)= 0.370881\n",
      "differential_evolution step 9: f(x)= 0.370881\n",
      "differential_evolution step 10: f(x)= 0.370881\n",
      "differential_evolution step 11: f(x)= 0.370881\n",
      "differential_evolution step 12: f(x)= 0.370881\n",
      "differential_evolution step 13: f(x)= 0.370881\n",
      "differential_evolution step 14: f(x)= 0.370881\n",
      "differential_evolution step 15: f(x)= 0.370881\n",
      "differential_evolution step 16: f(x)= 0.370881\n",
      "differential_evolution step 17: f(x)= 0.370881\n",
      "differential_evolution step 18: f(x)= 0.370881\n",
      "differential_evolution step 19: f(x)= 0.370881\n",
      "differential_evolution step 20: f(x)= 0.370881\n",
      "differential_evolution step 21: f(x)= 0.359367\n",
      "differential_evolution step 22: f(x)= 0.359367\n",
      "differential_evolution step 23: f(x)= 0.35913\n",
      "differential_evolution step 24: f(x)= 0.351416\n",
      "differential_evolution step 25: f(x)= 0.351416\n",
      "differential_evolution step 26: f(x)= 0.347836\n",
      "differential_evolution step 27: f(x)= 0.347836\n",
      "differential_evolution step 28: f(x)= 0.347836\n",
      "differential_evolution step 29: f(x)= 0.347836\n",
      "differential_evolution step 30: f(x)= 0.335457\n",
      "differential_evolution step 31: f(x)= 0.335457\n",
      "differential_evolution step 32: f(x)= 0.335457\n",
      "differential_evolution step 33: f(x)= 0.335457\n",
      "differential_evolution step 34: f(x)= 0.335457\n",
      "differential_evolution step 35: f(x)= 0.322381\n",
      "differential_evolution step 36: f(x)= 0.322381\n",
      "differential_evolution step 37: f(x)= 0.322381\n",
      "differential_evolution step 38: f(x)= 0.322381\n",
      "differential_evolution step 39: f(x)= 0.322381\n",
      "differential_evolution step 40: f(x)= 0.322381\n"
     ]
    }
   ],
   "metadata": {}
  },
  {
   "cell_type": "code",
   "execution_count": 16,
   "source": [
    "# printing results of global optimization with Differential Evolution\r\n",
    "print(f(result.x))\r\n",
    "print(g(result.x))\r\n",
    "print(result.x)\r\n",
    "pprint(result)\r\n",
    "\r\n",
    "# saving results of local optimization with Differential Evolution\r\n",
    "sim_smr.interface.SaveFlowsheet(sim_smr.flowsheet, sim_smr.savepath,True)"
   ],
   "outputs": [
    {
     "output_type": "stream",
     "name": "stdout",
     "text": [
      "0.3223810730962841\n",
      "-1.3706464272561334\n",
      "(0.3223810730962841, 4.370646427256133)\n",
      "[0.40840202 1.06736134 3.61644657 2.36214307 6.23020183 1.89382445\n",
      " 2.81772401 2.27453916]\n",
      "{'constr': [array([0.])],\n",
      " 'constr_violation': 0.0,\n",
      " 'fun': 0.3223810725605125,\n",
      " 'maxcv': 0.0,\n",
      " 'message': 'Maximum number of iterations has been exceeded.',\n",
      " 'nfev': 145,\n",
      " 'nit': 40,\n",
      " 'success': False,\n",
      " 'x': array([0.40840202, 1.06736134, 3.61644657, 2.36214307, 6.23020183,\n",
      "       1.89382445, 2.81772401, 2.27453916])}\n"
     ]
    }
   ],
   "metadata": {}
  },
  {
   "cell_type": "code",
   "execution_count": 25,
   "source": [
    "# Global optimization with PSO\r\n",
    "from sko.PSO import PSO\r\n",
    "\r\n",
    "f_pen = lambda x: fpen_barrier(sim_smr,x/regularizer)\r\n",
    "result_pso = PSO(func=f_pen, n_dim=8, pop=10, max_iter=20, lb=bounds_reg[0], ub=bounds_reg[1], verbose=True)\r\n",
    "result_pso.record_mode = True\r\n",
    "result_pso.run()"
   ],
   "outputs": [
    {
     "output_type": "stream",
     "name": "stdout",
     "text": [
      "Iter: 0, Best fit: [0.53741204] at [0.34722222 2.19934392 2.53095699 4.42605972 5.790605   1.25\n",
      " 5.11495086 1.92268841]\n",
      "Iter: 1, Best fit: [0.4630366] at [0.34722222 1.78935163 2.09806942 4.32147418 7.5        1.25\n",
      " 4.36587684 1.53      ]\n",
      "Iter: 2, Best fit: [0.4630366] at [0.34722222 1.78935163 2.09806942 4.32147418 7.5        1.25\n",
      " 4.36587684 1.53      ]\n",
      "Iter: 3, Best fit: [0.4630366] at [0.34722222 1.78935163 2.09806942 4.32147418 7.5        1.25\n",
      " 4.36587684 1.53      ]\n",
      "Iter: 4, Best fit: [0.4630366] at [0.34722222 1.78935163 2.09806942 4.32147418 7.5        1.25\n",
      " 4.36587684 1.53      ]\n",
      "Iter: 5, Best fit: [0.43397733] at [0.34722222 1.66755091 2.09593539 3.67389127 6.43478903 1.25\n",
      " 4.33709122 1.73608514]\n",
      "Iter: 6, Best fit: [0.42780103] at [0.34722222 1.41859497 2.45698128 4.58333333 7.5        1.25\n",
      " 3.19290065 1.53      ]\n",
      "Iter: 7, Best fit: [0.42780103] at [0.34722222 1.41859497 2.45698128 4.58333333 7.5        1.25\n",
      " 3.19290065 1.53      ]\n",
      "Iter: 8, Best fit: [0.42780103] at [0.34722222 1.41859497 2.45698128 4.58333333 7.5        1.25\n",
      " 3.19290065 1.53      ]\n",
      "Iter: 9, Best fit: [0.42780103] at [0.34722222 1.41859497 2.45698128 4.58333333 7.5        1.25\n",
      " 3.19290065 1.53      ]\n",
      "Iter: 10, Best fit: [0.42613149] at [0.34722222 1.44744903 2.34361733 4.58333333 7.5        1.25\n",
      " 3.21998292 1.53      ]\n",
      "Iter: 11, Best fit: [0.42370734] at [0.34722222 1.36254973 2.42518885 4.58333333 7.5        1.25\n",
      " 3.34407378 1.53      ]\n",
      "Iter: 12, Best fit: [0.41948312] at [0.34722222 1.24986384 2.80447914 4.58333333 7.5        1.25\n",
      " 2.82946296 1.53      ]\n",
      "Iter: 13, Best fit: [0.41852815] at [0.34722222 1.26682592 2.89232472 4.58333333 7.5        1.25\n",
      " 2.56683772 1.53      ]\n",
      "Iter: 14, Best fit: [0.41707828] at [0.34722222 1.33122059 2.50501028 4.58333333 7.48012715 1.25\n",
      " 2.97576962 1.53      ]\n",
      "Iter: 15, Best fit: [0.41619366] at [0.34722222 1.2585996  2.61872517 4.58333333 7.5        1.25\n",
      " 3.02609926 1.53      ]\n",
      "Iter: 16, Best fit: [0.41619366] at [0.34722222 1.2585996  2.61872517 4.58333333 7.5        1.25\n",
      " 3.02609926 1.53      ]\n",
      "Iter: 17, Best fit: [0.41619366] at [0.34722222 1.2585996  2.61872517 4.58333333 7.5        1.25\n",
      " 3.02609926 1.53      ]\n",
      "Iter: 18, Best fit: [0.41619366] at [0.34722222 1.2585996  2.61872517 4.58333333 7.5        1.25\n",
      " 3.02609926 1.53      ]\n",
      "Iter: 19, Best fit: [0.41619366] at [0.34722222 1.2585996  2.61872517 4.58333333 7.5        1.25\n",
      " 3.02609926 1.53      ]\n"
     ]
    },
    {
     "output_type": "execute_result",
     "data": {
      "text/plain": [
       "(array([0.34722222, 1.2585996 , 2.61872517, 4.58333333, 7.5       ,\n",
       "        1.25      , 3.02609926, 1.53      ]),\n",
       " array([0.41619366]))"
      ]
     },
     "metadata": {},
     "execution_count": 25
    }
   ],
   "metadata": {}
  },
  {
   "cell_type": "code",
   "execution_count": 27,
   "source": [
    "import matplotlib.pyplot as plt\r\n",
    "\r\n",
    "print(f(result_pso.gbest_x))\r\n",
    "print(g(result_pso.gbest_x))\r\n",
    "sim_smr.interface.SaveFlowsheet(sim_smr.flowsheet, sim_smr.savepath,True)\r\n",
    "print(result_pso.gbest_x)\r\n",
    "pprint(result_pso)\r\n",
    "print(f_pen(result_pso.gbest_x))\r\n",
    "\r\n",
    "plt.plot(result_pso.gbest_y_hist)\r\n",
    "plt.show()"
   ],
   "outputs": [
    {
     "output_type": "stream",
     "name": "stdout",
     "text": [
      "0.41619366230857396\n",
      "3.032466041912272\n",
      "[0.34722222 1.2585996  2.61872517 4.58333333 7.5        1.25\n",
      " 3.02609926 1.53      ]\n",
      "<sko.PSO.PSO object at 0x000001CA38AB4C40>\n",
      "0.41619366230857396\n"
     ]
    },
    {
     "output_type": "display_data",
     "data": {
      "text/plain": [
       "<Figure size 432x288 with 1 Axes>"
      ],
      "image/svg+xml": "<?xml version=\"1.0\" encoding=\"utf-8\" standalone=\"no\"?>\n<!DOCTYPE svg PUBLIC \"-//W3C//DTD SVG 1.1//EN\"\n  \"http://www.w3.org/Graphics/SVG/1.1/DTD/svg11.dtd\">\n<svg xmlns:xlink=\"http://www.w3.org/1999/xlink\" width=\"378.465625pt\" height=\"248.518125pt\" viewBox=\"0 0 378.465625 248.518125\" xmlns=\"http://www.w3.org/2000/svg\" version=\"1.1\">\n <metadata>\n  <rdf:RDF xmlns:dc=\"http://purl.org/dc/elements/1.1/\" xmlns:cc=\"http://creativecommons.org/ns#\" xmlns:rdf=\"http://www.w3.org/1999/02/22-rdf-syntax-ns#\">\n   <cc:Work>\n    <dc:type rdf:resource=\"http://purl.org/dc/dcmitype/StillImage\"/>\n    <dc:date>2021-12-09T11:52:37.787486</dc:date>\n    <dc:format>image/svg+xml</dc:format>\n    <dc:creator>\n     <cc:Agent>\n      <dc:title>Matplotlib v3.5.0, https://matplotlib.org/</dc:title>\n     </cc:Agent>\n    </dc:creator>\n   </cc:Work>\n  </rdf:RDF>\n </metadata>\n <defs>\n  <style type=\"text/css\">*{stroke-linejoin: round; stroke-linecap: butt}</style>\n </defs>\n <g id=\"figure_1\">\n  <g id=\"patch_1\">\n   <path d=\"M 0 248.518125 \nL 378.465625 248.518125 \nL 378.465625 0 \nL 0 0 \nL 0 248.518125 \nz\n\" style=\"fill: none\"/>\n  </g>\n  <g id=\"axes_1\">\n   <g id=\"patch_2\">\n    <path d=\"M 36.465625 224.64 \nL 371.265625 224.64 \nL 371.265625 7.2 \nL 36.465625 7.2 \nz\n\" style=\"fill: #ffffff\"/>\n   </g>\n   <g id=\"matplotlib.axis_1\">\n    <g id=\"xtick_1\">\n     <g id=\"line2d_1\">\n      <defs>\n       <path id=\"m0aa9013e6c\" d=\"M 0 0 \nL 0 3.5 \n\" style=\"stroke: #000000; stroke-width: 0.8\"/>\n      </defs>\n      <g>\n       <use xlink:href=\"#m0aa9013e6c\" x=\"51.683807\" y=\"224.64\" style=\"stroke: #000000; stroke-width: 0.8\"/>\n      </g>\n     </g>\n     <g id=\"text_1\">\n      <!-- 0.0 -->\n      <g transform=\"translate(43.732244 239.238438)scale(0.1 -0.1)\">\n       <defs>\n        <path id=\"DejaVuSans-30\" d=\"M 2034 4250 \nQ 1547 4250 1301 3770 \nQ 1056 3291 1056 2328 \nQ 1056 1369 1301 889 \nQ 1547 409 2034 409 \nQ 2525 409 2770 889 \nQ 3016 1369 3016 2328 \nQ 3016 3291 2770 3770 \nQ 2525 4250 2034 4250 \nz\nM 2034 4750 \nQ 2819 4750 3233 4129 \nQ 3647 3509 3647 2328 \nQ 3647 1150 3233 529 \nQ 2819 -91 2034 -91 \nQ 1250 -91 836 529 \nQ 422 1150 422 2328 \nQ 422 3509 836 4129 \nQ 1250 4750 2034 4750 \nz\n\" transform=\"scale(0.015625)\"/>\n        <path id=\"DejaVuSans-2e\" d=\"M 684 794 \nL 1344 794 \nL 1344 0 \nL 684 0 \nL 684 794 \nz\n\" transform=\"scale(0.015625)\"/>\n       </defs>\n       <use xlink:href=\"#DejaVuSans-30\"/>\n       <use xlink:href=\"#DejaVuSans-2e\" x=\"63.623047\"/>\n       <use xlink:href=\"#DejaVuSans-30\" x=\"95.410156\"/>\n      </g>\n     </g>\n    </g>\n    <g id=\"xtick_2\">\n     <g id=\"line2d_2\">\n      <g>\n       <use xlink:href=\"#m0aa9013e6c\" x=\"91.731654\" y=\"224.64\" style=\"stroke: #000000; stroke-width: 0.8\"/>\n      </g>\n     </g>\n     <g id=\"text_2\">\n      <!-- 2.5 -->\n      <g transform=\"translate(83.780091 239.238438)scale(0.1 -0.1)\">\n       <defs>\n        <path id=\"DejaVuSans-32\" d=\"M 1228 531 \nL 3431 531 \nL 3431 0 \nL 469 0 \nL 469 531 \nQ 828 903 1448 1529 \nQ 2069 2156 2228 2338 \nQ 2531 2678 2651 2914 \nQ 2772 3150 2772 3378 \nQ 2772 3750 2511 3984 \nQ 2250 4219 1831 4219 \nQ 1534 4219 1204 4116 \nQ 875 4013 500 3803 \nL 500 4441 \nQ 881 4594 1212 4672 \nQ 1544 4750 1819 4750 \nQ 2544 4750 2975 4387 \nQ 3406 4025 3406 3419 \nQ 3406 3131 3298 2873 \nQ 3191 2616 2906 2266 \nQ 2828 2175 2409 1742 \nQ 1991 1309 1228 531 \nz\n\" transform=\"scale(0.015625)\"/>\n        <path id=\"DejaVuSans-35\" d=\"M 691 4666 \nL 3169 4666 \nL 3169 4134 \nL 1269 4134 \nL 1269 2991 \nQ 1406 3038 1543 3061 \nQ 1681 3084 1819 3084 \nQ 2600 3084 3056 2656 \nQ 3513 2228 3513 1497 \nQ 3513 744 3044 326 \nQ 2575 -91 1722 -91 \nQ 1428 -91 1123 -41 \nQ 819 9 494 109 \nL 494 744 \nQ 775 591 1075 516 \nQ 1375 441 1709 441 \nQ 2250 441 2565 725 \nQ 2881 1009 2881 1497 \nQ 2881 1984 2565 2268 \nQ 2250 2553 1709 2553 \nQ 1456 2553 1204 2497 \nQ 953 2441 691 2322 \nL 691 4666 \nz\n\" transform=\"scale(0.015625)\"/>\n       </defs>\n       <use xlink:href=\"#DejaVuSans-32\"/>\n       <use xlink:href=\"#DejaVuSans-2e\" x=\"63.623047\"/>\n       <use xlink:href=\"#DejaVuSans-35\" x=\"95.410156\"/>\n      </g>\n     </g>\n    </g>\n    <g id=\"xtick_3\">\n     <g id=\"line2d_3\">\n      <g>\n       <use xlink:href=\"#m0aa9013e6c\" x=\"131.779501\" y=\"224.64\" style=\"stroke: #000000; stroke-width: 0.8\"/>\n      </g>\n     </g>\n     <g id=\"text_3\">\n      <!-- 5.0 -->\n      <g transform=\"translate(123.827938 239.238438)scale(0.1 -0.1)\">\n       <use xlink:href=\"#DejaVuSans-35\"/>\n       <use xlink:href=\"#DejaVuSans-2e\" x=\"63.623047\"/>\n       <use xlink:href=\"#DejaVuSans-30\" x=\"95.410156\"/>\n      </g>\n     </g>\n    </g>\n    <g id=\"xtick_4\">\n     <g id=\"line2d_4\">\n      <g>\n       <use xlink:href=\"#m0aa9013e6c\" x=\"171.827347\" y=\"224.64\" style=\"stroke: #000000; stroke-width: 0.8\"/>\n      </g>\n     </g>\n     <g id=\"text_4\">\n      <!-- 7.5 -->\n      <g transform=\"translate(163.875785 239.238438)scale(0.1 -0.1)\">\n       <defs>\n        <path id=\"DejaVuSans-37\" d=\"M 525 4666 \nL 3525 4666 \nL 3525 4397 \nL 1831 0 \nL 1172 0 \nL 2766 4134 \nL 525 4134 \nL 525 4666 \nz\n\" transform=\"scale(0.015625)\"/>\n       </defs>\n       <use xlink:href=\"#DejaVuSans-37\"/>\n       <use xlink:href=\"#DejaVuSans-2e\" x=\"63.623047\"/>\n       <use xlink:href=\"#DejaVuSans-35\" x=\"95.410156\"/>\n      </g>\n     </g>\n    </g>\n    <g id=\"xtick_5\">\n     <g id=\"line2d_5\">\n      <g>\n       <use xlink:href=\"#m0aa9013e6c\" x=\"211.875194\" y=\"224.64\" style=\"stroke: #000000; stroke-width: 0.8\"/>\n      </g>\n     </g>\n     <g id=\"text_5\">\n      <!-- 10.0 -->\n      <g transform=\"translate(200.742382 239.238438)scale(0.1 -0.1)\">\n       <defs>\n        <path id=\"DejaVuSans-31\" d=\"M 794 531 \nL 1825 531 \nL 1825 4091 \nL 703 3866 \nL 703 4441 \nL 1819 4666 \nL 2450 4666 \nL 2450 531 \nL 3481 531 \nL 3481 0 \nL 794 0 \nL 794 531 \nz\n\" transform=\"scale(0.015625)\"/>\n       </defs>\n       <use xlink:href=\"#DejaVuSans-31\"/>\n       <use xlink:href=\"#DejaVuSans-30\" x=\"63.623047\"/>\n       <use xlink:href=\"#DejaVuSans-2e\" x=\"127.246094\"/>\n       <use xlink:href=\"#DejaVuSans-30\" x=\"159.033203\"/>\n      </g>\n     </g>\n    </g>\n    <g id=\"xtick_6\">\n     <g id=\"line2d_6\">\n      <g>\n       <use xlink:href=\"#m0aa9013e6c\" x=\"251.923041\" y=\"224.64\" style=\"stroke: #000000; stroke-width: 0.8\"/>\n      </g>\n     </g>\n     <g id=\"text_6\">\n      <!-- 12.5 -->\n      <g transform=\"translate(240.790229 239.238438)scale(0.1 -0.1)\">\n       <use xlink:href=\"#DejaVuSans-31\"/>\n       <use xlink:href=\"#DejaVuSans-32\" x=\"63.623047\"/>\n       <use xlink:href=\"#DejaVuSans-2e\" x=\"127.246094\"/>\n       <use xlink:href=\"#DejaVuSans-35\" x=\"159.033203\"/>\n      </g>\n     </g>\n    </g>\n    <g id=\"xtick_7\">\n     <g id=\"line2d_7\">\n      <g>\n       <use xlink:href=\"#m0aa9013e6c\" x=\"291.970888\" y=\"224.64\" style=\"stroke: #000000; stroke-width: 0.8\"/>\n      </g>\n     </g>\n     <g id=\"text_7\">\n      <!-- 15.0 -->\n      <g transform=\"translate(280.838076 239.238438)scale(0.1 -0.1)\">\n       <use xlink:href=\"#DejaVuSans-31\"/>\n       <use xlink:href=\"#DejaVuSans-35\" x=\"63.623047\"/>\n       <use xlink:href=\"#DejaVuSans-2e\" x=\"127.246094\"/>\n       <use xlink:href=\"#DejaVuSans-30\" x=\"159.033203\"/>\n      </g>\n     </g>\n    </g>\n    <g id=\"xtick_8\">\n     <g id=\"line2d_8\">\n      <g>\n       <use xlink:href=\"#m0aa9013e6c\" x=\"332.018735\" y=\"224.64\" style=\"stroke: #000000; stroke-width: 0.8\"/>\n      </g>\n     </g>\n     <g id=\"text_8\">\n      <!-- 17.5 -->\n      <g transform=\"translate(320.885923 239.238438)scale(0.1 -0.1)\">\n       <use xlink:href=\"#DejaVuSans-31\"/>\n       <use xlink:href=\"#DejaVuSans-37\" x=\"63.623047\"/>\n       <use xlink:href=\"#DejaVuSans-2e\" x=\"127.246094\"/>\n       <use xlink:href=\"#DejaVuSans-35\" x=\"159.033203\"/>\n      </g>\n     </g>\n    </g>\n   </g>\n   <g id=\"matplotlib.axis_2\">\n    <g id=\"ytick_1\">\n     <g id=\"line2d_9\">\n      <defs>\n       <path id=\"m3b71b26103\" d=\"M 0 0 \nL -3.5 0 \n\" style=\"stroke: #000000; stroke-width: 0.8\"/>\n      </defs>\n      <g>\n       <use xlink:href=\"#m3b71b26103\" x=\"36.465625\" y=\"208.549309\" style=\"stroke: #000000; stroke-width: 0.8\"/>\n      </g>\n     </g>\n     <g id=\"text_9\">\n      <!-- 0.42 -->\n      <g transform=\"translate(7.2 212.348527)scale(0.1 -0.1)\">\n       <defs>\n        <path id=\"DejaVuSans-34\" d=\"M 2419 4116 \nL 825 1625 \nL 2419 1625 \nL 2419 4116 \nz\nM 2253 4666 \nL 3047 4666 \nL 3047 1625 \nL 3713 1625 \nL 3713 1100 \nL 3047 1100 \nL 3047 0 \nL 2419 0 \nL 2419 1100 \nL 313 1100 \nL 313 1709 \nL 2253 4666 \nz\n\" transform=\"scale(0.015625)\"/>\n       </defs>\n       <use xlink:href=\"#DejaVuSans-30\"/>\n       <use xlink:href=\"#DejaVuSans-2e\" x=\"63.623047\"/>\n       <use xlink:href=\"#DejaVuSans-34\" x=\"95.410156\"/>\n       <use xlink:href=\"#DejaVuSans-32\" x=\"159.033203\"/>\n      </g>\n     </g>\n    </g>\n    <g id=\"ytick_2\">\n     <g id=\"line2d_10\">\n      <g>\n       <use xlink:href=\"#m3b71b26103\" x=\"36.465625\" y=\"175.934992\" style=\"stroke: #000000; stroke-width: 0.8\"/>\n      </g>\n     </g>\n     <g id=\"text_10\">\n      <!-- 0.44 -->\n      <g transform=\"translate(7.2 179.734211)scale(0.1 -0.1)\">\n       <use xlink:href=\"#DejaVuSans-30\"/>\n       <use xlink:href=\"#DejaVuSans-2e\" x=\"63.623047\"/>\n       <use xlink:href=\"#DejaVuSans-34\" x=\"95.410156\"/>\n       <use xlink:href=\"#DejaVuSans-34\" x=\"159.033203\"/>\n      </g>\n     </g>\n    </g>\n    <g id=\"ytick_3\">\n     <g id=\"line2d_11\">\n      <g>\n       <use xlink:href=\"#m3b71b26103\" x=\"36.465625\" y=\"143.320676\" style=\"stroke: #000000; stroke-width: 0.8\"/>\n      </g>\n     </g>\n     <g id=\"text_11\">\n      <!-- 0.46 -->\n      <g transform=\"translate(7.2 147.119895)scale(0.1 -0.1)\">\n       <defs>\n        <path id=\"DejaVuSans-36\" d=\"M 2113 2584 \nQ 1688 2584 1439 2293 \nQ 1191 2003 1191 1497 \nQ 1191 994 1439 701 \nQ 1688 409 2113 409 \nQ 2538 409 2786 701 \nQ 3034 994 3034 1497 \nQ 3034 2003 2786 2293 \nQ 2538 2584 2113 2584 \nz\nM 3366 4563 \nL 3366 3988 \nQ 3128 4100 2886 4159 \nQ 2644 4219 2406 4219 \nQ 1781 4219 1451 3797 \nQ 1122 3375 1075 2522 \nQ 1259 2794 1537 2939 \nQ 1816 3084 2150 3084 \nQ 2853 3084 3261 2657 \nQ 3669 2231 3669 1497 \nQ 3669 778 3244 343 \nQ 2819 -91 2113 -91 \nQ 1303 -91 875 529 \nQ 447 1150 447 2328 \nQ 447 3434 972 4092 \nQ 1497 4750 2381 4750 \nQ 2619 4750 2861 4703 \nQ 3103 4656 3366 4563 \nz\n\" transform=\"scale(0.015625)\"/>\n       </defs>\n       <use xlink:href=\"#DejaVuSans-30\"/>\n       <use xlink:href=\"#DejaVuSans-2e\" x=\"63.623047\"/>\n       <use xlink:href=\"#DejaVuSans-34\" x=\"95.410156\"/>\n       <use xlink:href=\"#DejaVuSans-36\" x=\"159.033203\"/>\n      </g>\n     </g>\n    </g>\n    <g id=\"ytick_4\">\n     <g id=\"line2d_12\">\n      <g>\n       <use xlink:href=\"#m3b71b26103\" x=\"36.465625\" y=\"110.70636\" style=\"stroke: #000000; stroke-width: 0.8\"/>\n      </g>\n     </g>\n     <g id=\"text_12\">\n      <!-- 0.48 -->\n      <g transform=\"translate(7.2 114.505579)scale(0.1 -0.1)\">\n       <defs>\n        <path id=\"DejaVuSans-38\" d=\"M 2034 2216 \nQ 1584 2216 1326 1975 \nQ 1069 1734 1069 1313 \nQ 1069 891 1326 650 \nQ 1584 409 2034 409 \nQ 2484 409 2743 651 \nQ 3003 894 3003 1313 \nQ 3003 1734 2745 1975 \nQ 2488 2216 2034 2216 \nz\nM 1403 2484 \nQ 997 2584 770 2862 \nQ 544 3141 544 3541 \nQ 544 4100 942 4425 \nQ 1341 4750 2034 4750 \nQ 2731 4750 3128 4425 \nQ 3525 4100 3525 3541 \nQ 3525 3141 3298 2862 \nQ 3072 2584 2669 2484 \nQ 3125 2378 3379 2068 \nQ 3634 1759 3634 1313 \nQ 3634 634 3220 271 \nQ 2806 -91 2034 -91 \nQ 1263 -91 848 271 \nQ 434 634 434 1313 \nQ 434 1759 690 2068 \nQ 947 2378 1403 2484 \nz\nM 1172 3481 \nQ 1172 3119 1398 2916 \nQ 1625 2713 2034 2713 \nQ 2441 2713 2670 2916 \nQ 2900 3119 2900 3481 \nQ 2900 3844 2670 4047 \nQ 2441 4250 2034 4250 \nQ 1625 4250 1398 4047 \nQ 1172 3844 1172 3481 \nz\n\" transform=\"scale(0.015625)\"/>\n       </defs>\n       <use xlink:href=\"#DejaVuSans-30\"/>\n       <use xlink:href=\"#DejaVuSans-2e\" x=\"63.623047\"/>\n       <use xlink:href=\"#DejaVuSans-34\" x=\"95.410156\"/>\n       <use xlink:href=\"#DejaVuSans-38\" x=\"159.033203\"/>\n      </g>\n     </g>\n    </g>\n    <g id=\"ytick_5\">\n     <g id=\"line2d_13\">\n      <g>\n       <use xlink:href=\"#m3b71b26103\" x=\"36.465625\" y=\"78.092044\" style=\"stroke: #000000; stroke-width: 0.8\"/>\n      </g>\n     </g>\n     <g id=\"text_13\">\n      <!-- 0.50 -->\n      <g transform=\"translate(7.2 81.891263)scale(0.1 -0.1)\">\n       <use xlink:href=\"#DejaVuSans-30\"/>\n       <use xlink:href=\"#DejaVuSans-2e\" x=\"63.623047\"/>\n       <use xlink:href=\"#DejaVuSans-35\" x=\"95.410156\"/>\n       <use xlink:href=\"#DejaVuSans-30\" x=\"159.033203\"/>\n      </g>\n     </g>\n    </g>\n    <g id=\"ytick_6\">\n     <g id=\"line2d_14\">\n      <g>\n       <use xlink:href=\"#m3b71b26103\" x=\"36.465625\" y=\"45.477728\" style=\"stroke: #000000; stroke-width: 0.8\"/>\n      </g>\n     </g>\n     <g id=\"text_14\">\n      <!-- 0.52 -->\n      <g transform=\"translate(7.2 49.276947)scale(0.1 -0.1)\">\n       <use xlink:href=\"#DejaVuSans-30\"/>\n       <use xlink:href=\"#DejaVuSans-2e\" x=\"63.623047\"/>\n       <use xlink:href=\"#DejaVuSans-35\" x=\"95.410156\"/>\n       <use xlink:href=\"#DejaVuSans-32\" x=\"159.033203\"/>\n      </g>\n     </g>\n    </g>\n    <g id=\"ytick_7\">\n     <g id=\"line2d_15\">\n      <g>\n       <use xlink:href=\"#m3b71b26103\" x=\"36.465625\" y=\"12.863412\" style=\"stroke: #000000; stroke-width: 0.8\"/>\n      </g>\n     </g>\n     <g id=\"text_15\">\n      <!-- 0.54 -->\n      <g transform=\"translate(7.2 16.66263)scale(0.1 -0.1)\">\n       <use xlink:href=\"#DejaVuSans-30\"/>\n       <use xlink:href=\"#DejaVuSans-2e\" x=\"63.623047\"/>\n       <use xlink:href=\"#DejaVuSans-35\" x=\"95.410156\"/>\n       <use xlink:href=\"#DejaVuSans-34\" x=\"159.033203\"/>\n      </g>\n     </g>\n    </g>\n   </g>\n   <g id=\"line2d_16\">\n    <path d=\"M 51.683807 17.083636 \nL 67.702946 138.36885 \nL 83.722084 138.36885 \nL 99.741223 138.36885 \nL 115.760362 138.36885 \nL 131.779501 185.756262 \nL 147.798639 195.82804 \nL 163.817778 195.82804 \nL 179.836917 195.82804 \nL 195.856056 195.82804 \nL 211.875194 198.550583 \nL 227.894333 202.503685 \nL 243.913472 209.392188 \nL 259.932611 210.949476 \nL 275.951749 213.31381 \nL 291.970888 214.756364 \nL 307.990027 214.756364 \nL 324.009166 214.756364 \nL 340.028304 214.756364 \nL 356.047443 214.756364 \n\" clip-path=\"url(#pc25f186567)\" style=\"fill: none; stroke: #1f77b4; stroke-width: 1.5; stroke-linecap: square\"/>\n   </g>\n   <g id=\"patch_3\">\n    <path d=\"M 36.465625 224.64 \nL 36.465625 7.2 \n\" style=\"fill: none; stroke: #000000; stroke-width: 0.8; stroke-linejoin: miter; stroke-linecap: square\"/>\n   </g>\n   <g id=\"patch_4\">\n    <path d=\"M 371.265625 224.64 \nL 371.265625 7.2 \n\" style=\"fill: none; stroke: #000000; stroke-width: 0.8; stroke-linejoin: miter; stroke-linecap: square\"/>\n   </g>\n   <g id=\"patch_5\">\n    <path d=\"M 36.465625 224.64 \nL 371.265625 224.64 \n\" style=\"fill: none; stroke: #000000; stroke-width: 0.8; stroke-linejoin: miter; stroke-linecap: square\"/>\n   </g>\n   <g id=\"patch_6\">\n    <path d=\"M 36.465625 7.2 \nL 371.265625 7.2 \n\" style=\"fill: none; stroke: #000000; stroke-width: 0.8; stroke-linejoin: miter; stroke-linecap: square\"/>\n   </g>\n  </g>\n </g>\n <defs>\n  <clipPath id=\"pc25f186567\">\n   <rect x=\"36.465625\" y=\"7.2\" width=\"334.8\" height=\"217.44\"/>\n  </clipPath>\n </defs>\n</svg>\n",
      "image/png": "[encoded data removed]"
     },
     "metadata": {
      "needs_background": "light"
     }
    }
   ],
   "metadata": {}
  }
 ],
 "metadata": {
  "orig_nbformat": 4,
  "language_info": {
   "name": "python",
   "version": "3.9.1",
   "mimetype": "text/x-python",
   "codemirror_mode": {
    "name": "ipython",
    "version": 3
   },
   "pygments_lexer": "ipython3",
   "nbconvert_exporter": "python",
   "file_extension": ".py"
  },
  "kernelspec": {
   "name": "python3",
   "display_name": "Python 3.9.1 64-bit ('venv': venv)"
  },
  "interpreter": {
   "hash": "d0f6a11f750e143c658e3ba8c490a06ed5f9dc51708f0fef62d123fb40576efd"
  }
 },
 "nbformat": 4,
 "nbformat_minor": 2
}