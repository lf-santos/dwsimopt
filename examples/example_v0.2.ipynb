{
 "cells": [
  {
   "cell_type": "code",
   "execution_count": 1,
   "metadata": {},
   "outputs": [],
   "source": [
    "import numpy as np\n",
    "from pprint import pprint\n",
    "import os\n",
    "from pathlib import Path\n",
    "\n",
    "dir_path = str(Path(os.getcwd()).parent.absolute())\n",
    "\n",
    "from dwsimopt.solve_sim_opt import OptimiSim"
   ]
  },
  {
   "cell_type": "code",
   "execution_count": 2,
   "metadata": {},
   "outputs": [
    {
     "name": "stdout",
     "output_type": "stream",
     "text": [
      "added refs\n",
      "Simulation was loaded successfully\n"
     ]
    }
   ],
   "source": [
    "# Loading DWSIM simulation into Python (Simulation object)\n",
    "sim_smr = OptimiSim(path2sim= os.path.join(dir_path, \"examples\\\\SMR_LNG\\\\SMR.dwxmz\"), \n",
    "                    path2dwsim = \"C:\\\\Users\\\\lfsfr\\\\AppData\\\\Local\\\\DWSIM731\\\\\",\n",
    "                    savepath = os.path.join(dir_path, \"examples\\\\SMR_LNG\\\\SMR2.dwxmz\"),\n",
    "                    init_dwsim=True)"
   ]
  },
  {
   "cell_type": "code",
   "execution_count": 3,
   "metadata": {
    "scrolled": false
   },
   "outputs": [
    {
     "name": "stdout",
     "output_type": "stream",
     "text": [
      "Successfully added to <dwsimopt.solve_sim_opt.OptimiSim object at 0x000001D81551DCA0> a dof pddx function for CompoundMassFlow of Nitrogen (if applicable) from MR-1 in kg/s (if applicable)\n",
      "Successfully added to <dwsimopt.solve_sim_opt.OptimiSim object at 0x000001D81551DCA0> a dof pddx function for CompoundMassFlow of Methane (if applicable) from MR-1 in kg/s (if applicable)\n",
      "Successfully added to <dwsimopt.solve_sim_opt.OptimiSim object at 0x000001D81551DCA0> a dof pddx function for CompoundMassFlow of Ethane (if applicable) from MR-1 in kg/s (if applicable)\n",
      "Successfully added to <dwsimopt.solve_sim_opt.OptimiSim object at 0x000001D81551DCA0> a dof pddx function for CompoundMassFlow of Propane (if applicable) from MR-1 in kg/s (if applicable)\n",
      "Successfully added to <dwsimopt.solve_sim_opt.OptimiSim object at 0x000001D81551DCA0> a dof pddx function for CompoundMassFlow of Isopentane (if applicable) from MR-1 in Pa (if applicable)\n",
      "Successfully added to <dwsimopt.solve_sim_opt.OptimiSim object at 0x000001D81551DCA0> a dof pddx function for OutletPressure of Mixture (if applicable) from VALV-01 in Pa (if applicable)\n",
      "Successfully added to <dwsimopt.solve_sim_opt.OptimiSim object at 0x000001D81551DCA0> a dof pddx function for OutletPressure of Mixture (if applicable) from COMP-4 in Pa (if applicable)\n",
      "Successfully added to <dwsimopt.solve_sim_opt.OptimiSim object at 0x000001D81551DCA0> a dof pddx function for OutletTemperature of Mixture (if applicable) from COOL-08 in K (if applicable)\n",
      "Successfully added to <dwsimopt.solve_sim_opt.OptimiSim object at 0x000001D81551DCA0> a fobj pddx function for EnergyFlow of Mixture (if applicable) from Sum_W in kW (if applicable)\n",
      "Successfully created a getter pddx function for OutputVariable of mita (if applicable) from MITA1-Calc in °C (if applicable)\n",
      "Successfully added to <dwsimopt.solve_sim_opt.OptimiSim object at 0x000001D81551DCA0> a constraint pddx function for OutputVariable of mita (if applicable) from MITA1-Calc in °C (if applicable)\n",
      "Successfully created a getter pddx function for OutputVariable of mita (if applicable) from MITA2-Calc in °C (if applicable)\n",
      "Successfully added to <dwsimopt.solve_sim_opt.OptimiSim object at 0x000001D81551DCA0> a constraint pddx function for OutputVariable of mita (if applicable) from MITA2-Calc in °C (if applicable)\n",
      "{'dof': array([[<function _toDwsim.<locals>.<lambda> at 0x000001D81560AAF0>,\n",
      "        'MR-1', 'CompoundMassFlow', 'Nitrogen', 'kg/s'],\n",
      "       [<function _toDwsim.<locals>.<lambda> at 0x000001D81560AC10>,\n",
      "        'MR-1', 'CompoundMassFlow', 'Methane', 'kg/s'],\n",
      "       [<function _toDwsim.<locals>.<lambda> at 0x000001D82C8EE280>,\n",
      "        'MR-1', 'CompoundMassFlow', 'Ethane', 'kg/s'],\n",
      "       [<function _toDwsim.<locals>.<lambda> at 0x000001D81560ACA0>,\n",
      "        'MR-1', 'CompoundMassFlow', 'Propane', 'kg/s'],\n",
      "       [<function _toDwsim.<locals>.<lambda> at 0x000001D81475BB80>,\n",
      "        'MR-1', 'CompoundMassFlow', 'Isopentane', 'Pa'],\n",
      "       [<function _toDwsim.<locals>.<lambda> at 0x000001D82C8EE310>,\n",
      "        'VALV-01', 'OutletPressure', 'Mixture', 'Pa'],\n",
      "       [<function _toDwsim.<locals>.<lambda> at 0x000001D82C8EE3A0>,\n",
      "        'COMP-4', 'OutletPressure', 'Mixture', 'Pa'],\n",
      "       [<function _toDwsim.<locals>.<lambda> at 0x000001D82C8EE430>,\n",
      "        'COOL-08', 'OutletTemperature', 'Mixture', 'K']], dtype=object),\n",
      " 'f': array([<function _fromDwsim.<locals>.<lambda> at 0x000001D82C8EE4C0>,\n",
      "       'Sum_W', 'EnergyFlow', 'Mixture', 'kW'], dtype=object),\n",
      " 'f_val': array([], dtype=float64),\n",
      " 'flowsheet': <DWSIM.UI.Desktop.Shared.Flowsheet object at 0x000001D82C8BC190>,\n",
      " 'force_convergence': True,\n",
      " 'g': array([[<function <lambda> at 0x000001D82C8EE5E0>, 'MITA1-Calc',\n",
      "        'OutputVariable', 'mita', '°C'],\n",
      "       [<function <lambda> at 0x000001D82C8EE700>, 'MITA2-Calc',\n",
      "        'OutputVariable', 'mita', '°C']], dtype=object),\n",
      " 'g_val': array([], dtype=float64),\n",
      " 'interf': <DWSIM.Automation.Automation2 object at 0x000001D82C8B85E0>,\n",
      " 'interface': <DWSIM.Automation.Automation2 object at 0x000001D82C8B85E0>,\n",
      " 'n_dof': 8,\n",
      " 'n_f': 1,\n",
      " 'n_g': 2,\n",
      " 'path2dwsim': 'C:\\\\Users\\\\lfsfr\\\\AppData\\\\Local\\\\DWSIM731\\\\',\n",
      " 'path2sim': 'd:\\\\DoutoradoUEM\\\\PESQUISA\\\\dwsimopt\\\\examples\\\\SMR_LNG\\\\SMR.dwxmz',\n",
      " 'savepath': 'd:\\\\DoutoradoUEM\\\\PESQUISA\\\\dwsimopt\\\\examples\\\\SMR_LNG\\\\SMR.dwxmz',\n",
      " 'verbose': True,\n",
      " 'x_val': array([], dtype=float64)}\n"
     ]
    }
   ],
   "source": [
    "from dwsimopt.py2dwsim import * \n",
    "\n",
    "# Assign DoF:\n",
    "create_pddx( [\"MR-1\", \"CompoundMassFlow\", \"Nitrogen\", \"kg/s\"],    sim_smr, element=\"dof\" )\n",
    "create_pddx( [\"MR-1\", \"CompoundMassFlow\", \"Methane\", \"kg/s\"],     sim_smr, element=\"dof\" )\n",
    "create_pddx( [\"MR-1\", \"CompoundMassFlow\", \"Ethane\", \"kg/s\"],      sim_smr, element=\"dof\" )\n",
    "create_pddx( [\"MR-1\", \"CompoundMassFlow\", \"Propane\", \"kg/s\"],     sim_smr, element=\"dof\" )\n",
    "create_pddx( [\"MR-1\", \"CompoundMassFlow\", \"Isopentane\", \"Pa\"],    sim_smr, element=\"dof\" )\n",
    "create_pddx( [\"VALV-01\", \"OutletPressure\", \"Mixture\", \"Pa\"],      sim_smr, element=\"dof\" )\n",
    "create_pddx( [\"COMP-4\", \"OutletPressure\", \"Mixture\", \"Pa\"],       sim_smr, element=\"dof\" )\n",
    "create_pddx( [\"COOL-08\", \"OutletTemperature\", \"Mixture\", \"K\"],    sim_smr, element=\"dof\" )\n",
    "\n",
    "# Assign F\n",
    "create_pddx( [\"Sum_W\", \"EnergyFlow\", \"Mixture\", \"kW\"], sim_smr, element=\"fobj\" )\n",
    "\n",
    "# adding constraints (g_i <= 0):\n",
    "g1 = create_pddx( [\"MITA1-Calc\", \"OutputVariable\", \"mita\", \"°C\"], sim_smr, element=\"constraint\", assign=False )\n",
    "assign_pddx( lambda: 3-g1[0]() , [\"MITA1-Calc\", \"OutputVariable\", \"mita\", \"°C\"], sim_smr, element=\"constraint\" )\n",
    "g2 = create_pddx( [\"MITA2-Calc\", \"OutputVariable\", \"mita\", \"°C\"], sim_smr, element=\"constraint\", assign=False )\n",
    "assign_pddx( lambda: 3-g2[0]() , [\"MITA2-Calc\", \"OutputVariable\", \"mita\", \"°C\"], sim_smr, element=\"constraint\" )\n",
    "# assign_pddx( lambda: 3 - min(g2[0](),g1[0]()), [\"MITA_Overall\", \"OutputVariable\", 'mita', \"°C\"], sim_smr, element=\"constraint\" )\n",
    "\n",
    "\n",
    "pprint(vars(sim_smr))"
   ]
  },
  {
   "cell_type": "code",
   "execution_count": 4,
   "metadata": {},
   "outputs": [
    {
     "name": "stdout",
     "output_type": "stream",
     "text": [
      "opt_functions calculation at x = [6.94444444e-05 1.94444444e-04 2.77777778e-04 3.05555556e-04\n",
      " 5.00000000e-04 2.50000000e+05 5.00000000e+06 2.13150000e+02]\n",
      "               Simulation converged in 3 iterations\n",
      "f = [0.38910439], g = [-1.78887878 -3.47846713] at x = [6.94444444e-05 1.94444444e-04 2.77777778e-04 3.05555556e-04\n",
      " 5.00000000e-04 2.50000000e+05 5.00000000e+06 2.13150000e+02]\n",
      "[6.94444444e-05 1.94444444e-04 2.77777778e-04 3.05555556e-04\n",
      " 5.00000000e-04 2.50000000e+05 5.00000000e+06 2.13150000e+02] [0.38910439] [-1.78887878 -3.47846713]\n",
      "{'dof': array([[<function _toDwsim.<locals>.<lambda> at 0x000001D81560AAF0>,\n",
      "        'MR-1', 'CompoundMassFlow', 'Nitrogen', 'kg/s'],\n",
      "       [<function _toDwsim.<locals>.<lambda> at 0x000001D81560AC10>,\n",
      "        'MR-1', 'CompoundMassFlow', 'Methane', 'kg/s'],\n",
      "       [<function _toDwsim.<locals>.<lambda> at 0x000001D82C8EE280>,\n",
      "        'MR-1', 'CompoundMassFlow', 'Ethane', 'kg/s'],\n",
      "       [<function _toDwsim.<locals>.<lambda> at 0x000001D81560ACA0>,\n",
      "        'MR-1', 'CompoundMassFlow', 'Propane', 'kg/s'],\n",
      "       [<function _toDwsim.<locals>.<lambda> at 0x000001D81475BB80>,\n",
      "        'MR-1', 'CompoundMassFlow', 'Isopentane', 'Pa'],\n",
      "       [<function _toDwsim.<locals>.<lambda> at 0x000001D82C8EE310>,\n",
      "        'VALV-01', 'OutletPressure', 'Mixture', 'Pa'],\n",
      "       [<function _toDwsim.<locals>.<lambda> at 0x000001D82C8EE3A0>,\n",
      "        'COMP-4', 'OutletPressure', 'Mixture', 'Pa'],\n",
      "       [<function _toDwsim.<locals>.<lambda> at 0x000001D82C8EE430>,\n",
      "        'COOL-08', 'OutletTemperature', 'Mixture', 'K']], dtype=object),\n",
      " 'f': array([<function _fromDwsim.<locals>.<lambda> at 0x000001D82C8EE4C0>,\n",
      "       'Sum_W', 'EnergyFlow', 'Mixture', 'kW'], dtype=object),\n",
      " 'f_val': array([0.38910439]),\n",
      " 'flowsheet': <DWSIM.UI.Desktop.Shared.Flowsheet object at 0x000001D82C8BC190>,\n",
      " 'force_convergence': True,\n",
      " 'g': array([[<function <lambda> at 0x000001D82C8EE5E0>, 'MITA1-Calc',\n",
      "        'OutputVariable', 'mita', '°C'],\n",
      "       [<function <lambda> at 0x000001D82C8EE700>, 'MITA2-Calc',\n",
      "        'OutputVariable', 'mita', '°C']], dtype=object),\n",
      " 'g_val': array([-1.78887878, -3.47846713]),\n",
      " 'interf': <DWSIM.Automation.Automation2 object at 0x000001D82C8B85E0>,\n",
      " 'interface': <DWSIM.Automation.Automation2 object at 0x000001D82C8B85E0>,\n",
      " 'n_dof': 8,\n",
      " 'n_f': 1,\n",
      " 'n_g': 2,\n",
      " 'path2dwsim': 'C:\\\\Users\\\\lfsfr\\\\AppData\\\\Local\\\\DWSIM731\\\\',\n",
      " 'path2sim': 'd:\\\\DoutoradoUEM\\\\PESQUISA\\\\dwsimopt\\\\examples\\\\SMR_LNG\\\\SMR.dwxmz',\n",
      " 'savepath': 'd:\\\\DoutoradoUEM\\\\PESQUISA\\\\dwsimopt\\\\examples\\\\SMR_LNG\\\\SMR.dwxmz',\n",
      " 'verbose': True,\n",
      " 'x_val': array([6.94444444e-05, 1.94444444e-04, 2.77777778e-04, 3.05555556e-04,\n",
      "       5.00000000e-04, 2.50000000e+05, 5.00000000e+06, 2.13150000e+02])}\n"
     ]
    }
   ],
   "source": [
    "# Initial simulation optimization setup\n",
    "# Initial guess of optimization\n",
    "x0 = np.array( [0.25/3600, 0.70/3600, 1.0/3600, 1.10/3600, 1.80/3600, 2.50e5, 50.0e5, -60+273.15] )\n",
    "\n",
    "# Testing for simulation at x0\n",
    "sim_smr.calculate_optProblem(1.0*x0)\n",
    "print(sim_smr.x_val,\n",
    "      sim_smr.f_val,\n",
    "      sim_smr.g_val)\n",
    "\n",
    "# Test saving simulation at x0 in 'savepath'\n",
    "sim_smr.interface.SaveFlowsheet(sim_smr.flowsheet,sim_smr.savepath,True)\n",
    "\n",
    "# Inspecting simulation object\n",
    "pprint(vars(sim_smr))"
   ]
  },
  {
   "cell_type": "code",
   "execution_count": 5,
   "metadata": {},
   "outputs": [],
   "source": [
    "# Setup for optimization\n",
    "# decision variables bounds\n",
    "bounds = np.array( [0.75*np.asarray(x0), 1.25*np.asarray(x0)] )   # 50 % around base case\n",
    "bounds[0][-1] = 153     # precool temperature low limit manually\n",
    "bounds[1][-1] = 253     # precool temperature upper limit manually\n",
    "\n",
    "xlo = bounds[0]\n",
    "xup = bounds[1]"
   ]
  },
  {
   "cell_type": "code",
   "execution_count": 6,
   "metadata": {},
   "outputs": [
    {
     "name": "stdout",
     "output_type": "stream",
     "text": [
      "Starting global optimization\n",
      "Iter: 0, Best fit: [30870.98664106] at [6.47504375e-05 1.67081287e-04 2.08333333e-04 3.81944444e-04\n",
      " 3.95330665e-04 2.41825790e+05 3.75000000e+06 2.53000000e+02]\n",
      "Iter: 1, Best fit: [30870.98664106] at [6.47504375e-05 1.67081287e-04 2.08333333e-04 3.81944444e-04\n",
      " 3.95330665e-04 2.41825790e+05 3.75000000e+06 2.53000000e+02]\n",
      "Iter: 2, Best fit: [30870.98664106] at [6.47504375e-05 1.67081287e-04 2.08333333e-04 3.81944444e-04\n",
      " 3.95330665e-04 2.41825790e+05 3.75000000e+06 2.53000000e+02]\n",
      "PSO finished with x* = [6.47504375e-05 1.67081287e-04 2.08333333e-04 3.81944444e-04\n",
      " 3.95330665e-04 2.41825790e+05 3.75000000e+06 2.53000000e+02]\n",
      "fobj = self.f[0]()\n",
      "g_0 = 12.571324994545648\n",
      "g_1 = 18.299359027951596\n"
     ]
    },
    {
     "data": {
      "image/png": "[encoded data removed]",
      "text/plain": [
       "<Figure size 640x480 with 1 Axes>"
      ]
     },
     "metadata": {},
     "output_type": "display_data"
    },
    {
     "data": {
      "text/plain": [
       "<sko.PSO.PSO at 0x1d84b55c2e0>"
      ]
     },
     "execution_count": 6,
     "metadata": {},
     "output_type": "execute_result"
    }
   ],
   "source": [
    "# Global optimization with PSO\n",
    "sim_smr.verbose = False\n",
    "sim_smr.PSO(x0, xlo, xup, pop=1, max_ite=3)\n"
   ]
  },
  {
   "cell_type": "code",
   "execution_count": 7,
   "metadata": {},
   "outputs": [
    {
     "name": "stdout",
     "output_type": "stream",
     "text": [
      "Starting global optimization\n",
      "GA finished with x* = [5.56846597e-05 1.73869067e-04 2.86360799e-04 2.40138007e-04\n",
      " 5.50946276e-04 2.29106613e+05 4.35358211e+06 2.28890588e+02]\n",
      "fobj = self.f[0]()\n",
      "g_0 = -0.961705327255487\n",
      "g_1 = -3.068492499310267\n"
     ]
    },
    {
     "data": {
      "image/png": "[encoded data removed]",
      "text/plain": [
       "<Figure size 640x480 with 1 Axes>"
      ]
     },
     "metadata": {},
     "output_type": "display_data"
    },
    {
     "data": {
      "text/plain": [
       "<sko.GA.GA at 0x1d865900b80>"
      ]
     },
     "execution_count": 7,
     "metadata": {},
     "output_type": "execute_result"
    }
   ],
   "source": [
    "# Global optimization with GA\n",
    "sim_smr.verbose = False\n",
    "sim_smr.GA(x0, xlo, xup, pop=2, max_ite=3, prob_mut=0.2)"
   ]
  }
 ],
 "metadata": {
  "kernelspec": {
   "display_name": "Python 3.8.10 ('venv': venv)",
   "language": "python",
   "name": "python3"
  },
  "language_info": {
   "codemirror_mode": {
    "name": "ipython",
    "version": 3
   },
   "file_extension": ".py",
   "mimetype": "text/x-python",
   "name": "python",
   "nbconvert_exporter": "python",
   "pygments_lexer": "ipython3",
   "version": "3.8.10"
  },
  "vscode": {
   "interpreter": {
    "hash": "663639aa8c46727de12fe54cf77e5a356b06aa70f302b3eb9ecd26dc5dbbccb9"
   }
  }
 },
 "nbformat": 4,
 "nbformat_minor": 2
}
